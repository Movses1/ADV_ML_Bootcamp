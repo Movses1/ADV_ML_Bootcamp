{
 "cells": [
  {
   "cell_type": "code",
   "execution_count": 1,
   "id": "58bf46ac",
   "metadata": {},
   "outputs": [],
   "source": [
    "import pandas as pd\n",
    "import numpy as np\n",
    "import matplotlib.pyplot as plt\n",
    "\n",
    "from sklearn.model_selection import train_test_split\n",
    "from sklearn.linear_model import LinearRegression as LR, Lasso, Ridge, ElasticNet\n",
    "from sklearn.metrics import mean_absolute_error as mae, mean_squared_error as mse, r2_score\n",
    "from sklearn.model_selection import KFold\n",
    "from sklearn.preprocessing import PolynomialFeatures as PF, MinMaxScaler\n",
    "from sklearn.preprocessing import OneHotEncoder\n",
    "\n",
    "import pickle"
   ]
  },
  {
   "cell_type": "markdown",
   "id": "21447415",
   "metadata": {},
   "source": [
    "### To test this solution just fix the names of X_test's and Y_test's files at the end and run the whole thing\n",
    "# \n",
    "# Lets load the pipeline and the models\n",
    "# \n",
    "### **Warning:**  *the Encoders and Scalers should be fitted only on training data*"
   ]
  },
  {
   "cell_type": "code",
   "execution_count": 2,
   "id": "cc78fdf9-daaa-4f75-b49a-4e24ec513842",
   "metadata": {},
   "outputs": [],
   "source": [
    "building_type_dict = dict([('monolit', 2), ('panel', 1), ('stone', 1.44), ('other', 1.68)])\n",
    "condition_dict = dict([('good', 1), ('newly repaired', 1.4), ('zero condition', 1.3)])\n",
    "\n",
    "poly = PF(5, include_bias = False)\n",
    "ohe = OneHotEncoder(min_frequency=10, sparse_output=False, handle_unknown='infrequent_if_exist')\n",
    "poly.set_output(transform = 'pandas')\n",
    "ohe.set_output(transform='pandas')\n",
    "\n",
    "def housing_pipeline(df_orig, fit_enc=True):\n",
    "    df1 = df_orig._get_numeric_data()\n",
    "    if 'price' in df1.columns:\n",
    "        df1.drop('price', axis = 1, inplace = True)\n",
    "        \n",
    "    df1['url_num'] = df_orig.url.map(lambda x: x[31:]).map(lambda x: int(x[:x.find('/')]))\n",
    "    df1['building_type_val'] = df_orig.building_type.map(lambda x: building_type_dict[x])\n",
    "    df1['condition_val'] = df_orig.condition.map(lambda x: condition_dict[x])\n",
    "    \n",
    "    \n",
    "    ohe_feats = ['building_type', 'condition', 'district', 'street']\n",
    "    if fit_enc:\n",
    "        poly.fit(df1)\n",
    "        ohe.fit(df_orig[ohe_feats])\n",
    "    df1 = poly.transform(df1)\n",
    "    df_ohe = ohe.transform(df_orig[ohe_feats])\n",
    "    \n",
    "    len_temp = df1.shape[1]\n",
    "    df1 = pd.concat([df1, df_ohe], axis=1)\n",
    "    df_orig['url_script'] = df_orig.url.map(lambda x: x[34:]).map(lambda x: x[x.find('-'):])\n",
    "    df1['english_seller'] = (df_orig['url_script'] == '-for-sale-in-Yerevan')\n",
    "    df1['is_elite'] = ((df1['area']>=115) & (df1['ceiling_height']>=2.9) & (df_orig['building_type']=='monolit') & (df_orig['condition'] == 'newly repaired'))*1\n",
    "    df1['big_ceiling'] = ((df1['ceiling_height']>2.8) & (df1['ceiling_height']<3.3))*1\n",
    "\n",
    "    for i in df1.copy().iloc[:, len_temp:].columns:\n",
    "        temp_df = pd.concat([df1['area^3']*df1[i],\n",
    "                             df1['area^4']*df1[i],\n",
    "                             df1['ceiling_height^2']*df1[i],\n",
    "                             df1['max_floor^3']*df1[i],\n",
    "                             df1['max_floor^4']*df1[i]],\n",
    "                           axis=1)\n",
    "        temp_df.columns = [f'area^3*{i}', f'area^4*{i}', f'ceiling_height^2*{i}', f'max_floor^3*{i}', f'max_floor^4*{i}']\n",
    "        df1 = pd.concat([df1, temp_df], axis=1)\n",
    "    \n",
    "    return df1"
   ]
  },
  {
   "cell_type": "code",
   "execution_count": 3,
   "id": "fbe438e8-222c-4e80-8088-556769d40e53",
   "metadata": {},
   "outputs": [],
   "source": [
    "x_scaler = MinMaxScaler()\n",
    "x_scaler.set_output(transform='pandas')\n",
    "y_scaler = MinMaxScaler()"
   ]
  },
  {
   "cell_type": "code",
   "execution_count": 4,
   "id": "78708372",
   "metadata": {},
   "outputs": [],
   "source": [
    "X = housing_pipeline(pd.read_csv('houses_train.csv', index_col='Unnamed: 0').drop(['price'],axis=1))\n",
    "Y = pd.read_csv('houses_train.csv')['price'].values.reshape(-1, 1)\n",
    "X = X[Y<400000]\n",
    "Y = Y[Y<400000].reshape(-1,1)\n",
    "\n",
    "X = x_scaler.fit_transform(X)\n",
    "Y = y_scaler.fit_transform(Y)\n",
    "\n",
    "reg_l = 0\n",
    "reg_r = 0\n",
    "with open('reg_l.pkl', 'rb') as file:\n",
    "    reg_l = pickle.load(file)\n",
    "coefs = dict((X.columns[ind],i) for ind, i in enumerate(np.abs(reg_l.coef_)) if i>0)\n",
    "\n",
    "with open('reg_r.pkl', 'rb') as file:\n",
    "    reg_r = pickle.load(file)\n"
   ]
  },
  {
   "cell_type": "code",
   "execution_count": 5,
   "id": "4c966046",
   "metadata": {},
   "outputs": [
    {
     "data": {
      "text/plain": [
       "190"
      ]
     },
     "execution_count": 5,
     "metadata": {},
     "output_type": "execute_result"
    }
   ],
   "source": [
    "# should be 190\n",
    "len(coefs)"
   ]
  },
  {
   "cell_type": "code",
   "execution_count": 6,
   "id": "e2b57e00",
   "metadata": {},
   "outputs": [
    {
     "name": "stdout",
     "output_type": "stream",
     "text": [
      "mae and rmse of Lasso in train data\n"
     ]
    },
    {
     "data": {
      "text/plain": [
       "(13534.100709361946, 20112.81324238748)"
      ]
     },
     "execution_count": 6,
     "metadata": {},
     "output_type": "execute_result"
    }
   ],
   "source": [
    "print('mae and rmse of Lasso in train data')\n",
    "mae(y_scaler.inverse_transform(Y), y_scaler.inverse_transform(reg_l.predict(X).reshape(-1,1))), np.sqrt(mse(y_scaler.inverse_transform(Y), y_scaler.inverse_transform(reg_l.predict(X).reshape(-1,1))))"
   ]
  },
  {
   "cell_type": "code",
   "execution_count": 7,
   "id": "05bfd395",
   "metadata": {},
   "outputs": [
    {
     "name": "stdout",
     "output_type": "stream",
     "text": [
      "mae and rmse of Ridge in train data\n"
     ]
    },
    {
     "data": {
      "text/plain": [
       "(13324.13847568569, 19641.5233146517)"
      ]
     },
     "execution_count": 7,
     "metadata": {},
     "output_type": "execute_result"
    }
   ],
   "source": [
    "print('mae and rmse of Ridge in train data')\n",
    "mae(y_scaler.inverse_transform(Y), y_scaler.inverse_transform(reg_r.predict(X[coefs.keys()]).reshape(-1,1))), np.sqrt(mse(y_scaler.inverse_transform(Y), y_scaler.inverse_transform(reg_r.predict(X[coefs.keys()]).reshape(-1,1))))"
   ]
  },
  {
   "cell_type": "markdown",
   "id": "70928c90",
   "metadata": {},
   "source": [
    "# \n",
    "# Now we need to load the test data, filenames should be matching\n",
    "# "
   ]
  },
  {
   "cell_type": "code",
   "execution_count": 8,
   "id": "5a3ec7c9",
   "metadata": {},
   "outputs": [],
   "source": [
    "X_test = pd.read_csv('houses_test.csv', index_col='Unnamed: 0')\n",
    "Y_test = pd.read_csv('houses_test_answers.csv', index_col='Unnamed: 0').values\n",
    "\n",
    "X_test = housing_pipeline(X_test, fit_enc=False)\n",
    "X_test = x_scaler.transform(X_test)"
   ]
  },
  {
   "cell_type": "code",
   "execution_count": 9,
   "id": "768e91bc",
   "metadata": {},
   "outputs": [],
   "source": [
    "pred1 = reg_l.predict(X_test).reshape(-1,1)\n",
    "pred2 = reg_r.predict(X_test[coefs.keys()]).reshape(-1,1)\n",
    "\n",
    "pred1 = y_scaler.inverse_transform(pred1)\n",
    "pred2 = y_scaler.inverse_transform(pred2)\n",
    "\n",
    "\n",
    "ans = np.rint((pred1+pred2)/2000) * 1000"
   ]
  },
  {
   "cell_type": "markdown",
   "id": "fa5022cf",
   "metadata": {},
   "source": [
    "# \n",
    "# comparing the results\n",
    "# "
   ]
  },
  {
   "cell_type": "code",
   "execution_count": 10,
   "id": "70dc22f2",
   "metadata": {},
   "outputs": [
    {
     "data": {
      "text/plain": [
       "19353.44332321951"
      ]
     },
     "execution_count": 10,
     "metadata": {},
     "output_type": "execute_result"
    }
   ],
   "source": [
    "np.sqrt(mse(Y_test, ans))"
   ]
  },
  {
   "cell_type": "code",
   "execution_count": null,
   "id": "68d6aa45",
   "metadata": {},
   "outputs": [],
   "source": []
  }
 ],
 "metadata": {
  "kernelspec": {
   "display_name": "Python 3 (ipykernel)",
   "language": "python",
   "name": "python3"
  },
  "language_info": {
   "codemirror_mode": {
    "name": "ipython",
    "version": 3
   },
   "file_extension": ".py",
   "mimetype": "text/x-python",
   "name": "python",
   "nbconvert_exporter": "python",
   "pygments_lexer": "ipython3",
   "version": "3.10.4"
  }
 },
 "nbformat": 4,
 "nbformat_minor": 5
}

{
 "cells": [
  {
   "cell_type": "code",
   "execution_count": 1,
   "id": "3d48c9f5-c76b-4da3-8761-a7ad667bb39d",
   "metadata": {},
   "outputs": [],
   "source": [
    "import pandas as pd\n",
    "import numpy as np\n",
    "import matplotlib.pyplot as plt\n",
    "\n",
    "from sklearn.model_selection import train_test_split\n",
    "from sklearn.linear_model import LinearRegression as LR, Lasso, Ridge, ElasticNet\n",
    "from sklearn.metrics import mean_absolute_error as mae, mean_squared_error as mse, r2_score\n",
    "from sklearn.model_selection import KFold\n",
    "from sklearn.preprocessing import PolynomialFeatures as PF, MinMaxScaler\n",
    "from sklearn.preprocessing import OneHotEncoder"
   ]
  },
  {
   "cell_type": "code",
   "execution_count": 129,
   "id": "cc78fdf9-daaa-4f75-b49a-4e24ec513842",
   "metadata": {},
   "outputs": [],
   "source": [
    "building_type_dict = dict([('monolit', 2), ('panel', 1), ('stone', 1.44), ('other', '1.68')])\n",
    "condition_dict = dict([('good', 1), ('newly repaired', 1.4), ('zero condition', 1.3)])\n",
    "\n",
    "poly = PF(5, include_bias = False)\n",
    "ohe = OneHotEncoder(min_frequency=10, sparse_output=False, handle_unknown='infrequent_if_exist')\n",
    "poly.set_output(transform = 'pandas')\n",
    "ohe.set_output(transform='pandas')\n",
    "\n",
    "def housing_pipeline(df_orig, fit_enc=True):\n",
    "    #df_orig.drop(df_orig[df_orig['price']>360000].index, inplace = True)\n",
    "    #df_orig.index = np.arange(len(df_orig))\n",
    "    df1 = df_orig._get_numeric_data()\n",
    "    #df1.drop('price', axis = 1, inplace = True)\n",
    "    df1['url_num'] = df_orig.url.map(lambda x: x[31:]).map(lambda x: int(x[:x.find('/')]))\n",
    "    df1['building_type'] = df_orig.building_type.map(lambda x: building_type_dict[x])\n",
    "    df1['condition'] = df_orig.condition.map(lambda x: condition_dict[x])\n",
    "    \n",
    "    \n",
    "    ohe_feats = ['building_type', 'condition', 'district', 'street']\n",
    "    if fit_enc:\n",
    "        poly.fit(df1)\n",
    "        ohe.fit(df_orig[ohe_feats])\n",
    "    df1 = poly.transform(df1)\n",
    "    df_ohe = ohe.transform(df_orig[ohe_feats])\n",
    "    \n",
    "    len_temp = df1.shape[1]\n",
    "    df1 = pd.concat([df1, df_ohe], axis=1)\n",
    "    df_orig['url_script'] = df_orig.url.map(lambda x: x[34:]).map(lambda x: x[x.find('-'):])\n",
    "    df1['english_seller'] = (df_orig['url_script'] == '-for-sale-in-Yerevan')*1\n",
    "    df1['is_elite'] = ((df1['area']>=115) & (df1['ceiling_height']>=2.9) & (df_orig['building_type']=='monolit') & (df_orig['condition'] == 'newly repaired'))*1\n",
    "    df1['big_ceiling'] = ((df1['ceiling_height']>2.8) & (df1['ceiling_height']<3.3))*1\n",
    "\n",
    "    for i in df1.copy().iloc[:, len_temp:].columns:\n",
    "        temp_df = pd.concat([df1['area^3']*df1[i],\n",
    "                             df1['area^4']*df1[i],\n",
    "                             df1['ceiling_height^2']*df1[i],\n",
    "                             df1['max_floor^3']*df1[i],\n",
    "                             df1['max_floor^4']*df1[i]],\n",
    "                           axis=1)\n",
    "        temp_df.columns = [f'area^3*{i}', f'area^4*{i}', f'ceiling_height^2*{i}', f'max_floor^3*{i}', f'max_floor^4*{i}']\n",
    "        df1 = pd.concat([df1, temp_df], axis=1)\n",
    "    \n",
    "    return df1"
   ]
  },
  {
   "cell_type": "code",
   "execution_count": 22,
   "id": "1aa869c4-c081-44ff-9930-533b9d3ecd0f",
   "metadata": {},
   "outputs": [],
   "source": [
    "def reset_indx(df_to_reset):\n",
    "    df_to_reset.index = np.arange(len(df_to_reset))"
   ]
  },
  {
   "cell_type": "code",
   "execution_count": 23,
   "id": "fbe438e8-222c-4e80-8088-556769d40e53",
   "metadata": {},
   "outputs": [],
   "source": [
    "x_scaler = MinMaxScaler()\n",
    "x_scaler.set_output(transform='pandas')\n",
    "y_scaler = MinMaxScaler()"
   ]
  },
  {
   "cell_type": "code",
   "execution_count": 5,
   "id": "a23dd5a6",
   "metadata": {},
   "outputs": [
    {
     "ename": "ZeroDivisionError",
     "evalue": "division by zero",
     "output_type": "error",
     "traceback": [
      "\u001b[1;31m---------------------------------------------------------------------------\u001b[0m",
      "\u001b[1;31mZeroDivisionError\u001b[0m                         Traceback (most recent call last)",
      "Input \u001b[1;32mIn [5]\u001b[0m, in \u001b[0;36m<cell line: 1>\u001b[1;34m()\u001b[0m\n\u001b[1;32m----> 1\u001b[0m \u001b[38;5;241;43m1\u001b[39;49m\u001b[38;5;241;43m/\u001b[39;49m\u001b[38;5;241;43m0\u001b[39;49m\n",
      "\u001b[1;31mZeroDivisionError\u001b[0m: division by zero"
     ]
    }
   ],
   "source": [
    "1/0"
   ]
  },
  {
   "cell_type": "code",
   "execution_count": 84,
   "id": "c5f6ba13-acdd-4279-a177-ddcbe53e8ad3",
   "metadata": {},
   "outputs": [],
   "source": [
    "poly_deg = 1\n",
    "\n",
    "def kf_testing(x, y, features_kf, splits=10, alpha_l=1e-6, alpha_r = 0.1):\n",
    "    y=y.reshape(-1,1)\n",
    "    reg_l_kf = Lasso(alpha = alpha_l, max_iter=int(1e9))\n",
    "    reg = Ridge(alpha = alpha_r, max_iter = int(1e9))\n",
    "    cv = KFold(n_splits=splits, random_state=1, shuffle=True)\n",
    "    train_score_l=[]\n",
    "    test_score_l=[]\n",
    "    train_score=[]\n",
    "    test_score=[]\n",
    "    sm_lasso = 0\n",
    "    sm_combined = 0\n",
    "    \n",
    "    for train_index, test_index in cv.split(x):\n",
    "        x_train, x_test, y_train, y_test = x.loc[train_index, :], x.loc[test_index, :], y[train_index], y[test_index]\n",
    "        print('a')\n",
    "        \n",
    "        x_train = housing_pipeline(x_train)\n",
    "        x_test = housing_pipeline(x_test, fit_enc=False)\n",
    "        \n",
    "        x_train = x_scaler.fit_transform(x_train)\n",
    "        y_train = y_scaler.fit_transform(y_train)\n",
    "        x_test = x_scaler.transform(x_test)\n",
    "        \n",
    "        reg_l_kf.fit(x_train, y_train)\n",
    "        y_pred1_l = reg_l_kf.predict(x_train).reshape(-1,1)\n",
    "        y_pred2_l = reg_l_kf.predict(x_test).reshape(-1,1)\n",
    "        y_train = y_scaler.inverse_transform(y_train)\n",
    "        #y_test = np.e**y_test\n",
    "        y_pred1_l = y_scaler.inverse_transform(y_pred1_l)\n",
    "        y_pred2_l = y_scaler.inverse_transform(y_pred2_l)      \n",
    "        train_score_l.append(np.array([mae(y_train, np.rint(y_pred1_l/1000)*1000), np.sqrt(mse(y_train, np.rint(y_pred1_l/1000)*1000))]))\n",
    "        test_score_l.append(np.array([mae(y_test, np.rint(y_pred2_l/1000)*1000), np.sqrt(mse(y_test, np.rint(y_pred2_l/1000)*1000))]))\n",
    "        print(train_score_l[-1][1], test_score_l[-1][1], end=' | ')\n",
    "        \n",
    "        y_train = y_scaler.transform(y_train)\n",
    "        coefs_kf = dict((x_train.columns[ind], i) for ind, i in enumerate(np.abs(reg_l_kf.coef_)) if i>0)\n",
    "        reg.fit(x_train[coefs_kf.keys()], y_train)\n",
    "\n",
    "        \n",
    "        y_pred1 = reg.predict(x_train[coefs_kf.keys()]).reshape(-1,1)\n",
    "        y_pred2 = reg.predict(x_test[coefs_kf.keys()]).reshape(-1,1)\n",
    "        y_train = y_scaler.inverse_transform(y_train)\n",
    "        #y_test = np.e**y_test\n",
    "        y_pred1 = y_scaler.inverse_transform(y_pred1)\n",
    "        y_pred2 = y_scaler.inverse_transform(y_pred2)\n",
    "        #y_pred1 = y_scaler.inverse_transform(y_pred1)\n",
    "        #y_pred2 = y_scaler.inverse_transform(y_pred2)\n",
    "\n",
    "        train_score.append(np.array([mae(y_train, np.rint(y_pred1/1000)*1000), np.sqrt(mse(y_train, np.rint(y_pred1/1000)*1000))]))\n",
    "        test_score.append(np.array([mae(y_test, np.rint(y_pred2/1000)*1000), np.sqrt(mse(y_test, np.rint(y_pred2/1000)*1000))]))\n",
    "        print(train_score[-1][1], test_score[-1][1], end=' | ')\n",
    "        \n",
    "        sm_combined+=np.sqrt(mse(y_test, np.rint((y_pred2_l+y_pred2)/2000)*1000))\n",
    "        print(np.sqrt(mse(y_test, np.rint((y_pred2_l+y_pred2)/2000)*1000)))\n",
    "        \n",
    "        \n",
    "    print('Ridge train =', np.array(train_score).mean(axis = 0))\n",
    "    print('Ridge validation =', np.array(test_score).mean(axis = 0))\n",
    "    print('Lasso validation =', np.array(test_score_l).mean(axis = 0))\n",
    "    print('Lasso + Ridge validation =', sm_combined/splits)"
   ]
  },
  {
   "cell_type": "markdown",
   "id": "ad348738",
   "metadata": {},
   "source": [
    "# hyperparameter selection"
   ]
  },
  {
   "cell_type": "code",
   "execution_count": null,
   "id": "5ad42c82",
   "metadata": {},
   "outputs": [],
   "source": [
    "df = pd.read_csv('houses_train.csv')\n",
    "X_train, X_test, Y_train, Y_test = train_test_split(df.drop(['price'], axis = 1), df['price'], test_size=0.1, random_state=1)\n",
    "reset_indx(X_train)\n",
    "reset_indx(X_test)\n",
    "reset_indx(Y_train)\n",
    "reset_indx(Y_test)\n",
    "\n",
    "#for poly_deg in range(4, 5):\n",
    "poly_deg = 4\n",
    "df_x_train = housing_pipeline(X_train, deg = poly_deg)\n",
    "y = Y_train\n",
    "\n",
    "df_x_train = x_scaler.fit_transform(df_x_train)\n",
    "y = y.values.reshape(-1,1)\n",
    "y = y_scaler.fit_transform(y)\n",
    "\n",
    "print(df_x_train.shape, y.shape)\n",
    "\n",
    "for l_a in np.arange(0.00001, 0.001, 0.00001):\n",
    "    print(l_a)\n",
    "    kf_testing(x=df_x_train, y=y, lasso_alpha=l_a, features_kf=df_x_train.columns)"
   ]
  },
  {
   "cell_type": "code",
   "execution_count": null,
   "id": "52db82f8",
   "metadata": {},
   "outputs": [],
   "source": [
    "mn = 3e9\n",
    "kk = 0\n",
    "for k,v in all_train_scores.items():\n",
    "    if mn > v[1]:\n",
    "        kk=k\n",
    "        mn=v[1]\n",
    "mn, kk"
   ]
  },
  {
   "cell_type": "markdown",
   "id": "42262452",
   "metadata": {},
   "source": [
    "# end of hyperparameter selection\n",
    "# \n",
    "# testing out new models"
   ]
  },
  {
   "cell_type": "code",
   "execution_count": 95,
   "id": "d1c4aebb",
   "metadata": {},
   "outputs": [
    {
     "data": {
      "text/html": [
       "<style>#sk-container-id-20 {color: black;background-color: white;}#sk-container-id-20 pre{padding: 0;}#sk-container-id-20 div.sk-toggleable {background-color: white;}#sk-container-id-20 label.sk-toggleable__label {cursor: pointer;display: block;width: 100%;margin-bottom: 0;padding: 0.3em;box-sizing: border-box;text-align: center;}#sk-container-id-20 label.sk-toggleable__label-arrow:before {content: \"▸\";float: left;margin-right: 0.25em;color: #696969;}#sk-container-id-20 label.sk-toggleable__label-arrow:hover:before {color: black;}#sk-container-id-20 div.sk-estimator:hover label.sk-toggleable__label-arrow:before {color: black;}#sk-container-id-20 div.sk-toggleable__content {max-height: 0;max-width: 0;overflow: hidden;text-align: left;background-color: #f0f8ff;}#sk-container-id-20 div.sk-toggleable__content pre {margin: 0.2em;color: black;border-radius: 0.25em;background-color: #f0f8ff;}#sk-container-id-20 input.sk-toggleable__control:checked~div.sk-toggleable__content {max-height: 200px;max-width: 100%;overflow: auto;}#sk-container-id-20 input.sk-toggleable__control:checked~label.sk-toggleable__label-arrow:before {content: \"▾\";}#sk-container-id-20 div.sk-estimator input.sk-toggleable__control:checked~label.sk-toggleable__label {background-color: #d4ebff;}#sk-container-id-20 div.sk-label input.sk-toggleable__control:checked~label.sk-toggleable__label {background-color: #d4ebff;}#sk-container-id-20 input.sk-hidden--visually {border: 0;clip: rect(1px 1px 1px 1px);clip: rect(1px, 1px, 1px, 1px);height: 1px;margin: -1px;overflow: hidden;padding: 0;position: absolute;width: 1px;}#sk-container-id-20 div.sk-estimator {font-family: monospace;background-color: #f0f8ff;border: 1px dotted black;border-radius: 0.25em;box-sizing: border-box;margin-bottom: 0.5em;}#sk-container-id-20 div.sk-estimator:hover {background-color: #d4ebff;}#sk-container-id-20 div.sk-parallel-item::after {content: \"\";width: 100%;border-bottom: 1px solid gray;flex-grow: 1;}#sk-container-id-20 div.sk-label:hover label.sk-toggleable__label {background-color: #d4ebff;}#sk-container-id-20 div.sk-serial::before {content: \"\";position: absolute;border-left: 1px solid gray;box-sizing: border-box;top: 0;bottom: 0;left: 50%;z-index: 0;}#sk-container-id-20 div.sk-serial {display: flex;flex-direction: column;align-items: center;background-color: white;padding-right: 0.2em;padding-left: 0.2em;position: relative;}#sk-container-id-20 div.sk-item {position: relative;z-index: 1;}#sk-container-id-20 div.sk-parallel {display: flex;align-items: stretch;justify-content: center;background-color: white;position: relative;}#sk-container-id-20 div.sk-item::before, #sk-container-id-20 div.sk-parallel-item::before {content: \"\";position: absolute;border-left: 1px solid gray;box-sizing: border-box;top: 0;bottom: 0;left: 50%;z-index: -1;}#sk-container-id-20 div.sk-parallel-item {display: flex;flex-direction: column;z-index: 1;position: relative;background-color: white;}#sk-container-id-20 div.sk-parallel-item:first-child::after {align-self: flex-end;width: 50%;}#sk-container-id-20 div.sk-parallel-item:last-child::after {align-self: flex-start;width: 50%;}#sk-container-id-20 div.sk-parallel-item:only-child::after {width: 0;}#sk-container-id-20 div.sk-dashed-wrapped {border: 1px dashed gray;margin: 0 0.4em 0.5em 0.4em;box-sizing: border-box;padding-bottom: 0.4em;background-color: white;}#sk-container-id-20 div.sk-label label {font-family: monospace;font-weight: bold;display: inline-block;line-height: 1.2em;}#sk-container-id-20 div.sk-label-container {text-align: center;}#sk-container-id-20 div.sk-container {/* jupyter's `normalize.less` sets `[hidden] { display: none; }` but bootstrap.min.css set `[hidden] { display: none !important; }` so we also need the `!important` here to be able to override the default hidden behavior on the sphinx rendered scikit-learn.org. See: https://github.com/scikit-learn/scikit-learn/issues/21755 */display: inline-block !important;position: relative;}#sk-container-id-20 div.sk-text-repr-fallback {display: none;}</style><div id=\"sk-container-id-20\" class=\"sk-top-container\"><div class=\"sk-text-repr-fallback\"><pre>Lasso(alpha=6e-06, max_iter=1000000000)</pre><b>In a Jupyter environment, please rerun this cell to show the HTML representation or trust the notebook. <br />On GitHub, the HTML representation is unable to render, please try loading this page with nbviewer.org.</b></div><div class=\"sk-container\" hidden><div class=\"sk-item\"><div class=\"sk-estimator sk-toggleable\"><input class=\"sk-toggleable__control sk-hidden--visually\" id=\"sk-estimator-id-20\" type=\"checkbox\" checked><label for=\"sk-estimator-id-20\" class=\"sk-toggleable__label sk-toggleable__label-arrow\">Lasso</label><div class=\"sk-toggleable__content\"><pre>Lasso(alpha=6e-06, max_iter=1000000000)</pre></div></div></div></div></div>"
      ],
      "text/plain": [
       "Lasso(alpha=6e-06, max_iter=1000000000)"
      ]
     },
     "execution_count": 95,
     "metadata": {},
     "output_type": "execute_result"
    }
   ],
   "source": [
    "df = housing_pipeline(pd.read_csv('houses_train.csv'))\n",
    "Y = pd.read_csv('houses_train.csv')['price']\n",
    "Y = Y[Y<=360000]\n",
    "X_train, X_test, Y_train, Y_test = train_test_split(df, Y.values.reshape(-1,1),\n",
    "                                                    test_size=0.1,\n",
    "                                                    random_state=1)\n",
    "X = x_scaler.fit_transform(X_train)\n",
    "Y = y_scaler.fit_transform(Y_train)\n",
    "reg = Lasso(alpha = 6e-6, max_iter = int(1e9))\n",
    "reg.fit(X, Y)"
   ]
  },
  {
   "cell_type": "code",
   "execution_count": 96,
   "id": "91ae4543",
   "metadata": {},
   "outputs": [
    {
     "data": {
      "text/plain": [
       "23505.081057984025"
      ]
     },
     "execution_count": 96,
     "metadata": {},
     "output_type": "execute_result"
    }
   ],
   "source": [
    "np.sqrt(mse(y_scaler.inverse_transform(Y), y_scaler.inverse_transform(reg.predict(X).reshape(-1,1))))"
   ]
  },
  {
   "cell_type": "code",
   "execution_count": 97,
   "id": "7c28132d",
   "metadata": {},
   "outputs": [
    {
     "data": {
      "text/plain": [
       "24081.37460954546"
      ]
     },
     "execution_count": 97,
     "metadata": {},
     "output_type": "execute_result"
    }
   ],
   "source": [
    "np.sqrt(mse(Y_test, y_scaler.inverse_transform(reg.predict(x_scaler.transform(X_test)).reshape(-1,1))))"
   ]
  },
  {
   "cell_type": "code",
   "execution_count": 99,
   "id": "63d6f47d-55b6-441a-8ece-2896a0d54809",
   "metadata": {},
   "outputs": [
    {
     "data": {
      "text/html": [
       "<style>#sk-container-id-22 {color: black;background-color: white;}#sk-container-id-22 pre{padding: 0;}#sk-container-id-22 div.sk-toggleable {background-color: white;}#sk-container-id-22 label.sk-toggleable__label {cursor: pointer;display: block;width: 100%;margin-bottom: 0;padding: 0.3em;box-sizing: border-box;text-align: center;}#sk-container-id-22 label.sk-toggleable__label-arrow:before {content: \"▸\";float: left;margin-right: 0.25em;color: #696969;}#sk-container-id-22 label.sk-toggleable__label-arrow:hover:before {color: black;}#sk-container-id-22 div.sk-estimator:hover label.sk-toggleable__label-arrow:before {color: black;}#sk-container-id-22 div.sk-toggleable__content {max-height: 0;max-width: 0;overflow: hidden;text-align: left;background-color: #f0f8ff;}#sk-container-id-22 div.sk-toggleable__content pre {margin: 0.2em;color: black;border-radius: 0.25em;background-color: #f0f8ff;}#sk-container-id-22 input.sk-toggleable__control:checked~div.sk-toggleable__content {max-height: 200px;max-width: 100%;overflow: auto;}#sk-container-id-22 input.sk-toggleable__control:checked~label.sk-toggleable__label-arrow:before {content: \"▾\";}#sk-container-id-22 div.sk-estimator input.sk-toggleable__control:checked~label.sk-toggleable__label {background-color: #d4ebff;}#sk-container-id-22 div.sk-label input.sk-toggleable__control:checked~label.sk-toggleable__label {background-color: #d4ebff;}#sk-container-id-22 input.sk-hidden--visually {border: 0;clip: rect(1px 1px 1px 1px);clip: rect(1px, 1px, 1px, 1px);height: 1px;margin: -1px;overflow: hidden;padding: 0;position: absolute;width: 1px;}#sk-container-id-22 div.sk-estimator {font-family: monospace;background-color: #f0f8ff;border: 1px dotted black;border-radius: 0.25em;box-sizing: border-box;margin-bottom: 0.5em;}#sk-container-id-22 div.sk-estimator:hover {background-color: #d4ebff;}#sk-container-id-22 div.sk-parallel-item::after {content: \"\";width: 100%;border-bottom: 1px solid gray;flex-grow: 1;}#sk-container-id-22 div.sk-label:hover label.sk-toggleable__label {background-color: #d4ebff;}#sk-container-id-22 div.sk-serial::before {content: \"\";position: absolute;border-left: 1px solid gray;box-sizing: border-box;top: 0;bottom: 0;left: 50%;z-index: 0;}#sk-container-id-22 div.sk-serial {display: flex;flex-direction: column;align-items: center;background-color: white;padding-right: 0.2em;padding-left: 0.2em;position: relative;}#sk-container-id-22 div.sk-item {position: relative;z-index: 1;}#sk-container-id-22 div.sk-parallel {display: flex;align-items: stretch;justify-content: center;background-color: white;position: relative;}#sk-container-id-22 div.sk-item::before, #sk-container-id-22 div.sk-parallel-item::before {content: \"\";position: absolute;border-left: 1px solid gray;box-sizing: border-box;top: 0;bottom: 0;left: 50%;z-index: -1;}#sk-container-id-22 div.sk-parallel-item {display: flex;flex-direction: column;z-index: 1;position: relative;background-color: white;}#sk-container-id-22 div.sk-parallel-item:first-child::after {align-self: flex-end;width: 50%;}#sk-container-id-22 div.sk-parallel-item:last-child::after {align-self: flex-start;width: 50%;}#sk-container-id-22 div.sk-parallel-item:only-child::after {width: 0;}#sk-container-id-22 div.sk-dashed-wrapped {border: 1px dashed gray;margin: 0 0.4em 0.5em 0.4em;box-sizing: border-box;padding-bottom: 0.4em;background-color: white;}#sk-container-id-22 div.sk-label label {font-family: monospace;font-weight: bold;display: inline-block;line-height: 1.2em;}#sk-container-id-22 div.sk-label-container {text-align: center;}#sk-container-id-22 div.sk-container {/* jupyter's `normalize.less` sets `[hidden] { display: none; }` but bootstrap.min.css set `[hidden] { display: none !important; }` so we also need the `!important` here to be able to override the default hidden behavior on the sphinx rendered scikit-learn.org. See: https://github.com/scikit-learn/scikit-learn/issues/21755 */display: inline-block !important;position: relative;}#sk-container-id-22 div.sk-text-repr-fallback {display: none;}</style><div id=\"sk-container-id-22\" class=\"sk-top-container\"><div class=\"sk-text-repr-fallback\"><pre>Lasso(alpha=6e-06, max_iter=1000000000)</pre><b>In a Jupyter environment, please rerun this cell to show the HTML representation or trust the notebook. <br />On GitHub, the HTML representation is unable to render, please try loading this page with nbviewer.org.</b></div><div class=\"sk-container\" hidden><div class=\"sk-item\"><div class=\"sk-estimator sk-toggleable\"><input class=\"sk-toggleable__control sk-hidden--visually\" id=\"sk-estimator-id-22\" type=\"checkbox\" checked><label for=\"sk-estimator-id-22\" class=\"sk-toggleable__label sk-toggleable__label-arrow\">Lasso</label><div class=\"sk-toggleable__content\"><pre>Lasso(alpha=6e-06, max_iter=1000000000)</pre></div></div></div></div></div>"
      ],
      "text/plain": [
       "Lasso(alpha=6e-06, max_iter=1000000000)"
      ]
     },
     "execution_count": 99,
     "metadata": {},
     "output_type": "execute_result"
    }
   ],
   "source": [
    "df = housing_pipeline(pd.read_csv('houses_train.csv'))\n",
    "Y = pd.read_csv('houses_train.csv')['price']\n",
    "Y = Y[Y<=360000]\n",
    "X_train, X_test, Y_train, Y_test = train_test_split(x_scaler.fit_transform(df),\n",
    "                                                    y_scaler.fit_transform(Y.values.reshape(-1, 1)),\n",
    "                                                    test_size=0.1,\n",
    "                                                    random_state=1)\n",
    "reg = Lasso(alpha = 6e-6, max_iter = int(1e9))\n",
    "reg.fit(X_train, Y_train)"
   ]
  },
  {
   "cell_type": "code",
   "execution_count": 100,
   "id": "8b7d636c",
   "metadata": {},
   "outputs": [
    {
     "data": {
      "text/plain": [
       "23507.936799406376"
      ]
     },
     "execution_count": 100,
     "metadata": {},
     "output_type": "execute_result"
    }
   ],
   "source": [
    "np.sqrt(mse(y_scaler.inverse_transform(Y_train), y_scaler.inverse_transform(reg.predict(X_train).reshape(-1,1))))"
   ]
  },
  {
   "cell_type": "code",
   "execution_count": 101,
   "id": "294b229d",
   "metadata": {},
   "outputs": [
    {
     "data": {
      "text/plain": [
       "24077.85544912366"
      ]
     },
     "execution_count": 101,
     "metadata": {},
     "output_type": "execute_result"
    }
   ],
   "source": [
    "np.sqrt(mse(y_scaler.inverse_transform(Y_test), y_scaler.inverse_transform(reg.predict(X_test).reshape(-1,1))))"
   ]
  },
  {
   "cell_type": "code",
   "execution_count": null,
   "id": "22f0cdde",
   "metadata": {},
   "outputs": [],
   "source": [
    "df = housing_pipeline(pd.read_csv('houses_train.csv'))\n",
    "Y = pd.read_csv('houses_train.csv')['price']\n",
    "Y = Y[Y<=360000]\n",
    "\n",
    "X = x_scaler.fit_transform(df)\n",
    "Y = y_scaler.fit_transform(Y)\n",
    "reg = Lasso(alpha = 6e-6, max_iter = int(1e9))\n",
    "reg.fit(X, Y)"
   ]
  },
  {
   "cell_type": "code",
   "execution_count": null,
   "id": "3f9ef1c6",
   "metadata": {},
   "outputs": [],
   "source": [
    "np.sqrt(mse(y_scaler.inverse_transform(Y), y_scaler.inverse_transform(reg.predict(X).reshape(-1,1))))"
   ]
  },
  {
   "cell_type": "markdown",
   "id": "dc6ab331",
   "metadata": {},
   "source": [
    "# kf testing the results of lasso"
   ]
  },
  {
   "cell_type": "code",
   "execution_count": 11,
   "id": "78708372",
   "metadata": {},
   "outputs": [
    {
     "data": {
      "text/plain": [
       "(13647.77161060595, 20478.01831953173)"
      ]
     },
     "execution_count": 11,
     "metadata": {},
     "output_type": "execute_result"
    }
   ],
   "source": [
    "df = housing_pipeline(pd.read_csv('houses_train.csv').drop(['price'],axis=1))\n",
    "Y = pd.read_csv('houses_train.csv')['price'].values.reshape(-1, 1)\n",
    "#Y = Y[Y<=360000].values.reshape(-1,1)\n",
    "\n",
    "df = x_scaler.fit_transform(df)\n",
    "Y = y_scaler.fit_transform(Y)\n",
    "\n",
    "reg_l = Lasso(alpha=3e-5, max_iter=int(1e9))\n",
    "reg_l.fit(df, Y)\n",
    "mae(y_scaler.inverse_transform(Y), y_scaler.inverse_transform(reg_l.predict(df).reshape(-1,1))), np.sqrt(mse(y_scaler.inverse_transform(Y), y_scaler.inverse_transform(reg_l.predict(df).reshape(-1,1))))"
   ]
  },
  {
   "cell_type": "code",
   "execution_count": 12,
   "id": "7c33d49a",
   "metadata": {},
   "outputs": [],
   "source": [
    "coefs = dict((df.columns[ind],i) for ind, i in enumerate(np.abs(reg_l.coef_)) if i>0)"
   ]
  },
  {
   "cell_type": "code",
   "execution_count": 13,
   "id": "4c966046",
   "metadata": {},
   "outputs": [
    {
     "data": {
      "text/plain": [
       "208"
      ]
     },
     "execution_count": 13,
     "metadata": {},
     "output_type": "execute_result"
    }
   ],
   "source": [
    "len(coefs)"
   ]
  },
  {
   "cell_type": "code",
   "execution_count": 130,
   "id": "8edaad7c",
   "metadata": {},
   "outputs": [
    {
     "name": "stdout",
     "output_type": "stream",
     "text": [
      "a\n",
      "20006.184555142547 21314.040536744786 | 19549.836449525646 21957.839329087004 | 21467.7226552329\n",
      "a\n",
      "20095.37072757669 20893.074450640335 | 19629.58234802947 20742.269885429607 | 20697.858826458356\n",
      "a\n",
      "20165.354358061046 20441.01819871016 | 19646.55592675818 20257.730006098907 | 20191.29082054934\n",
      "a\n",
      "20097.28167725194 21596.850233309488 | 19639.753455323844 21455.468766727052 | 21420.334731278126\n",
      "a\n",
      "20064.531298545815 21354.472178023974 | 19571.336800151217 20983.485268229393 | 21051.353163205447\n",
      "a\n",
      "20053.899215489186 21293.342861091587 | 19542.64892973759 21125.27231067093 | 21076.39651838046\n",
      "a\n",
      "20032.47826835847 21347.2109888388 | 19532.19702124306 21470.491866792432 | 21283.688989505554\n",
      "a\n",
      "20251.149143187125 19493.557397253073 | 19718.35686415548 19710.38254321818 | 19469.627115073366\n",
      "a\n",
      "19737.14304452147 23732.833855391465 | 19248.111763151366 23635.2577057165 | 23552.8002752031\n",
      "a\n",
      "19954.71935228706 22411.482442993038 | 19492.90355427372 22186.900398672213 | 22192.17468922038\n",
      "Ridge train = [13292.53503841 19557.12831123]\n",
      "Ridge validation = [14345.35539439 21352.50980806]\n",
      "Lasso validation = [14283.81702966 21387.7883143 ]\n",
      "Lasso + Ridge validation = 21240.3247784107\n"
     ]
    }
   ],
   "source": [
    "df = pd.read_csv('houses_train.csv', index_col='Unnamed: 0').drop(['price'],axis=1)\n",
    "Y = pd.read_csv('houses_train.csv')['price'].values.reshape(-1, 1)\n",
    "df = df[Y<=360000]\n",
    "df.index = np.arange(len(df))\n",
    "Y = Y[Y<=360000]\n",
    "\n",
    "kf_testing(df, Y, coefs.keys(), splits=10, alpha_l = 4.5e-5, alpha_r = 1e-6)"
   ]
  },
  {
   "cell_type": "code",
   "execution_count": 136,
   "id": "505a0518",
   "metadata": {},
   "outputs": [
    {
     "name": "stdout",
     "output_type": "stream",
     "text": [
      "a\n",
      "19900.43971711775 21318.187540267114 | 19435.596495012465 22949.839215166627 | 21793.455898548993\n",
      "a\n",
      "19998.830519415038 20831.153592636198 | 19538.84084932409 20906.452592441405 | 20706.630822033796\n",
      "a\n",
      "20053.623215508625 20337.896277638945 | 19588.870334321928 20203.1785865492 | 20139.60339728665\n",
      "a\n",
      "20000.730784809133 21561.436408551264 | 19570.026691030314 21482.08416332084 | 21399.07334442312\n",
      "a\n",
      "19951.870747691613 21252.634613195605 | 19491.692101028995 20854.444658201763 | 20932.431058097383\n",
      "a\n",
      "19937.615086930586 21220.565737039153 | 19474.91432975767 21022.43968239652 | 21016.938173768318\n",
      "a\n",
      "19922.241106001053 21324.33391695975 | 19422.377931041825 21464.818214976804 | 21285.765689821917\n",
      "a\n",
      "20127.87196161585 19467.315685527883 | 19620.52478169179 20065.3427580991 | 19661.52537317489\n",
      "a\n",
      "19626.167224419325 23677.75716512739 | 19159.348851452312 23727.860897424678 | 23550.962436073194\n",
      "a\n",
      "19856.080406728586 22311.064506222054 | 19410.58475222231 22132.94835777683 | 22152.451205019763\n",
      "Ridge train = [13218.40320723 19471.27771169]\n",
      "Ridge validation = [14378.02593547 21480.94091264]\n",
      "Lasso validation = [14242.75899359 21330.23454432]\n",
      "Lasso + Ridge validation = 21263.883739824803\n"
     ]
    }
   ],
   "source": [
    "df = pd.read_csv('houses_train.csv', index_col='Unnamed: 0').drop(['price'],axis=1)\n",
    "Y = pd.read_csv('houses_train.csv')['price'].values.reshape(-1, 1)\n",
    "df = df[Y<400000]\n",
    "df.index = np.arange(len(df))\n",
    "Y = Y[Y<400000]\n",
    "\n",
    "kf_testing(df, Y, coefs.keys(), splits=10, alpha_l = 4e-5, alpha_r = 1e-6)"
   ]
  },
  {
   "cell_type": "code",
   "execution_count": 68,
   "id": "be6c6d1e",
   "metadata": {},
   "outputs": [
    {
     "name": "stdout",
     "output_type": "stream",
     "text": [
      "a\n",
      "[13432.88444444 19998.24257392] [13630.54091816 20290.97928443]\n",
      "a\n",
      "[13362.49766719 19887.07009115] [14218.598      21579.54753933]\n",
      "a\n",
      "[13464.8371473 20173.5036755] [13552.898      18788.98877007]\n",
      "a\n",
      "[13406.17218396 19971.74337614] [13773.         20832.27159961]\n",
      "a\n",
      "[13158.02066208 19721.19544019] [15562.5        22871.20296355]\n",
      "a\n",
      "[13344.55476561 19984.84737373] [14261.88       20611.52942409]\n",
      "a\n",
      "[13272.87958232 19715.36928343] [14817.7        23024.93919645]\n",
      "a\n",
      "[13543.47922684 19968.69081888] [13381.402      20783.49248808]\n",
      "a\n",
      "[13477.73828038 19781.49277452] [13496.002     22404.3488636]\n",
      "a\n",
      "[13326.73028216 19935.72056023] [14703.58       21179.30216509]\n",
      "train = [13378.97942423 19913.78759677]\n",
      "test = [14139.81009182 21236.66022943]\n"
     ]
    }
   ],
   "source": [
    "df = housing_pipeline(pd.read_csv('houses_train.csv'))\n",
    "Y = pd.read_csv('houses_train.csv')['price'].values.reshape(-1, 1)\n",
    "#Y = Y[Y<=360000]\n",
    "\n",
    "kf_testing(df, Y, coefs.keys(), alpha = 1e-6)"
   ]
  },
  {
   "cell_type": "code",
   "execution_count": 99,
   "id": "d07a8bdf",
   "metadata": {},
   "outputs": [
    {
     "data": {
      "text/html": [
       "<div>\n",
       "<style scoped>\n",
       "    .dataframe tbody tr th:only-of-type {\n",
       "        vertical-align: middle;\n",
       "    }\n",
       "\n",
       "    .dataframe tbody tr th {\n",
       "        vertical-align: top;\n",
       "    }\n",
       "\n",
       "    .dataframe thead th {\n",
       "        text-align: right;\n",
       "    }\n",
       "</style>\n",
       "<table border=\"1\" class=\"dataframe\">\n",
       "  <thead>\n",
       "    <tr style=\"text-align: right;\">\n",
       "      <th></th>\n",
       "      <th>Unnamed: 0</th>\n",
       "      <th>condition</th>\n",
       "      <th>district</th>\n",
       "      <th>max_floor</th>\n",
       "      <th>street</th>\n",
       "      <th>num_rooms</th>\n",
       "      <th>region</th>\n",
       "      <th>area</th>\n",
       "      <th>url</th>\n",
       "      <th>num_bathrooms</th>\n",
       "      <th>building_type</th>\n",
       "      <th>floor</th>\n",
       "      <th>ceiling_height</th>\n",
       "    </tr>\n",
       "  </thead>\n",
       "  <tbody>\n",
       "    <tr>\n",
       "      <th>0</th>\n",
       "      <td>4598</td>\n",
       "      <td>newly repaired</td>\n",
       "      <td>Arabkir</td>\n",
       "      <td>6</td>\n",
       "      <td>Kievyan St</td>\n",
       "      <td>3</td>\n",
       "      <td>Yerevan</td>\n",
       "      <td>96.0</td>\n",
       "      <td>http://www.myrealty.am/en/item/26229/3-senyaka...</td>\n",
       "      <td>1</td>\n",
       "      <td>stone</td>\n",
       "      <td>4</td>\n",
       "      <td>3.0</td>\n",
       "    </tr>\n",
       "    <tr>\n",
       "      <th>1</th>\n",
       "      <td>5940</td>\n",
       "      <td>good</td>\n",
       "      <td>Arabkir</td>\n",
       "      <td>14</td>\n",
       "      <td>Mamikoniants St</td>\n",
       "      <td>3</td>\n",
       "      <td>Yerevan</td>\n",
       "      <td>78.0</td>\n",
       "      <td>http://www.myrealty.am/en/item/32897/3-senyaka...</td>\n",
       "      <td>1</td>\n",
       "      <td>panel</td>\n",
       "      <td>10</td>\n",
       "      <td>2.8</td>\n",
       "    </tr>\n",
       "    <tr>\n",
       "      <th>2</th>\n",
       "      <td>2302</td>\n",
       "      <td>newly repaired</td>\n",
       "      <td>Qanaqer-Zeytun</td>\n",
       "      <td>9</td>\n",
       "      <td>M. Melikyan St</td>\n",
       "      <td>3</td>\n",
       "      <td>Yerevan</td>\n",
       "      <td>97.0</td>\n",
       "      <td>http://www.myrealty.am/en/item/1459/apartment-...</td>\n",
       "      <td>1</td>\n",
       "      <td>panel</td>\n",
       "      <td>1</td>\n",
       "      <td>2.8</td>\n",
       "    </tr>\n",
       "    <tr>\n",
       "      <th>3</th>\n",
       "      <td>5628</td>\n",
       "      <td>good</td>\n",
       "      <td>Center</td>\n",
       "      <td>4</td>\n",
       "      <td>Spendiaryan St</td>\n",
       "      <td>3</td>\n",
       "      <td>Yerevan</td>\n",
       "      <td>80.0</td>\n",
       "      <td>http://www.myrealty.am/en/item/2099/3-senyakan...</td>\n",
       "      <td>1</td>\n",
       "      <td>stone</td>\n",
       "      <td>2</td>\n",
       "      <td>3.2</td>\n",
       "    </tr>\n",
       "    <tr>\n",
       "      <th>4</th>\n",
       "      <td>760</td>\n",
       "      <td>zero condition</td>\n",
       "      <td>Center</td>\n",
       "      <td>9</td>\n",
       "      <td>Ler. Kamsar St</td>\n",
       "      <td>3</td>\n",
       "      <td>Yerevan</td>\n",
       "      <td>107.0</td>\n",
       "      <td>http://www.myrealty.am/en/item/22722/3-senyaka...</td>\n",
       "      <td>1</td>\n",
       "      <td>monolit</td>\n",
       "      <td>9</td>\n",
       "      <td>3.0</td>\n",
       "    </tr>\n",
       "    <tr>\n",
       "      <th>...</th>\n",
       "      <td>...</td>\n",
       "      <td>...</td>\n",
       "      <td>...</td>\n",
       "      <td>...</td>\n",
       "      <td>...</td>\n",
       "      <td>...</td>\n",
       "      <td>...</td>\n",
       "      <td>...</td>\n",
       "      <td>...</td>\n",
       "      <td>...</td>\n",
       "      <td>...</td>\n",
       "      <td>...</td>\n",
       "      <td>...</td>\n",
       "    </tr>\n",
       "    <tr>\n",
       "      <th>4993</th>\n",
       "      <td>3585</td>\n",
       "      <td>newly repaired</td>\n",
       "      <td>Arabkir</td>\n",
       "      <td>5</td>\n",
       "      <td>Griboedov St</td>\n",
       "      <td>3</td>\n",
       "      <td>Yerevan</td>\n",
       "      <td>97.0</td>\n",
       "      <td>http://www.myrealty.am/en/item/36852/3-senyaka...</td>\n",
       "      <td>1</td>\n",
       "      <td>stone</td>\n",
       "      <td>4</td>\n",
       "      <td>2.8</td>\n",
       "    </tr>\n",
       "    <tr>\n",
       "      <th>4994</th>\n",
       "      <td>3291</td>\n",
       "      <td>newly repaired</td>\n",
       "      <td>Arabkir</td>\n",
       "      <td>4</td>\n",
       "      <td>Orbeli Yeghbayrner   St</td>\n",
       "      <td>3</td>\n",
       "      <td>Yerevan</td>\n",
       "      <td>71.0</td>\n",
       "      <td>http://www.myrealty.am/en/item/13933/Apartment...</td>\n",
       "      <td>1</td>\n",
       "      <td>stone</td>\n",
       "      <td>4</td>\n",
       "      <td>2.8</td>\n",
       "    </tr>\n",
       "    <tr>\n",
       "      <th>4995</th>\n",
       "      <td>5959</td>\n",
       "      <td>zero condition</td>\n",
       "      <td>Center</td>\n",
       "      <td>5</td>\n",
       "      <td>Mashtots Ave</td>\n",
       "      <td>1</td>\n",
       "      <td>Yerevan</td>\n",
       "      <td>40.0</td>\n",
       "      <td>http://www.myrealty.am/en/item/31190/1-senyaka...</td>\n",
       "      <td>1</td>\n",
       "      <td>stone</td>\n",
       "      <td>2</td>\n",
       "      <td>3.0</td>\n",
       "    </tr>\n",
       "    <tr>\n",
       "      <th>4996</th>\n",
       "      <td>542</td>\n",
       "      <td>newly repaired</td>\n",
       "      <td>Center</td>\n",
       "      <td>14</td>\n",
       "      <td>Argishti St</td>\n",
       "      <td>4</td>\n",
       "      <td>Yerevan</td>\n",
       "      <td>118.0</td>\n",
       "      <td>http://www.myrealty.am/en/item/25905/4-senyaka...</td>\n",
       "      <td>2</td>\n",
       "      <td>monolit</td>\n",
       "      <td>14</td>\n",
       "      <td>3.0</td>\n",
       "    </tr>\n",
       "    <tr>\n",
       "      <th>4997</th>\n",
       "      <td>4593</td>\n",
       "      <td>newly repaired</td>\n",
       "      <td>Arabkir</td>\n",
       "      <td>5</td>\n",
       "      <td>Mamikoniants St</td>\n",
       "      <td>2</td>\n",
       "      <td>Yerevan</td>\n",
       "      <td>75.0</td>\n",
       "      <td>http://www.myrealty.am/en/item/28917/2-senyaka...</td>\n",
       "      <td>1</td>\n",
       "      <td>stone</td>\n",
       "      <td>3</td>\n",
       "      <td>3.0</td>\n",
       "    </tr>\n",
       "  </tbody>\n",
       "</table>\n",
       "<p>4998 rows × 13 columns</p>\n",
       "</div>"
      ],
      "text/plain": [
       "      Unnamed: 0       condition        district  max_floor  \\\n",
       "0           4598  newly repaired         Arabkir          6   \n",
       "1           5940            good         Arabkir         14   \n",
       "2           2302  newly repaired  Qanaqer-Zeytun          9   \n",
       "3           5628            good          Center          4   \n",
       "4            760  zero condition          Center          9   \n",
       "...          ...             ...             ...        ...   \n",
       "4993        3585  newly repaired         Arabkir          5   \n",
       "4994        3291  newly repaired         Arabkir          4   \n",
       "4995        5959  zero condition          Center          5   \n",
       "4996         542  newly repaired          Center         14   \n",
       "4997        4593  newly repaired         Arabkir          5   \n",
       "\n",
       "                       street  num_rooms   region   area  \\\n",
       "0                  Kievyan St          3  Yerevan   96.0   \n",
       "1             Mamikoniants St          3  Yerevan   78.0   \n",
       "2              M. Melikyan St          3  Yerevan   97.0   \n",
       "3              Spendiaryan St          3  Yerevan   80.0   \n",
       "4              Ler. Kamsar St          3  Yerevan  107.0   \n",
       "...                       ...        ...      ...    ...   \n",
       "4993             Griboedov St          3  Yerevan   97.0   \n",
       "4994  Orbeli Yeghbayrner   St          3  Yerevan   71.0   \n",
       "4995             Mashtots Ave          1  Yerevan   40.0   \n",
       "4996              Argishti St          4  Yerevan  118.0   \n",
       "4997          Mamikoniants St          2  Yerevan   75.0   \n",
       "\n",
       "                                                    url  num_bathrooms  \\\n",
       "0     http://www.myrealty.am/en/item/26229/3-senyaka...              1   \n",
       "1     http://www.myrealty.am/en/item/32897/3-senyaka...              1   \n",
       "2     http://www.myrealty.am/en/item/1459/apartment-...              1   \n",
       "3     http://www.myrealty.am/en/item/2099/3-senyakan...              1   \n",
       "4     http://www.myrealty.am/en/item/22722/3-senyaka...              1   \n",
       "...                                                 ...            ...   \n",
       "4993  http://www.myrealty.am/en/item/36852/3-senyaka...              1   \n",
       "4994  http://www.myrealty.am/en/item/13933/Apartment...              1   \n",
       "4995  http://www.myrealty.am/en/item/31190/1-senyaka...              1   \n",
       "4996  http://www.myrealty.am/en/item/25905/4-senyaka...              2   \n",
       "4997  http://www.myrealty.am/en/item/28917/2-senyaka...              1   \n",
       "\n",
       "     building_type  floor  ceiling_height  \n",
       "0            stone      4             3.0  \n",
       "1            panel     10             2.8  \n",
       "2            panel      1             2.8  \n",
       "3            stone      2             3.2  \n",
       "4          monolit      9             3.0  \n",
       "...            ...    ...             ...  \n",
       "4993         stone      4             2.8  \n",
       "4994         stone      4             2.8  \n",
       "4995         stone      2             3.0  \n",
       "4996       monolit     14             3.0  \n",
       "4997         stone      3             3.0  \n",
       "\n",
       "[4998 rows x 13 columns]"
      ]
     },
     "execution_count": 99,
     "metadata": {},
     "output_type": "execute_result"
    }
   ],
   "source": [
    "df"
   ]
  },
  {
   "cell_type": "code",
   "execution_count": 138,
   "id": "b006389e",
   "metadata": {},
   "outputs": [],
   "source": [
    "df = pd.read_csv('houses_train.csv', index_col='Unnamed: 0')"
   ]
  },
  {
   "cell_type": "code",
   "execution_count": 139,
   "id": "3cdf20b6",
   "metadata": {},
   "outputs": [],
   "source": [
    "X_train, X_test, Y_train, Y_test = train_test_split(df.drop(['price'], axis = 1), df['price'], test_size=0.1, random_state=1)\n",
    "X_test.to_csv('houses_test.csv')\n",
    "Y_test.to_csv('houses_test_answers.csv')"
   ]
  },
  {
   "cell_type": "code",
   "execution_count": 133,
   "id": "f0331e45",
   "metadata": {},
   "outputs": [
    {
     "data": {
      "text/plain": [
       "Unnamed: 0\n",
       "2813     80000.0\n",
       "1813    122000.0\n",
       "2652     85000.0\n",
       "1254    127000.0\n",
       "4189     60000.0\n",
       "          ...   \n",
       "3191     75000.0\n",
       "3872     83000.0\n",
       "1542    105000.0\n",
       "2202    100000.0\n",
       "6557     52000.0\n",
       "Name: price, Length: 501, dtype: float64"
      ]
     },
     "execution_count": 133,
     "metadata": {},
     "output_type": "execute_result"
    }
   ],
   "source": [
    "Y_test"
   ]
  },
  {
   "cell_type": "code",
   "execution_count": null,
   "id": "41cc2897",
   "metadata": {},
   "outputs": [],
   "source": []
  }
 ],
 "metadata": {
  "kernelspec": {
   "display_name": "Python 3 (ipykernel)",
   "language": "python",
   "name": "python3"
  },
  "language_info": {
   "codemirror_mode": {
    "name": "ipython",
    "version": 3
   },
   "file_extension": ".py",
   "mimetype": "text/x-python",
   "name": "python",
   "nbconvert_exporter": "python",
   "pygments_lexer": "ipython3",
   "version": "3.9.18"
  }
 },
 "nbformat": 4,
 "nbformat_minor": 5
}

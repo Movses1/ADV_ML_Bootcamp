{
 "cells": [
  {
   "cell_type": "code",
   "execution_count": 1,
   "id": "a794dbe5",
   "metadata": {},
   "outputs": [],
   "source": [
    "import numpy as np\n",
    "import tensorflow as tf\n",
    "from IPython import display\n",
    "from scipy.spatial.distance import cosine\n",
    "import json"
   ]
  },
  {
   "cell_type": "code",
   "execution_count": 2,
   "id": "a0c1da80",
   "metadata": {},
   "outputs": [],
   "source": [
    "endings = ['ություն', 'ության', 'ությամբ', 'ներ', 'ով', 'եր', 'իկ', '-' 'ը', 'ի', 'ն']\n",
    "endings = sorted(endings, key=len)[::-1]\n",
    "\n",
    "def dissect_word(word):\n",
    "    ans = []\n",
    "    repeat_while=True\n",
    "    flag_one=False\n",
    "    \n",
    "    for _ in range(5):\n",
    "        repeat_loop = False\n",
    "        \n",
    "        for e in endings:\n",
    "            if word[-len(e):] == e:\n",
    "                repeat_loop=True\n",
    "                        \n",
    "                ans.append(e)\n",
    "                word = word[:-len(e)]\n",
    "                break\n",
    "                \n",
    "        if not repeat_loop:\n",
    "            break\n",
    "    \n",
    "    if word!='':\n",
    "        if 'չ' == word[0]:\n",
    "            ans.append(word[1:])\n",
    "            ans.append('չ')\n",
    "        elif 'ան' == word[:2]:\n",
    "            ans.append(word[2:])\n",
    "            ans.append('ան')\n",
    "        else:\n",
    "            ans.append(word)\n",
    "            \n",
    "    return  ans[::-1]"
   ]
  },
  {
   "cell_type": "code",
   "execution_count": 14,
   "id": "cf948e61",
   "metadata": {},
   "outputs": [],
   "source": [
    "# Opening JSON file\n",
    "f = open('embeddings_e0_w600000.json')\n",
    "embeddings = json.load(f)\n",
    "f.close()"
   ]
  },
  {
   "cell_type": "code",
   "execution_count": 4,
   "id": "ab4db808",
   "metadata": {},
   "outputs": [],
   "source": [
    "def find_related(word, cnt=10):\n",
    "    \"\"\"\n",
    "    prints top 'cnt' similar and opposite vectors\n",
    "    \"\"\"\n",
    "    word = dissect_word(word)   # to disect the word and combine parts together\n",
    "    vectr = np.array(embeddings[word[0]])\n",
    "    for sub_word in word[1:]:\n",
    "        vectr += np.array(embeddings[sub_word])\n",
    "    cos_dist=dict()\n",
    "    for k, v in embeddings.items():\n",
    "        cos_dist[k] = 1-cosine(vectr, v) # cosine similarity from cos_distance\n",
    "        \n",
    "    cos_dist = sorted(cos_dist.items(), key = lambda x: -x[1]) # sort in discending order\n",
    "    print('similar vecotrs:')\n",
    "    for i in cos_dist[:cnt]:\n",
    "        print(i)\n",
    "    \n",
    "    print('opposite vecotrs:')\n",
    "    for i in cos_dist[-cnt:]:\n",
    "        print(i)"
   ]
  },
  {
   "cell_type": "markdown",
   "id": "065ea858",
   "metadata": {},
   "source": [
    "## here is the testing space"
   ]
  },
  {
   "cell_type": "code",
   "execution_count": 20,
   "id": "959b89b7",
   "metadata": {},
   "outputs": [
    {
     "name": "stdout",
     "output_type": "stream",
     "text": [
      "similar vecotrs:\n",
      "('խաղաղ', 1)\n",
      "('զիտո', 0.601878226279911)\n",
      "('ռսմխ', 0.5870607354938415)\n",
      "('մասնավորապես', 0.5696120373735581)\n",
      "('ճարակ', 0.5687900103257683)\n",
      "('հասիչե', 0.5641523306107072)\n",
      "('ամէ-ից', 0.5605492299273078)\n",
      "('eurofighter', 0.5573050345755589)\n",
      "('հակադրությունը', 0.5554203518327435)\n",
      "('գահաժառանգ', 0.5541676038622441)\n",
      "opposite vecotrs:\n",
      "('հավասարվեց', -0.5477733352719603)\n",
      "('ազատազրկմանը', -0.5516038747876109)\n",
      "('աորտա', -0.5536091193810837)\n",
      "('խօսքը', -0.5556146559144013)\n",
      "('էքսկուրսիա', -0.5566604260197603)\n",
      "('ընկերանում', -0.5635630048224676)\n",
      "('հավասարակշռված', -0.5704496607656977)\n",
      "('դոմիկներում', -0.5839564331307463)\n",
      "('vi-', -0.6244664208504687)\n",
      "('խոջալու', -0.6433016849973463)\n"
     ]
    }
   ],
   "source": [
    "find_related('խաղաղ')"
   ]
  },
  {
   "cell_type": "markdown",
   "id": "a6a639bd",
   "metadata": {},
   "source": [
    "#### 'ի' ending should be appearing more frequently with attachable words and less so with non attachable"
   ]
  },
  {
   "cell_type": "code",
   "execution_count": 19,
   "id": "494c4d68",
   "metadata": {},
   "outputs": [
    {
     "name": "stdout",
     "output_type": "stream",
     "text": [
      "similar vecotrs:\n",
      "('ի', 1)\n",
      "('սոկրատ', 0.6167570750261351)\n",
      "('բեռնափոխադրում', 0.5943570836088017)\n",
      "('կանչվ', 0.5922826110366967)\n",
      "('թարանթ', 0.5852966403429031)\n",
      "('իրականանալու', 0.5767196473331051)\n",
      "('հրապարա', 0.5629745883992665)\n",
      "('ցուցաբերված', 0.5496519904629815)\n",
      "('հայցադիմում', 0.5391857805834193)\n",
      "('բազրիք', 0.5374481291272326)\n",
      "opposite vecotrs:\n",
      "('սրբապիղծները', -0.5354934411586871)\n",
      "('sep', -0.5384111085555943)\n",
      "('գողգոթա', -0.5398924505624425)\n",
      "('ջեբեջյա', -0.5514890662645535)\n",
      "('սաբուրթալոյ', -0.5539160825412393)\n",
      "('ենթարկ', -0.5558287453810802)\n",
      "('ավտոներկրում', -0.5603643781064083)\n",
      "('գորայքում', -0.5623630201994358)\n",
      "('քասիմ_ժոմարտ_տոկաևը', -0.6120098665458853)\n",
      "('ձնագնդ', -0.6150480969457643)\n"
     ]
    }
   ],
   "source": [
    "find_related('ի')"
   ]
  },
  {
   "cell_type": "code",
   "execution_count": null,
   "id": "266d6306",
   "metadata": {},
   "outputs": [],
   "source": []
  }
 ],
 "metadata": {
  "kernelspec": {
   "display_name": "Python 3 (ipykernel)",
   "language": "python",
   "name": "python3"
  },
  "language_info": {
   "codemirror_mode": {
    "name": "ipython",
    "version": 3
   },
   "file_extension": ".py",
   "mimetype": "text/x-python",
   "name": "python",
   "nbconvert_exporter": "python",
   "pygments_lexer": "ipython3",
   "version": "3.10.11"
  }
 },
 "nbformat": 4,
 "nbformat_minor": 5
}

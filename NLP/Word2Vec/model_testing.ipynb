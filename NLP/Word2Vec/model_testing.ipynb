{
 "cells": [
  {
   "cell_type": "code",
   "execution_count": 1,
   "id": "a794dbe5",
   "metadata": {},
   "outputs": [],
   "source": [
    "import numpy as np\n",
    "import tensorflow as tf\n",
    "from IPython import display\n",
    "from scipy.spatial.distance import cosine\n",
    "import json"
   ]
  },
  {
   "cell_type": "code",
   "execution_count": 2,
   "id": "a0c1da80",
   "metadata": {},
   "outputs": [],
   "source": [
    "endings = ['ություն', 'ության', 'ությամբ', 'ներ', 'ով', 'եր', 'իկ', '-' 'ը', 'ի', 'ն']\n",
    "endings = sorted(endings, key=len)[::-1]\n",
    "\n",
    "def dissect_word(word):\n",
    "    ans = []\n",
    "    repeat_while=True\n",
    "    flag_one=False\n",
    "    \n",
    "    for _ in range(5):\n",
    "        repeat_loop = False\n",
    "        \n",
    "        for e in endings:\n",
    "            if word[-len(e):] == e:\n",
    "                repeat_loop=True\n",
    "                        \n",
    "                ans.append(e)\n",
    "                word = word[:-len(e)]\n",
    "                break\n",
    "                \n",
    "        if not repeat_loop:\n",
    "            break\n",
    "    \n",
    "    if word!='':\n",
    "        if 'չ' == word[0]:\n",
    "            ans.append(word[1:])\n",
    "            ans.append('չ')\n",
    "        elif 'ան' == word[:2]:\n",
    "            ans.append(word[2:])\n",
    "            ans.append('ան')\n",
    "        else:\n",
    "            ans.append(word)\n",
    "            \n",
    "    return  ans[::-1]"
   ]
  },
  {
   "cell_type": "code",
   "execution_count": 7,
   "id": "cf948e61",
   "metadata": {},
   "outputs": [],
   "source": [
    "# Opening JSON file\n",
    "f = open('embeddings_e0_w2600.0K.json')\n",
    "embeddings = json.load(f)\n",
    "f.close()"
   ]
  },
  {
   "cell_type": "code",
   "execution_count": 8,
   "id": "ab4db808",
   "metadata": {},
   "outputs": [],
   "source": [
    "def find_related(word, cnt=10):\n",
    "    \"\"\"\n",
    "    prints top 'cnt' similar and opposite vectors\n",
    "    \"\"\"\n",
    "    word = dissect_word(word)   # to disect the word and combine parts together\n",
    "    vectr = np.array(embeddings[word[0]])\n",
    "    for sub_word in word[1:]:\n",
    "        vectr += np.array(embeddings[sub_word])\n",
    "    cos_dist=dict()\n",
    "    for k, v in embeddings.items():\n",
    "        cos_dist[k] = 1-cosine(vectr, v) # cosine similarity from cos_distance\n",
    "        \n",
    "    cos_dist = sorted(cos_dist.items(), key = lambda x: -x[1]) # sort in discending order\n",
    "    print('similar vecotrs:')\n",
    "    for i in cos_dist[:cnt]:\n",
    "        print(i)\n",
    "    \n",
    "    print('opposite vecotrs:')\n",
    "    for i in cos_dist[-cnt:]:\n",
    "        print(i)"
   ]
  },
  {
   "cell_type": "markdown",
   "id": "065ea858",
   "metadata": {},
   "source": [
    "## here is the testing space"
   ]
  },
  {
   "cell_type": "code",
   "execution_count": 17,
   "id": "959b89b7",
   "metadata": {},
   "outputs": [
    {
     "name": "stdout",
     "output_type": "stream",
     "text": [
      "similar vecotrs:\n",
      "('ը', 1)\n",
      "('ն', 0.8081993714329113)\n",
      "('ի', 0.6876572820804548)\n",
      "('պարոլ', 0.6706986500912953)\n",
      "('ներ', 0.6545493341352883)\n",
      "('ու', 0.6436490167073012)\n",
      "('է', 0.6281370408801262)\n",
      "(',', 0.6124258532791613)\n",
      "('վալյուտա', 0.6044189222572811)\n",
      "('ության', 0.5814067689774851)\n",
      "opposite vecotrs:\n",
      "('работу', -0.5566047722022978)\n",
      "('կիսալուս', -0.5584423828834346)\n",
      "('տվերսկոյ', -0.5612226697973601)\n",
      "('կխեղ', -0.5625938215506401)\n",
      "('թանբայ', -0.5647698929978628)\n",
      "('հարգեք', -0.5668106807008777)\n",
      "('գերել', -0.5720208172466053)\n",
      "('թեյլոր', -0.5790197160512116)\n",
      "('դեբետ', -0.5913799087776286)\n",
      "('ժեշտ', -0.6026176210293799)\n"
     ]
    }
   ],
   "source": [
    "find_related('ը')"
   ]
  },
  {
   "cell_type": "markdown",
   "id": "a6a639bd",
   "metadata": {},
   "source": [
    "#### 'ի' ending should be appearing more frequently with similar words and less so with non attachable ones"
   ]
  },
  {
   "cell_type": "code",
   "execution_count": 10,
   "id": "494c4d68",
   "metadata": {},
   "outputs": [
    {
     "name": "stdout",
     "output_type": "stream",
     "text": [
      "similar vecotrs:\n",
      "('ի', 1)\n",
      "('ն', 0.8908756997487611)\n",
      "('ներ', 0.7708430504845388)\n",
      "(',', 0.7631182913702186)\n",
      "('ության', 0.7115620669801979)\n",
      "('։', 0.6901648397090749)\n",
      "('ը', 0.6876572820804548)\n",
      "('ե', 0.6777774144581552)\n",
      "('ություն', 0.66649692161346)\n",
      "('է', 0.6392816525653607)\n",
      "opposite vecotrs:\n",
      "('համարձակվ', -0.5438636374757575)\n",
      "('քաղքակա', -0.5492303847498148)\n",
      "('դանիեբեկյա', -0.5520040529038437)\n",
      "('գաղտնագր', -0.5528212663994394)\n",
      "('հրապակում', -0.5649740731036768)\n",
      "('թմբլ', -0.5654807391693919)\n",
      "('զլանում', -0.5733801014674524)\n",
      "('արտահանվ', -0.5786949064347655)\n",
      "('ld', -0.5818054363610452)\n",
      "('կոմեդիա', -0.5947091593047751)\n"
     ]
    }
   ],
   "source": [
    "find_related('ի')"
   ]
  },
  {
   "cell_type": "code",
   "execution_count": null,
   "id": "266d6306",
   "metadata": {},
   "outputs": [],
   "source": []
  }
 ],
 "metadata": {
  "kernelspec": {
   "display_name": "Python 3 (ipykernel)",
   "language": "python",
   "name": "python3"
  },
  "language_info": {
   "codemirror_mode": {
    "name": "ipython",
    "version": 3
   },
   "file_extension": ".py",
   "mimetype": "text/x-python",
   "name": "python",
   "nbconvert_exporter": "python",
   "pygments_lexer": "ipython3",
   "version": "3.10.11"
  }
 },
 "nbformat": 4,
 "nbformat_minor": 5
}

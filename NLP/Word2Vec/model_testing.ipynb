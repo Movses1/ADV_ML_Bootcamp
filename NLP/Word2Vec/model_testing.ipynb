{
 "cells": [
  {
   "cell_type": "code",
   "execution_count": 1,
   "id": "a794dbe5",
   "metadata": {},
   "outputs": [],
   "source": [
    "import numpy as np\n",
    "import tensorflow as tf\n",
    "from IPython import display\n",
    "from scipy.spatial.distance import cosine\n",
    "import json"
   ]
  },
  {
   "cell_type": "code",
   "execution_count": 2,
   "id": "a0c1da80",
   "metadata": {},
   "outputs": [],
   "source": [
    "endings = ['ություն', 'ության', 'ությամբ', 'ներ', 'ով', 'եր', 'իկ', '-' 'ը', 'ի', 'ն']\n",
    "endings = sorted(endings, key=len)[::-1]\n",
    "\n",
    "def dissect_word(word):\n",
    "    ans = []\n",
    "    repeat_while=True\n",
    "    flag_one=False\n",
    "    \n",
    "    for _ in range(5):\n",
    "        repeat_loop = False\n",
    "        \n",
    "        for e in endings:\n",
    "            if word[-len(e):] == e:\n",
    "                repeat_loop=True\n",
    "                        \n",
    "                ans.append(e)\n",
    "                word = word[:-len(e)]\n",
    "                break\n",
    "                \n",
    "        if not repeat_loop:\n",
    "            break\n",
    "    \n",
    "    if word!='':\n",
    "        if 'չ' == word[0]:\n",
    "            ans.append(word[1:])\n",
    "            ans.append('չ')\n",
    "        elif 'ան' == word[:2]:\n",
    "            ans.append(word[2:])\n",
    "            ans.append('ան')\n",
    "        else:\n",
    "            ans.append(word)\n",
    "            \n",
    "    return  ans[::-1]"
   ]
  },
  {
   "cell_type": "code",
   "execution_count": 7,
   "id": "cf948e61",
   "metadata": {},
   "outputs": [],
   "source": [
    "# Opening JSON file\n",
    "f = open('embeddings_e0_w2600.0K.json')\n",
    "embeddings = json.load(f)\n",
    "f.close()"
   ]
  },
  {
   "cell_type": "code",
   "execution_count": 8,
   "id": "ab4db808",
   "metadata": {},
   "outputs": [],
   "source": [
    "def find_related(word, cnt=10):\n",
    "    \"\"\"\n",
    "    prints top 'cnt' similar and opposite vectors\n",
    "    \"\"\"\n",
    "    word = dissect_word(word)   # to disect the word and combine parts together\n",
    "    vectr = np.array(embeddings[word[0]])\n",
    "    for sub_word in word[1:]:\n",
    "        vectr += np.array(embeddings[sub_word])\n",
    "    cos_dist=dict()\n",
    "    for k, v in embeddings.items():\n",
    "        cos_dist[k] = 1-cosine(vectr, v) # cosine similarity from cos_distance\n",
    "        \n",
    "    cos_dist = sorted(cos_dist.items(), key = lambda x: -x[1]) # sort in discending order\n",
    "    print('similar vecotrs:')\n",
    "    for i in cos_dist[:cnt]:\n",
    "        print(i)\n",
    "    \n",
    "    print('opposite vecotrs:')\n",
    "    for i in cos_dist[-cnt:]:\n",
    "        print(i)"
   ]
  },
  {
   "cell_type": "markdown",
   "id": "065ea858",
   "metadata": {},
   "source": [
    "# here is the testing space"
   ]
  },
  {
   "cell_type": "code",
   "execution_count": 22,
   "id": "959b89b7",
   "metadata": {},
   "outputs": [
    {
     "name": "stdout",
     "output_type": "stream",
     "text": [
      "similar vecotrs:\n",
      "('ություն', 1)\n",
      "('ն', 0.7061836625614021)\n",
      "('ի', 0.66649692161346)\n",
      "('կզանգե', 0.6478759779472605)\n",
      "('ներ', 0.6270914763817074)\n",
      "('1', 0.6078124695090786)\n",
      "(',', 0.6073003692493473)\n",
      "('փոխհամաձայ', 0.6033341005771445)\n",
      "('կուրորտշ', 0.5804929173678498)\n",
      "('փոստանջյա', 0.557442885563298)\n",
      "opposite vecotrs:\n",
      "('մանկամիտ', -0.5349780946665303)\n",
      "('նեպոմնյաշչ', -0.5357359503116403)\n",
      "('թաիլանդակա', -0.5390802696200367)\n",
      "('սփարքս', -0.5472791847532001)\n",
      "('բալաստ', -0.5499673313109215)\n",
      "('էվամակ', -0.5525679942681494)\n",
      "('տրվող', -0.5643181984889902)\n",
      "('միջմշակութայ', -0.5690861871475619)\n",
      "('ինքնաարդարացմա', -0.5809619428808515)\n",
      "('գրանիտ', -0.6108780407009975)\n"
     ]
    }
   ],
   "source": [
    "find_related('ություն')"
   ]
  },
  {
   "cell_type": "markdown",
   "id": "a6a639bd",
   "metadata": {},
   "source": [
    "#### 'ի' ending should be appearing more frequently with similar words and less so with non attachable ones"
   ]
  },
  {
   "cell_type": "code",
   "execution_count": 10,
   "id": "494c4d68",
   "metadata": {},
   "outputs": [
    {
     "name": "stdout",
     "output_type": "stream",
     "text": [
      "similar vecotrs:\n",
      "('ի', 1)\n",
      "('ն', 0.8908756997487611)\n",
      "('ներ', 0.7708430504845388)\n",
      "(',', 0.7631182913702186)\n",
      "('ության', 0.7115620669801979)\n",
      "('։', 0.6901648397090749)\n",
      "('ը', 0.6876572820804548)\n",
      "('ե', 0.6777774144581552)\n",
      "('ություն', 0.66649692161346)\n",
      "('է', 0.6392816525653607)\n",
      "opposite vecotrs:\n",
      "('համարձակվ', -0.5438636374757575)\n",
      "('քաղքակա', -0.5492303847498148)\n",
      "('դանիեբեկյա', -0.5520040529038437)\n",
      "('գաղտնագր', -0.5528212663994394)\n",
      "('հրապակում', -0.5649740731036768)\n",
      "('թմբլ', -0.5654807391693919)\n",
      "('զլանում', -0.5733801014674524)\n",
      "('արտահանվ', -0.5786949064347655)\n",
      "('ld', -0.5818054363610452)\n",
      "('կոմեդիա', -0.5947091593047751)\n"
     ]
    }
   ],
   "source": [
    "find_related('ի')"
   ]
  },
  {
   "cell_type": "markdown",
   "id": "b3904be8",
   "metadata": {},
   "source": [
    "## calculate similarity between two words"
   ]
  },
  {
   "cell_type": "code",
   "execution_count": 43,
   "id": "f3727cd8",
   "metadata": {},
   "outputs": [],
   "source": [
    "def calculate_similarity(word1, word2):\n",
    "    word1 = dissect_word(word1)\n",
    "    vectr1 = np.array(embeddings[word1[0]])\n",
    "    for sub_word in word1[1:]:\n",
    "        vectr1 += np.array(embeddings[sub_word])\n",
    "\n",
    "    word2 = dissect_word(word2)\n",
    "    vectr2 = np.array(embeddings[word2[0]])\n",
    "    for sub_word in word2[1:]:\n",
    "        vectr2 += np.array(embeddings[sub_word])\n",
    "\n",
    "    return 1-cosine(vectr1, vectr2)"
   ]
  },
  {
   "cell_type": "code",
   "execution_count": 44,
   "id": "266d6306",
   "metadata": {},
   "outputs": [
    {
     "data": {
      "text/plain": [
       "0.2809797993013441"
      ]
     },
     "execution_count": 44,
     "metadata": {},
     "output_type": "execute_result"
    }
   ],
   "source": [
    "calculate_similarity('պատերազմ', 'կռիվ')"
   ]
  },
  {
   "cell_type": "code",
   "execution_count": 45,
   "id": "586b5281",
   "metadata": {},
   "outputs": [
    {
     "data": {
      "text/plain": [
       "0.04139628725713562"
      ]
     },
     "execution_count": 45,
     "metadata": {},
     "output_type": "execute_result"
    }
   ],
   "source": [
    "calculate_similarity('տղա', 'աղջիկ')"
   ]
  },
  {
   "cell_type": "code",
   "execution_count": 46,
   "id": "ce882eb5",
   "metadata": {},
   "outputs": [
    {
     "data": {
      "text/plain": [
       "0.16812541500754008"
      ]
     },
     "execution_count": 46,
     "metadata": {},
     "output_type": "execute_result"
    }
   ],
   "source": [
    "calculate_similarity('կին', 'աղջիկ')"
   ]
  },
  {
   "cell_type": "code",
   "execution_count": 53,
   "id": "20307c9a",
   "metadata": {},
   "outputs": [
    {
     "data": {
      "text/plain": [
       "-0.21690410942902938"
      ]
     },
     "execution_count": 53,
     "metadata": {},
     "output_type": "execute_result"
    }
   ],
   "source": [
    "calculate_similarity('ոչ', 'այո')"
   ]
  },
  {
   "cell_type": "code",
   "execution_count": null,
   "id": "89f799a9",
   "metadata": {},
   "outputs": [],
   "source": []
  }
 ],
 "metadata": {
  "kernelspec": {
   "display_name": "Python 3 (ipykernel)",
   "language": "python",
   "name": "python3"
  },
  "language_info": {
   "codemirror_mode": {
    "name": "ipython",
    "version": 3
   },
   "file_extension": ".py",
   "mimetype": "text/x-python",
   "name": "python",
   "nbconvert_exporter": "python",
   "pygments_lexer": "ipython3",
   "version": "3.10.11"
  }
 },
 "nbformat": 4,
 "nbformat_minor": 5
}

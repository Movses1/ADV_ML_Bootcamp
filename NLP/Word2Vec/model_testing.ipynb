{
 "cells": [
  {
   "cell_type": "code",
   "execution_count": 1,
   "id": "a794dbe5",
   "metadata": {},
   "outputs": [],
   "source": [
    "import numpy as np\n",
    "import tensorflow as tf\n",
    "from IPython import display\n",
    "from scipy.spatial.distance import cosine\n",
    "import json"
   ]
  },
  {
   "cell_type": "code",
   "execution_count": 2,
   "id": "a0c1da80",
   "metadata": {},
   "outputs": [],
   "source": [
    "endings = ['ություն', 'ության', 'ությամբ', 'ներ', 'ով', 'եր', 'իկ', 'ից', '-', 'ը', 'ի', 'ն']\n",
    "endings = sorted(endings, key=len)[::-1]\n",
    "\n",
    "def dissect_word(word):\n",
    "    ans = []\n",
    "    repeat_while=True\n",
    "    flag_one=False\n",
    "    \n",
    "    for _ in range(5):\n",
    "        repeat_loop = False\n",
    "        \n",
    "        for e in endings:\n",
    "            if word[-len(e):] == e:\n",
    "                repeat_loop=True\n",
    "                        \n",
    "                ans.append(e)\n",
    "                word = word[:-len(e)]\n",
    "                break\n",
    "                \n",
    "        if not repeat_loop:\n",
    "            break\n",
    "    \n",
    "    if word!='':\n",
    "        if 'չ' == word[0]:\n",
    "            ans.append(word[1:])\n",
    "            ans.append('չ')\n",
    "        elif 'ան' == word[:2]:\n",
    "            ans.append(word[2:])\n",
    "            ans.append('ան')\n",
    "        else:\n",
    "            ans.append(word)\n",
    "            \n",
    "    return  ans[::-1]"
   ]
  },
  {
   "cell_type": "code",
   "execution_count": 3,
   "id": "cf948e61",
   "metadata": {},
   "outputs": [],
   "source": [
    "# Opening JSON file\n",
    "f = open('embeddings_e2_w3M.json')\n",
    "embeddings = json.load(f)\n",
    "f.close()"
   ]
  },
  {
   "cell_type": "code",
   "execution_count": 4,
   "id": "ab4db808",
   "metadata": {},
   "outputs": [],
   "source": [
    "def find_emb(word):\n",
    "    \"\"\"\n",
    "    each work can be composed of different suffixes and prefixes\n",
    "    lets add them up\n",
    "    \"\"\"\n",
    "    word = dissect_word(word)   # to disect the word and combine parts together\n",
    "    vectr = np.array(embeddings[word[0]])\n",
    "    for sub_word in word[1:]:\n",
    "        vectr += np.array(embeddings[sub_word])\n",
    "    return vectr\n",
    "\n",
    "def find_related(word, cnt=10):\n",
    "    \"\"\"\n",
    "    prints top 'cnt' similar and opposite vectors\n",
    "    \"\"\"\n",
    "    vectr = find_emb(word)\n",
    "        \n",
    "    cos_dist=dict()\n",
    "    for k, v in embeddings.items():\n",
    "        cos_dist[k] = 1-cosine(vectr, v) # cosine similarity from cos_distance\n",
    "        \n",
    "    cos_dist = sorted(cos_dist.items(), key = lambda x: -x[1]) # sort in discending order\n",
    "    print('similar vecotrs:')\n",
    "    for i in cos_dist[:cnt]:\n",
    "        print(i)\n",
    "    \n",
    "    print('opposite vecotrs:')\n",
    "    for i in cos_dist[-cnt:]:\n",
    "        print(i)"
   ]
  },
  {
   "cell_type": "markdown",
   "id": "065ea858",
   "metadata": {},
   "source": [
    "# here is the testing space"
   ]
  },
  {
   "cell_type": "code",
   "execution_count": 5,
   "id": "959b89b7",
   "metadata": {},
   "outputs": [
    {
     "name": "stdout",
     "output_type": "stream",
     "text": [
      "similar vecotrs:\n",
      "('ություն', 1)\n",
      "('։', 0.9887239553595865)\n",
      "('ներ', 0.9877027889349861)\n",
      "('ե', 0.9876777539593578)\n",
      "(',', 0.9867991606115166)\n",
      "('ության', 0.9866464191141544)\n",
      "('է', 0.9856909686978259)\n",
      "('ը', 0.9846771675575572)\n",
      "('»', 0.9842466966380682)\n",
      "('ով', 0.9836356863525444)\n",
      "opposite vecotrs:\n",
      "('պահեստարաններում', -0.4539522462369925)\n",
      "('գաղտնագր', -0.45488307337596634)\n",
      "('արտահանվ', -0.4570219592546281)\n",
      "('ազատվեք', -0.46004928250779153)\n",
      "('քաղքակա', -0.4624041612533083)\n",
      "('հրապակում', -0.4696675035779343)\n",
      "('էվամակ', -0.46998290824627453)\n",
      "('փրկչակա', -0.49139043283135186)\n",
      "('թմբլ', -0.49198411773271866)\n",
      "('թանբայ', -0.5346866803936414)\n"
     ]
    }
   ],
   "source": [
    "find_related('ություն')"
   ]
  },
  {
   "cell_type": "markdown",
   "id": "a6a639bd",
   "metadata": {},
   "source": [
    "#### 'ի' ending should be appearing more frequently with similar words and less so with non attachable ones"
   ]
  },
  {
   "cell_type": "code",
   "execution_count": 6,
   "id": "494c4d68",
   "metadata": {},
   "outputs": [
    {
     "name": "stdout",
     "output_type": "stream",
     "text": [
      "similar vecotrs:\n",
      "('այո', 1)\n",
      "('թե', 0.97687244569409)\n",
      "('բիզնես', 0.9747521116802746)\n",
      "('մոտ', 0.9742645953599877)\n",
      "('դրսևորում', 0.9734587219243109)\n",
      "('դուրս', 0.9731664814416767)\n",
      "('տեղեկ', 0.9729220071157632)\n",
      "('արդյունավետ', 0.9727873052963429)\n",
      "('առաջ', 0.9727090610657327)\n",
      "('հեռու', 0.9721150616418859)\n",
      "opposite vecotrs:\n",
      "('թմբլ', -0.4437553315664069)\n",
      "('մեկնաբանվելու', -0.4462064423283252)\n",
      "('age', -0.44746271495323353)\n",
      "('ծառայությունը', -0.44935973338861235)\n",
      "('գաղտնագր', -0.46956310422097447)\n",
      "('թանբայ', -0.5034708760855922)\n",
      "('կխեղ', -0.5048552562803188)\n",
      "('քաղքակա', -0.5145286978532959)\n",
      "('արտահանվ', -0.5186095598683562)\n",
      "('փրկչակա', -0.519074632927202)\n"
     ]
    }
   ],
   "source": [
    "find_related('այո')"
   ]
  },
  {
   "cell_type": "code",
   "execution_count": 7,
   "id": "354702e7",
   "metadata": {},
   "outputs": [
    {
     "data": {
      "text/plain": [
       "0.883867432832077"
      ]
     },
     "execution_count": 7,
     "metadata": {},
     "output_type": "execute_result"
    }
   ],
   "source": [
    "x1 = find_emb('տղամարդ')-find_emb('կին')\n",
    "x2 = find_emb('տղա')-find_emb('աղջիկ')\n",
    "\n",
    "1-cosine(x1, x2)"
   ]
  },
  {
   "cell_type": "markdown",
   "id": "ea48da41",
   "metadata": {},
   "source": [
    "## visualize with t-sne"
   ]
  },
  {
   "cell_type": "code",
   "execution_count": 20,
   "id": "7e7cf228",
   "metadata": {},
   "outputs": [],
   "source": [
    "from sklearn.manifold import TSNE\n",
    "\n",
    "words_to_visualize = ['տղա', 'աղջիկ', 'կին', 'տղամարդ', 'արքա', 'սև', 'սպիտակ', 'հհ', 'հայաստան', 'ռուսաստան', 'թուրքիա',\n",
    "                      'խաղաղ', 'պատերազմ', 'կռիվ', ',', '։', 'երևան', 'մոսկվա', 'հանցանք', 'փաստաթուղթ', 'տակառ',\n",
    "                      'new_york_times', 'այո', 'ոչ',\n",
    "                      '0', '1', '2', '3', '4', '5', '6', '7', '8', '9']\n",
    "words_to_visualize.extend(endings)"
   ]
  },
  {
   "cell_type": "code",
   "execution_count": 22,
   "id": "e4414543",
   "metadata": {},
   "outputs": [
    {
     "data": {
      "image/png": "[encoded data removed]",
      "text/plain": [
       "<Figure size 1000x1000 with 1 Axes>"
      ]
     },
     "metadata": {},
     "output_type": "display_data"
    }
   ],
   "source": [
    "from matplotlib import pyplot as plt\n",
    "%matplotlib inline\n",
    "# %matplotlib tk\n",
    "plt.figure(figsize=(10,10))\n",
    "\n",
    "tsne = TSNE()\n",
    "data_to_emb = [embeddings[i] for i in words_to_visualize]\n",
    "transformed_cords = tsne.fit_transform(np.array(data_to_emb))\n",
    "\n",
    "plt.scatter(transformed_cords[:,0], transformed_cords[:,1])\n",
    "for ind, i in enumerate(words_to_visualize):\n",
    "    #print(i)\n",
    "    plt.text(transformed_cords[ind][0], transformed_cords[ind][1], i)\n",
    "plt.show()"
   ]
  },
  {
   "cell_type": "markdown",
   "id": "fa73a318",
   "metadata": {},
   "source": [
    "##### As we can see suffixes and numbers are seperated from the rest."
   ]
  },
  {
   "cell_type": "markdown",
   "id": "a590f790",
   "metadata": {},
   "source": [
    "## calculate similarity between two words"
   ]
  },
  {
   "cell_type": "code",
   "execution_count": 10,
   "id": "696b02ed",
   "metadata": {},
   "outputs": [],
   "source": [
    "def calculate_similarity(word1, word2):\n",
    "    word1 = dissect_word(word1)\n",
    "    vectr1 = np.array(embeddings[word1[0]])\n",
    "    for sub_word in word1[1:]:\n",
    "        vectr1 += np.array(embeddings[sub_word])\n",
    "\n",
    "    word2 = dissect_word(word2)\n",
    "    vectr2 = np.array(embeddings[word2[0]])\n",
    "    for sub_word in word2[1:]:\n",
    "        vectr2 += np.array(embeddings[sub_word])\n",
    "\n",
    "    return 1-cosine(vectr1, vectr2)"
   ]
  },
  {
   "cell_type": "code",
   "execution_count": 11,
   "id": "266d6306",
   "metadata": {},
   "outputs": [
    {
     "data": {
      "text/plain": [
       "0.9099165861830997"
      ]
     },
     "execution_count": 11,
     "metadata": {},
     "output_type": "execute_result"
    }
   ],
   "source": [
    "calculate_similarity('պատերազմ', 'կռիվ')"
   ]
  },
  {
   "cell_type": "code",
   "execution_count": 12,
   "id": "824b5249",
   "metadata": {},
   "outputs": [
    {
     "data": {
      "text/plain": [
       "0.9633519542978273"
      ]
     },
     "execution_count": 12,
     "metadata": {},
     "output_type": "execute_result"
    }
   ],
   "source": [
    "calculate_similarity('տղա', 'աղջիկ')"
   ]
  },
  {
   "cell_type": "code",
   "execution_count": 13,
   "id": "e5618e7e",
   "metadata": {},
   "outputs": [
    {
     "data": {
      "text/plain": [
       "0.9444858732545504"
      ]
     },
     "execution_count": 13,
     "metadata": {},
     "output_type": "execute_result"
    }
   ],
   "source": [
    "calculate_similarity('կին', 'աղջիկ')"
   ]
  },
  {
   "cell_type": "code",
   "execution_count": 14,
   "id": "21258b40",
   "metadata": {},
   "outputs": [
    {
     "data": {
      "text/plain": [
       "0.9541996342745418"
      ]
     },
     "execution_count": 14,
     "metadata": {},
     "output_type": "execute_result"
    }
   ],
   "source": [
    "calculate_similarity('ոչ', 'այո')"
   ]
  },
  {
   "cell_type": "markdown",
   "id": "5c713268",
   "metadata": {},
   "source": [
    "## numbers should be similar to each other"
   ]
  },
  {
   "cell_type": "code",
   "execution_count": 15,
   "id": "e0317b61",
   "metadata": {},
   "outputs": [
    {
     "name": "stdout",
     "output_type": "stream",
     "text": [
      "0 1 - 0.9840571863824494\n",
      "0 2 - 0.9746752752957974\n",
      "0 3 - 0.9767264254651555\n",
      "0 4 - 0.9730098007709413\n",
      "0 5 - 0.9813444673585416\n",
      "0 6 - 0.9644478220952324\n",
      "0 7 - 0.9604234162902139\n",
      "0 8 - 0.9726391690505419\n",
      "0 9 - 0.9732516648138323\n",
      "1 2 - 0.978558640043747\n",
      "1 3 - 0.9799794357464662\n",
      "1 4 - 0.9791915271310817\n",
      "1 5 - 0.968065281991147\n",
      "1 6 - 0.9676671669806909\n",
      "1 7 - 0.9558660177579769\n",
      "1 8 - 0.9730014065771166\n",
      "1 9 - 0.9671732785714576\n",
      "2 3 - 0.9737422242065698\n",
      "2 4 - 0.9747075650547165\n",
      "2 5 - 0.9637313450872049\n",
      "2 6 - 0.9778656774847461\n",
      "2 7 - 0.9685229695934775\n",
      "2 8 - 0.9739324065099118\n",
      "2 9 - 0.970154910300561\n",
      "3 4 - 0.9714163037091856\n",
      "3 5 - 0.9656027960941423\n",
      "3 6 - 0.9674573862479064\n",
      "3 7 - 0.96140503527461\n",
      "3 8 - 0.9736514073321276\n",
      "3 9 - 0.9724688561966316\n",
      "4 5 - 0.9648161016987697\n",
      "4 6 - 0.9705926272257062\n",
      "4 7 - 0.9712432974157539\n",
      "4 8 - 0.9791965024461249\n",
      "4 9 - 0.9653122677059227\n",
      "5 6 - 0.9651885087135563\n",
      "5 7 - 0.9553833814054556\n",
      "5 8 - 0.9620364130543355\n",
      "5 9 - 0.9599415178571429\n",
      "6 7 - 0.9713498267999006\n",
      "6 8 - 0.9698228865278651\n",
      "6 9 - 0.9577046658913018\n",
      "7 8 - 0.9713327333606373\n",
      "7 9 - 0.970701817150296\n",
      "8 9 - 0.9691824418040826\n"
     ]
    }
   ],
   "source": [
    "for i in range(10):\n",
    "    for j in range(i+1,10):\n",
    "        print(f'{i} {j} - {calculate_similarity(str(i), str(j))}')"
   ]
  },
  {
   "cell_type": "code",
   "execution_count": null,
   "id": "0a48206c",
   "metadata": {},
   "outputs": [],
   "source": []
  }
 ],
 "metadata": {
  "kernelspec": {
   "display_name": "Python 3 (ipykernel)",
   "language": "python",
   "name": "python3"
  },
  "language_info": {
   "codemirror_mode": {
    "name": "ipython",
    "version": 3
   },
   "file_extension": ".py",
   "mimetype": "text/x-python",
   "name": "python",
   "nbconvert_exporter": "python",
   "pygments_lexer": "ipython3",
   "version": "3.10.11"
  }
 },
 "nbformat": 4,
 "nbformat_minor": 5
}

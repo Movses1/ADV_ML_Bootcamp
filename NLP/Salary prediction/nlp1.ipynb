{
 "cells": [
  {
   "cell_type": "markdown",
   "metadata": {},
   "source": [
    "# Large scale text analysis with deep learning\n",
    "\n",
    "Today we're gonna apply the newly learned tools for the task of predicting job salary.\n",
    "\n",
    "<img src=\"https://storage.googleapis.com/kaggle-competitions/kaggle/3342/media/salary%20prediction%20engine%20v2.png\" width=400px>\n",
    "\n",
    "_Special thanks to [Oleg Vasilev](https://github.com/Omrigan/) for the core assignment idea._"
   ]
  },
  {
   "cell_type": "code",
   "execution_count": 1,
   "metadata": {},
   "outputs": [],
   "source": [
    "import numpy as np\n",
    "import pandas as pd\n",
    "import matplotlib.pyplot as plt\n",
    "%matplotlib inline"
   ]
  },
  {
   "cell_type": "markdown",
   "metadata": {},
   "source": [
    "### About the challenge\n",
    "For starters, let's download and unpack the data from [here](https://www.dropbox.com/s/5msc5ix7ndyba10/Train_rev1.csv.tar.gz?dl=0). \n",
    "\n",
    "You can also get it from [yadisk url](https://yadi.sk/d/vVEOWPFY3NruT7) the competition [page](https://www.kaggle.com/c/job-salary-prediction/data) (pick `Train_rev1.*`)."
   ]
  },
  {
   "cell_type": "code",
   "execution_count": 2,
   "metadata": {},
   "outputs": [
    {
     "name": "stderr",
     "output_type": "stream",
     "text": [
      "  % Total    % Received % Xferd  Average Speed   Time    Time     Time  Current\n",
      "                                 Dload  Upload   Total   Spent    Left  Speed\n",
      "\n",
      "  0     0    0     0    0     0      0      0 --:--:-- --:--:-- --:--:--     0\n",
      "  0     0    0     0    0     0      0      0 --:--:-- --:--:-- --:--:--     0\n",
      "curl: (35) schannel: next InitializeSecurityContext failed: Unknown error (0x80092012) - The revocation function was unable to check revocation for the certificate.\n",
      "x Train_rev1.csv\n"
     ]
    },
    {
     "data": {
      "text/plain": [
       "(244768, 12)"
      ]
     },
     "execution_count": 2,
     "metadata": {},
     "output_type": "execute_result"
    }
   ],
   "source": [
    "!curl -L https://www.dropbox.com/s/5msc5ix7ndyba10/Train_rev1.csv.tar.gz?dl=1 -o Train_rev1.csv.tar.gz\n",
    "!tar -xvzf ./Train_rev1.csv.tar.gz\n",
    "data = pd.read_csv(\"./Train_rev1.csv\", index_col=None)\n",
    "data.shape"
   ]
  },
  {
   "cell_type": "markdown",
   "metadata": {},
   "source": [
    "One problem with salary prediction is that it's oddly distributed: there are many people who are paid standard salaries and a few that get tons o money. The distribution is fat-tailed on the right side, which is inconvenient for MSE minimization.\n",
    "\n",
    "There are several techniques to combat this: using a different loss function, predicting log-target instead of raw target or even replacing targets with their percentiles among all salaries in the training set. We gonna use logarithm for now.\n",
    "\n",
    "_You can read more [in the official description](https://www.kaggle.com/c/job-salary-prediction#description)._"
   ]
  },
  {
   "cell_type": "code",
   "execution_count": 3,
   "metadata": {},
   "outputs": [
    {
     "data": {
      "image/png": "[encoded data removed]",
      "text/plain": [
       "<Figure size 800x400 with 2 Axes>"
      ]
     },
     "metadata": {},
     "output_type": "display_data"
    }
   ],
   "source": [
    "data['Log1pSalary'] = np.log1p(data['SalaryNormalized']).astype('float32')\n",
    "\n",
    "plt.figure(figsize=[8, 4])\n",
    "plt.subplot(1, 2, 1)\n",
    "plt.hist(data[\"SalaryNormalized\"], bins=20);\n",
    "\n",
    "plt.subplot(1, 2, 2)\n",
    "plt.hist(data['Log1pSalary'], bins=20);"
   ]
  },
  {
   "cell_type": "markdown",
   "metadata": {},
   "source": [
    "Our task is to predict one number, __Log1pSalary__.\n",
    "\n",
    "To do so, our model can access a number of features:\n",
    "* Free text: __`Title`__ and  __`FullDescription`__\n",
    "* Categorical: __`Category`__, __`Company`__, __`LocationNormalized`__, __`ContractType`__, and __`ContractTime`__."
   ]
  },
  {
   "cell_type": "code",
   "execution_count": 4,
   "metadata": {},
   "outputs": [
    {
     "data": {
      "text/html": [
       "<div>\n",
       "<style scoped>\n",
       "    .dataframe tbody tr th:only-of-type {\n",
       "        vertical-align: middle;\n",
       "    }\n",
       "\n",
       "    .dataframe tbody tr th {\n",
       "        vertical-align: top;\n",
       "    }\n",
       "\n",
       "    .dataframe thead th {\n",
       "        text-align: right;\n",
       "    }\n",
       "</style>\n",
       "<table border=\"1\" class=\"dataframe\">\n",
       "  <thead>\n",
       "    <tr style=\"text-align: right;\">\n",
       "      <th></th>\n",
       "      <th>Id</th>\n",
       "      <th>Title</th>\n",
       "      <th>FullDescription</th>\n",
       "      <th>LocationRaw</th>\n",
       "      <th>LocationNormalized</th>\n",
       "      <th>ContractType</th>\n",
       "      <th>ContractTime</th>\n",
       "      <th>Company</th>\n",
       "      <th>Category</th>\n",
       "      <th>SalaryRaw</th>\n",
       "      <th>SalaryNormalized</th>\n",
       "      <th>SourceName</th>\n",
       "      <th>Log1pSalary</th>\n",
       "    </tr>\n",
       "  </thead>\n",
       "  <tbody>\n",
       "    <tr>\n",
       "      <th>10224</th>\n",
       "      <td>66314422</td>\n",
       "      <td>Gas and Plumbling Engineers  PERMANENT</td>\n",
       "      <td>We are currently recruiting nationally on beha...</td>\n",
       "      <td>Newcastle upon Tyne</td>\n",
       "      <td>Newcastle Upon Tyne</td>\n",
       "      <td>NaN</td>\n",
       "      <td>NaN</td>\n",
       "      <td>Forde Recruitment</td>\n",
       "      <td>Engineering Jobs</td>\n",
       "      <td>34212 + VAN + BENEFITS</td>\n",
       "      <td>34212</td>\n",
       "      <td>MyUkJobs</td>\n",
       "      <td>10.440361</td>\n",
       "    </tr>\n",
       "    <tr>\n",
       "      <th>51432</th>\n",
       "      <td>68636005</td>\n",
       "      <td>Web Developer</td>\n",
       "      <td>Web Developer  ****  **** The opportunity to w...</td>\n",
       "      <td>Manchester</td>\n",
       "      <td>Manchester</td>\n",
       "      <td>NaN</td>\n",
       "      <td>permanent</td>\n",
       "      <td>NaN</td>\n",
       "      <td>IT Jobs</td>\n",
       "      <td>25000.00 - 30000.00 per annum</td>\n",
       "      <td>27500</td>\n",
       "      <td>theitjobboard.co.uk</td>\n",
       "      <td>10.221977</td>\n",
       "    </tr>\n",
       "    <tr>\n",
       "      <th>148363</th>\n",
       "      <td>70760265</td>\n",
       "      <td>Customer Service Advisor</td>\n",
       "      <td>A great Customer Service Advisor is needed for...</td>\n",
       "      <td>Colchester, Essex</td>\n",
       "      <td>Colchester</td>\n",
       "      <td>NaN</td>\n",
       "      <td>permanent</td>\n",
       "      <td>Prime Appointments</td>\n",
       "      <td>Customer Services Jobs</td>\n",
       "      <td>15000/annum Commission</td>\n",
       "      <td>15000</td>\n",
       "      <td>cv-library.co.uk</td>\n",
       "      <td>9.615872</td>\n",
       "    </tr>\n",
       "  </tbody>\n",
       "</table>\n",
       "</div>"
      ],
      "text/plain": [
       "              Id                                   Title  \\\n",
       "10224   66314422  Gas and Plumbling Engineers  PERMANENT   \n",
       "51432   68636005                           Web Developer   \n",
       "148363  70760265                Customer Service Advisor   \n",
       "\n",
       "                                          FullDescription  \\\n",
       "10224   We are currently recruiting nationally on beha...   \n",
       "51432   Web Developer  ****  **** The opportunity to w...   \n",
       "148363  A great Customer Service Advisor is needed for...   \n",
       "\n",
       "                LocationRaw   LocationNormalized ContractType ContractTime  \\\n",
       "10224   Newcastle upon Tyne  Newcastle Upon Tyne          NaN          NaN   \n",
       "51432            Manchester           Manchester          NaN    permanent   \n",
       "148363    Colchester, Essex           Colchester          NaN    permanent   \n",
       "\n",
       "                   Company                Category  \\\n",
       "10224    Forde Recruitment        Engineering Jobs   \n",
       "51432                  NaN                 IT Jobs   \n",
       "148363  Prime Appointments  Customer Services Jobs   \n",
       "\n",
       "                            SalaryRaw  SalaryNormalized           SourceName  \\\n",
       "10224          34212 + VAN + BENEFITS             34212             MyUkJobs   \n",
       "51432   25000.00 - 30000.00 per annum             27500  theitjobboard.co.uk   \n",
       "148363         15000/annum Commission             15000     cv-library.co.uk   \n",
       "\n",
       "        Log1pSalary  \n",
       "10224     10.440361  \n",
       "51432     10.221977  \n",
       "148363     9.615872  "
      ]
     },
     "execution_count": 4,
     "metadata": {},
     "output_type": "execute_result"
    }
   ],
   "source": [
    "text_columns = [\"Title\", \"FullDescription\"]\n",
    "categorical_columns = [\"Category\", \"Company\", \"LocationNormalized\", \"ContractType\", \"ContractTime\"]\n",
    "target_column = \"Log1pSalary\"\n",
    "\n",
    "data[categorical_columns] = data[categorical_columns].fillna('NaN') # cast missing values to string \"NaN\"\n",
    "\n",
    "data.sample(3)"
   ]
  },
  {
   "cell_type": "markdown",
   "metadata": {},
   "source": [
    "### Preprocessing text data\n",
    "\n",
    "Just like last week, applying NLP to a problem begins from tokenization: splitting raw text into sequences of tokens (words, punctuation, etc).\n",
    "\n",
    "__Your task__ is to lowercase and tokenize all texts under `Title` and `FullDescription` columns. Store the tokenized data as a __space-separated__ string of tokens for performance reasons.\n",
    "\n",
    "It's okay to use nltk tokenizers. Assertions were designed for WordPunctTokenizer, slight deviations are okay."
   ]
  },
  {
   "cell_type": "code",
   "execution_count": 5,
   "metadata": {},
   "outputs": [
    {
     "name": "stdout",
     "output_type": "stream",
     "text": [
      "Raw text:\n",
      "2         Mathematical Modeller / Simulation Analyst / O...\n",
      "100002    A successful and high achieving specialist sch...\n",
      "200002    Web Designer  HTML, CSS, JavaScript, Photoshop...\n",
      "Name: FullDescription, dtype: object\n"
     ]
    }
   ],
   "source": [
    "print(\"Raw text:\")\n",
    "print(data[\"FullDescription\"][2::100000])"
   ]
  },
  {
   "cell_type": "code",
   "execution_count": 6,
   "metadata": {},
   "outputs": [],
   "source": [
    "import nltk\n",
    "tokenizer = nltk.tokenize.WordPunctTokenizer()\n",
    "\n",
    "# see task above\n",
    "data['FullDescription'] = data['FullDescription'].apply(str.lower)\n",
    "data['Title'].fillna('nan', inplace=True)\n",
    "data['Title'] = data['Title'].apply(str.lower)\n",
    "\n",
    "data['FullDescription'] = data['FullDescription'].apply(tokenizer.tokenize)\n",
    "data['FullDescription'] = data['FullDescription'].apply(' '.join)\n",
    "data['Title'] = data['Title'].apply(tokenizer.tokenize)\n",
    "data['Title'] = data['Title'].apply(' '.join)"
   ]
  },
  {
   "cell_type": "markdown",
   "metadata": {},
   "source": [
    "Now we can assume that our text is a space-separated list of tokens:"
   ]
  },
  {
   "cell_type": "code",
   "execution_count": 7,
   "metadata": {},
   "outputs": [
    {
     "name": "stdout",
     "output_type": "stream",
     "text": [
      "Tokenized:\n",
      "mathematical modeller / simulation analyst / opera international digital account manager ( german )\n"
     ]
    }
   ],
   "source": [
    "print(\"Tokenized:\")\n",
    "print(data[\"FullDescription\"][2][:50], data[\"Title\"][54321])\n",
    "assert data[\"FullDescription\"][2][:50] == 'mathematical modeller / simulation analyst / opera'\n",
    "assert data[\"Title\"][54321] == 'international digital account manager ( german )'"
   ]
  },
  {
   "cell_type": "markdown",
   "metadata": {},
   "source": [
    "Not all words are equally useful. Some of them are typos or rare words that are only present a few times. \n",
    "\n",
    "Let's count how many times is each word present in the data so that we can build a \"white list\" of known words."
   ]
  },
  {
   "cell_type": "code",
   "execution_count": 8,
   "metadata": {},
   "outputs": [
    {
     "name": "stdout",
     "output_type": "stream",
     "text": [
      "202704\n"
     ]
    }
   ],
   "source": [
    "# Count how many times does each token occur in both \"Title\" and \"FullDescription\" in total\n",
    "# build a dictionary { token -> it's count }\n",
    "from collections import Counter\n",
    "\n",
    "token_counts = Counter()\n",
    "\n",
    "for i in data['Title']:\n",
    "    for j in i.split():\n",
    "        token_counts[j] += 1\n",
    "        \n",
    "for i in data['FullDescription']:\n",
    "    for j in i.split():\n",
    "        token_counts[j] += 1\n",
    "\n",
    "print(len(token_counts))"
   ]
  },
  {
   "cell_type": "code",
   "execution_count": 9,
   "metadata": {},
   "outputs": [
    {
     "name": "stdout",
     "output_type": "stream",
     "text": [
      "Total unique tokens : 202704\n",
      "('and', 2657388)\n",
      "('.', 2523216)\n",
      "(',', 2318606)\n",
      "('the', 2080994)\n",
      "('to', 2019884)\n",
      "...\n",
      "('stephanietraveltraderecruitmnt', 1)\n",
      "('ruabon', 1)\n",
      "('lowehays', 1)\n",
      "Correct!\n"
     ]
    }
   ],
   "source": [
    "print(\"Total unique tokens :\", len(token_counts))\n",
    "print('\\n'.join(map(str, token_counts.most_common(n=5))))\n",
    "print('...')\n",
    "print('\\n'.join(map(str, token_counts.most_common()[-3:])))\n",
    "\n",
    "assert token_counts.most_common(1)[0][1] in  range(2600000, 2700000)\n",
    "assert len(token_counts) in range(200000, 210000)\n",
    "print('Correct!')"
   ]
  },
  {
   "cell_type": "code",
   "execution_count": 10,
   "metadata": {},
   "outputs": [
    {
     "data": {
      "image/png": "[encoded data removed]",
      "text/plain": [
       "<Figure size 640x480 with 1 Axes>"
      ]
     },
     "metadata": {},
     "output_type": "display_data"
    }
   ],
   "source": [
    "# Let's see how many words are there for each count\n",
    "plt.hist(list(token_counts.values()), range=[0, 10**4], bins=50, log=True)\n",
    "plt.xlabel(\"Word counts\");"
   ]
  },
  {
   "cell_type": "code",
   "execution_count": 11,
   "metadata": {},
   "outputs": [
    {
     "data": {
      "text/plain": [
       "Text(0.5, 0, 'description length')"
      ]
     },
     "execution_count": 11,
     "metadata": {},
     "output_type": "execute_result"
    },
    {
     "data": {
      "image/png": "[encoded data removed]",
      "text/plain": [
       "<Figure size 640x480 with 1 Axes>"
      ]
     },
     "metadata": {},
     "output_type": "display_data"
    }
   ],
   "source": [
    "plt.hist(data['FullDescription'].apply(lambda x: x.count(' ')), bins=100, log=True)\n",
    "plt.xlabel(\"description length\")"
   ]
  },
  {
   "cell_type": "markdown",
   "metadata": {},
   "source": [
    "Now filter tokens a list of all tokens that occur at least 10 times."
   ]
  },
  {
   "cell_type": "code",
   "execution_count": 12,
   "metadata": {},
   "outputs": [],
   "source": [
    "min_count = 10\n",
    "\n",
    "# tokens from token_counts keys that had at least min_count occurrences throughout the dataset\n",
    "tokens = [k for k, v in token_counts.items() if v>=min_count]"
   ]
  },
  {
   "cell_type": "code",
   "execution_count": 13,
   "metadata": {},
   "outputs": [
    {
     "name": "stdout",
     "output_type": "stream",
     "text": [
      "Vocabulary size: 34158\n",
      "Correct!\n"
     ]
    }
   ],
   "source": [
    "# Add a special tokens for unknown and empty words\n",
    "UNK, PAD = \"UNK\", \"PAD\"\n",
    "tokens = [UNK, PAD] + sorted(tokens)\n",
    "print(\"Vocabulary size:\", len(tokens))\n",
    "\n",
    "assert type(tokens) == list\n",
    "assert len(tokens) in range(32000, 35000)\n",
    "assert 'me' in tokens\n",
    "assert UNK in tokens\n",
    "print(\"Correct!\")"
   ]
  },
  {
   "cell_type": "markdown",
   "metadata": {},
   "source": [
    "Build an inverse token index: a dictionary from token(string) to it's index in `tokens` (int)"
   ]
  },
  {
   "cell_type": "code",
   "execution_count": 14,
   "metadata": {},
   "outputs": [],
   "source": [
    "token_to_id = dict((k, ind) for ind, k in enumerate(tokens))"
   ]
  },
  {
   "cell_type": "code",
   "execution_count": 15,
   "metadata": {},
   "outputs": [
    {
     "name": "stdout",
     "output_type": "stream",
     "text": [
      "Correct!\n"
     ]
    }
   ],
   "source": [
    "assert isinstance(token_to_id, dict)\n",
    "assert len(token_to_id) == len(tokens)\n",
    "for tok in tokens:\n",
    "    assert tokens[token_to_id[tok]] == tok\n",
    "\n",
    "print(\"Correct!\")"
   ]
  },
  {
   "cell_type": "markdown",
   "metadata": {},
   "source": [
    "And finally, let's use the vocabulary you've built to map text lines into neural network-digestible matrices."
   ]
  },
  {
   "cell_type": "code",
   "execution_count": 16,
   "metadata": {},
   "outputs": [],
   "source": [
    "UNK_IX, PAD_IX = map(token_to_id.get, [UNK, PAD])\n",
    "\n",
    "def as_matrix(sequences, max_len=None):\n",
    "    \"\"\" Convert a list of tokens into a matrix with padding \"\"\"\n",
    "    if isinstance(sequences[0], str):\n",
    "        sequences = list(map(str.split, sequences))\n",
    "        \n",
    "    max_len = min(max(map(len, sequences)), max_len or float('inf'))\n",
    "    \n",
    "    matrix = np.full((len(sequences), max_len), np.int32(PAD_IX))\n",
    "    for i,seq in enumerate(sequences):\n",
    "        row_ix = [token_to_id.get(word, UNK_IX) for word in seq[:max_len]]\n",
    "        matrix[i, :len(row_ix)] = row_ix\n",
    "    \n",
    "    return matrix"
   ]
  },
  {
   "cell_type": "code",
   "execution_count": 17,
   "metadata": {},
   "outputs": [
    {
     "name": "stdout",
     "output_type": "stream",
     "text": [
      "Lines:\n",
      "engineering systems analyst\n",
      "hr assistant\n",
      "senior ec & i engineer\n",
      "\n",
      "Matrix:\n",
      "[[10807 30161  2166     1     1]\n",
      " [15020  2844     1     1     1]\n",
      " [27645 10201    16 15215 10804]]\n"
     ]
    }
   ],
   "source": [
    "print(\"Lines:\")\n",
    "print('\\n'.join(data[\"Title\"][::100000].values), end='\\n\\n')\n",
    "print(\"Matrix:\")\n",
    "print(as_matrix(data[\"Title\"][::100000]))"
   ]
  },
  {
   "cell_type": "markdown",
   "metadata": {},
   "source": [
    "Now let's  encode the categirical data we have.\n",
    "\n",
    "As usual, we shall use one-hot encoding for simplicity. Kudos if you use more advanced encodings: tf-idf, pretrained w2v etc."
   ]
  },
  {
   "cell_type": "code",
   "execution_count": 18,
   "metadata": {},
   "outputs": [
    {
     "data": {
      "text/html": [
       "<style>#sk-container-id-1 {color: black;background-color: white;}#sk-container-id-1 pre{padding: 0;}#sk-container-id-1 div.sk-toggleable {background-color: white;}#sk-container-id-1 label.sk-toggleable__label {cursor: pointer;display: block;width: 100%;margin-bottom: 0;padding: 0.3em;box-sizing: border-box;text-align: center;}#sk-container-id-1 label.sk-toggleable__label-arrow:before {content: \"▸\";float: left;margin-right: 0.25em;color: #696969;}#sk-container-id-1 label.sk-toggleable__label-arrow:hover:before {color: black;}#sk-container-id-1 div.sk-estimator:hover label.sk-toggleable__label-arrow:before {color: black;}#sk-container-id-1 div.sk-toggleable__content {max-height: 0;max-width: 0;overflow: hidden;text-align: left;background-color: #f0f8ff;}#sk-container-id-1 div.sk-toggleable__content pre {margin: 0.2em;color: black;border-radius: 0.25em;background-color: #f0f8ff;}#sk-container-id-1 input.sk-toggleable__control:checked~div.sk-toggleable__content {max-height: 200px;max-width: 100%;overflow: auto;}#sk-container-id-1 input.sk-toggleable__control:checked~label.sk-toggleable__label-arrow:before {content: \"▾\";}#sk-container-id-1 div.sk-estimator input.sk-toggleable__control:checked~label.sk-toggleable__label {background-color: #d4ebff;}#sk-container-id-1 div.sk-label input.sk-toggleable__control:checked~label.sk-toggleable__label {background-color: #d4ebff;}#sk-container-id-1 input.sk-hidden--visually {border: 0;clip: rect(1px 1px 1px 1px);clip: rect(1px, 1px, 1px, 1px);height: 1px;margin: -1px;overflow: hidden;padding: 0;position: absolute;width: 1px;}#sk-container-id-1 div.sk-estimator {font-family: monospace;background-color: #f0f8ff;border: 1px dotted black;border-radius: 0.25em;box-sizing: border-box;margin-bottom: 0.5em;}#sk-container-id-1 div.sk-estimator:hover {background-color: #d4ebff;}#sk-container-id-1 div.sk-parallel-item::after {content: \"\";width: 100%;border-bottom: 1px solid gray;flex-grow: 1;}#sk-container-id-1 div.sk-label:hover label.sk-toggleable__label {background-color: #d4ebff;}#sk-container-id-1 div.sk-serial::before {content: \"\";position: absolute;border-left: 1px solid gray;box-sizing: border-box;top: 0;bottom: 0;left: 50%;z-index: 0;}#sk-container-id-1 div.sk-serial {display: flex;flex-direction: column;align-items: center;background-color: white;padding-right: 0.2em;padding-left: 0.2em;position: relative;}#sk-container-id-1 div.sk-item {position: relative;z-index: 1;}#sk-container-id-1 div.sk-parallel {display: flex;align-items: stretch;justify-content: center;background-color: white;position: relative;}#sk-container-id-1 div.sk-item::before, #sk-container-id-1 div.sk-parallel-item::before {content: \"\";position: absolute;border-left: 1px solid gray;box-sizing: border-box;top: 0;bottom: 0;left: 50%;z-index: -1;}#sk-container-id-1 div.sk-parallel-item {display: flex;flex-direction: column;z-index: 1;position: relative;background-color: white;}#sk-container-id-1 div.sk-parallel-item:first-child::after {align-self: flex-end;width: 50%;}#sk-container-id-1 div.sk-parallel-item:last-child::after {align-self: flex-start;width: 50%;}#sk-container-id-1 div.sk-parallel-item:only-child::after {width: 0;}#sk-container-id-1 div.sk-dashed-wrapped {border: 1px dashed gray;margin: 0 0.4em 0.5em 0.4em;box-sizing: border-box;padding-bottom: 0.4em;background-color: white;}#sk-container-id-1 div.sk-label label {font-family: monospace;font-weight: bold;display: inline-block;line-height: 1.2em;}#sk-container-id-1 div.sk-label-container {text-align: center;}#sk-container-id-1 div.sk-container {/* jupyter's `normalize.less` sets `[hidden] { display: none; }` but bootstrap.min.css set `[hidden] { display: none !important; }` so we also need the `!important` here to be able to override the default hidden behavior on the sphinx rendered scikit-learn.org. See: https://github.com/scikit-learn/scikit-learn/issues/21755 */display: inline-block !important;position: relative;}#sk-container-id-1 div.sk-text-repr-fallback {display: none;}</style><div id=\"sk-container-id-1\" class=\"sk-top-container\"><div class=\"sk-text-repr-fallback\"><pre>DictVectorizer(dtype=&lt;class &#x27;numpy.float32&#x27;&gt;, sparse=False)</pre><b>In a Jupyter environment, please rerun this cell to show the HTML representation or trust the notebook. <br />On GitHub, the HTML representation is unable to render, please try loading this page with nbviewer.org.</b></div><div class=\"sk-container\" hidden><div class=\"sk-item\"><div class=\"sk-estimator sk-toggleable\"><input class=\"sk-toggleable__control sk-hidden--visually\" id=\"sk-estimator-id-1\" type=\"checkbox\" checked><label for=\"sk-estimator-id-1\" class=\"sk-toggleable__label sk-toggleable__label-arrow\">DictVectorizer</label><div class=\"sk-toggleable__content\"><pre>DictVectorizer(dtype=&lt;class &#x27;numpy.float32&#x27;&gt;, sparse=False)</pre></div></div></div></div></div>"
      ],
      "text/plain": [
       "DictVectorizer(dtype=<class 'numpy.float32'>, sparse=False)"
      ]
     },
     "execution_count": 18,
     "metadata": {},
     "output_type": "execute_result"
    }
   ],
   "source": [
    "from sklearn.feature_extraction import DictVectorizer\n",
    "\n",
    "# we only consider top-1k most frequent companies to minimize memory usage\n",
    "top_companies, top_counts = zip(*Counter(data['Company']).most_common(1000))\n",
    "recognized_companies = set(top_companies)\n",
    "data[\"Company\"] = data[\"Company\"].apply(lambda comp: comp if comp in recognized_companies else \"Other\")\n",
    "\n",
    "categorical_vectorizer = DictVectorizer(dtype=np.float32, sparse=False)\n",
    "categorical_vectorizer.fit(data[categorical_columns].apply(dict, axis=1))"
   ]
  },
  {
   "cell_type": "markdown",
   "metadata": {},
   "source": [
    "### The deep learning part\n",
    "\n",
    "Once we've learned to tokenize the data, let's design a machine learning experiment.\n",
    "\n",
    "As before, we won't focus too much on validation, opting for a simple train-test split.\n",
    "\n",
    "__To be completely rigorous,__ we've comitted a small crime here: we used the whole data for tokenization and vocabulary building. A more strict way would be to do that part on training set only. You may want to do that and measure the magnitude of changes."
   ]
  },
  {
   "cell_type": "code",
   "execution_count": 19,
   "metadata": {},
   "outputs": [
    {
     "name": "stdout",
     "output_type": "stream",
     "text": [
      "Train size =  220291\n",
      "Validation size =  24477\n"
     ]
    }
   ],
   "source": [
    "from sklearn.model_selection import train_test_split\n",
    "\n",
    "data_train, data_val = train_test_split(data, test_size=0.1, random_state=42)\n",
    "data_train.index = range(len(data_train))\n",
    "data_val.index = range(len(data_val))\n",
    "\n",
    "print(\"Train size = \", len(data_train))\n",
    "print(\"Validation size = \", len(data_val))"
   ]
  },
  {
   "cell_type": "code",
   "execution_count": 20,
   "metadata": {},
   "outputs": [],
   "source": [
    "import gensim.downloader\n",
    "#fasttext_enc = gensim.downloader.load(\"fasttext-wiki-news-subwords-300\")"
   ]
  },
  {
   "cell_type": "code",
   "execution_count": 21,
   "metadata": {},
   "outputs": [],
   "source": [
    "#fasttext_enc.save('fasttext_300_local')"
   ]
  },
  {
   "cell_type": "code",
   "execution_count": 22,
   "metadata": {},
   "outputs": [
    {
     "data": {
      "text/plain": [
       "(300,)"
      ]
     },
     "execution_count": 22,
     "metadata": {},
     "output_type": "execute_result"
    }
   ],
   "source": [
    "from gensim.models import KeyedVectors\n",
    "fasttext_enc = KeyedVectors.load(\"fasttext_300_local\")\n",
    "fasttext_enc['hi'].shape"
   ]
  },
  {
   "cell_type": "code",
   "execution_count": 23,
   "metadata": {},
   "outputs": [],
   "source": [
    "tokens = np.array(tokens)"
   ]
  },
  {
   "cell_type": "code",
   "execution_count": 24,
   "metadata": {},
   "outputs": [],
   "source": [
    "def make_batch(data, max_len=None, word_dropout=0):\n",
    "    \"\"\"\n",
    "    Creates a keras-friendly dict from the batch data.\n",
    "    :param word_dropout: replaces token index with UNK_IX with this probability\n",
    "    :returns: a dict with {'title' : int64[batch, title_max_len]\n",
    "    \"\"\"\n",
    "    batch = {}\n",
    "    batch[\"Title\"] = as_matrix(data[\"Title\"].values, min((max_len or float('inf')), 40))\n",
    "    batch[\"FullDescription\"] = as_matrix(data[\"FullDescription\"].values, max_len)\n",
    "    batch['Categorical'] = categorical_vectorizer.transform(data[categorical_columns].apply(dict, axis=1))\n",
    "    \n",
    "    if word_dropout != 0:\n",
    "        batch[\"FullDescription\"] = apply_word_dropout(batch[\"FullDescription\"], 1. - word_dropout)\n",
    "    \n",
    "    if target_column in data.columns:\n",
    "        batch[target_column] = data[target_column].values\n",
    "    \n",
    "    \"\"\"\n",
    "    batch = {'Title':np.array([[fasttext_enc[j] if j in fasttext_enc else fasttext_enc['UNK'] for j in i] for i in tokens[batch['Title']]]),\n",
    "               'FullDescription':np.array([[fasttext_enc[j] if j in fasttext_enc else fasttext_enc['UNK'] for j in i] for i in tokens[batch['FullDescription']]]),\n",
    "               #'Categorical':[[fasttext_enc[j] if j in fasttext_enc else fasttext_enc['UNK'] for j in i] for i in tokens[dummy_batch['Categorical'].astype(int)]],\n",
    "               'Categorical':batch['Categorical'],\n",
    "               'Log1pSalary':batch['Log1pSalary']}\n",
    "    \"\"\"\n",
    "    return batch\n",
    "\n",
    "def apply_word_dropout(matrix, keep_prop, replace_with=UNK_IX, pad_ix=PAD_IX,):\n",
    "    dropout_mask = np.random.choice(2, np.shape(matrix), p=[keep_prop, 1 - keep_prop])\n",
    "    dropout_mask &= matrix != pad_ix\n",
    "    return np.choose(dropout_mask, [matrix, np.full_like(matrix, replace_with)])"
   ]
  },
  {
   "cell_type": "code",
   "execution_count": 25,
   "metadata": {},
   "outputs": [
    {
     "name": "stdout",
     "output_type": "stream",
     "text": [
      "Title (10, 10)\n",
      "FullDescription (10, 10)\n",
      "Categorical (10, 3768)\n",
      "Log1pSalary (10,)\n"
     ]
    }
   ],
   "source": [
    "for k, v in make_batch(data_train[:10], max_len=10).items():\n",
    "    print(k, v.shape)"
   ]
  },
  {
   "cell_type": "markdown",
   "metadata": {},
   "source": [
    "#### Architecture\n",
    "\n",
    "Our basic model consists of three branches:\n",
    "* Title encoder\n",
    "* Description encoder\n",
    "* Categorical features encoder\n",
    "\n",
    "We will then feed all 3 branches into one common network that predicts salary.\n",
    "\n",
    "<img src=\"https://github.com/yandexdataschool/nlp_course/raw/master/resources/w2_conv_arch.png\" width=600px>"
   ]
  },
  {
   "cell_type": "markdown",
   "metadata": {},
   "source": [
    "This clearly doesn't fit into keras' __Sequential__ interface. To build such a network, one will have to use __[Keras Functional API](https://keras.io/models/model/)__."
   ]
  },
  {
   "cell_type": "code",
   "execution_count": 26,
   "metadata": {
    "tags": []
   },
   "outputs": [],
   "source": [
    "import keras\n",
    "import keras.layers as L\n",
    "import tensorflow as tf\n",
    "from tensorflow.keras.utils import plot_model\n",
    "from tensorflow.keras.regularizers import L1"
   ]
  },
  {
   "cell_type": "code",
   "execution_count": 27,
   "metadata": {},
   "outputs": [],
   "source": [
    "def build_model(n_tokens=len(tokens), n_cat_features=len(categorical_vectorizer.vocabulary_), hid_size=64):\n",
    "    \"\"\" Build a model that maps three data sources to a single linear output: predicted log1p(salary) \"\"\"\n",
    "    \n",
    "    l_title = L.Input(shape=[None], name=\"Title\")\n",
    "    l_descr = L.Input(shape=[None], name=\"FullDescription\")\n",
    "    l_categ = L.Input(shape=[n_cat_features], name=\"Categorical\")\n",
    "    \n",
    "    emb_l = L.Embedding(input_dim=n_tokens,\n",
    "                        output_dim=300,\n",
    "                        weights=np.array([[fasttext_enc[tokens[i]] if tokens[i] in fasttext_enc else\n",
    "                                          fasttext_enc['UNK'] for i in range(n_tokens)]])\n",
    "                       )\n",
    "    \n",
    "    x = L.Masking(PAD_IX)(l_title)\n",
    "    x = emb_l(x)\n",
    "    x = L.Dense(120, activation='relu')(x)\n",
    "    x = L.Dropout(0.1)(x)\n",
    "    x1 = L.Dense(20, activation='relu')(x)\n",
    "    x2 = L.Dense(20, activation='relu')(x)\n",
    "    x3 = L.Dense(20, activation='relu')(x)\n",
    "    x = L.MultiHeadAttention(3, 20, name='Attention_T')(x1, x2)\n",
    "    \n",
    "    x1 = L.GlobalMaxPooling1D(name='maxpool_T')(x)\n",
    "    x2 = L.GlobalAveragePooling1D(name='avgpool_T')(x)\n",
    "    outp1 = L.Concatenate()([x1, x2])\n",
    "    \n",
    "    \n",
    "    x = L.Masking(PAD_IX)(l_descr)\n",
    "    x = emb_l(x)\n",
    "    x = L.Dense(160, activation='relu')(x)\n",
    "    x = L.Dropout(0.1)(x)\n",
    "    x1 = L.Dense(30, activation='relu')(x)\n",
    "    x2 = L.Dense(30, activation='relu')(x)\n",
    "    x4 = L.Dense(30, activation='relu')(x)\n",
    "    x = L.MultiHeadAttention(3, 30, name='Attention_D')(x1, x2)\n",
    "    \n",
    "    x1 = L.GlobalMaxPooling1D(name='maxpool_D')(x)\n",
    "    x2 = L.GlobalAveragePooling1D(name='avgpool_D')(x)\n",
    "    outp2 = L.Concatenate()([x1, x2])\n",
    "    \n",
    "    x = L.MultiHeadAttention(3, 30, name='Attention_12')(x3, x4)\n",
    "    x1 = L.GlobalMaxPooling1D(name='maxpool_12')(x)\n",
    "    x2 = L.GlobalAveragePooling1D(name='avgpool_12')(x)\n",
    "    outp4 = L.Concatenate()([x1, x2])\n",
    "    \n",
    "    x = L.Dense(40, activation='relu', name='c_dense1')(l_categ)\n",
    "    x = L.Dense(40, activation='relu', name='c_dense2')(x)\n",
    "    outp3 = L.Dense(10, activation='relu', name='c_dense3')(x)\n",
    "    \n",
    "    outp1 = L.Flatten()(outp1)\n",
    "    outp2 = L.Flatten()(outp2)\n",
    "    outp3 = L.Flatten()(outp3)\n",
    "    outp4 = L.Flatten()(outp4)\n",
    "    \n",
    "    x = L.Concatenate()([outp1, outp2, outp3, outp4])\n",
    "    x = L.BatchNormalization()(x)\n",
    "    x = L.Dense(50, activation='relu', kernel_regularizer=L1(0.01))(x)\n",
    "    x = L.Dropout(0.1)(x)\n",
    "    x = L.Dense(10, activation='relu')(x)\n",
    "    output_layer = L.Dense(1, activation='linear', name='Log1pSalary')(x)\n",
    "    # end of your code\n",
    "    \n",
    "    model = keras.models.Model(inputs=[l_title, l_descr, l_categ], outputs=[output_layer])\n",
    "    model.compile('adam', 'mean_squared_error', metrics=['mean_absolute_error'])\n",
    "    return model\n",
    "\n",
    "#build_model().summary()\n",
    "#mdl = build_model()\n",
    "#plot_model(mdl, 'model_LSTM_1.png', show_shapes=True, show_layer_names=True,)"
   ]
  },
  {
   "cell_type": "code",
   "execution_count": 28,
   "metadata": {},
   "outputs": [
    {
     "name": "stdout",
     "output_type": "stream",
     "text": [
      "Model: \"model\"\n",
      "__________________________________________________________________________________________________\n",
      " Layer (type)                   Output Shape         Param #     Connected to                     \n",
      "==================================================================================================\n",
      " Title (InputLayer)             [(None, None)]       0           []                               \n",
      "                                                                                                  \n",
      " FullDescription (InputLayer)   [(None, None)]       0           []                               \n",
      "                                                                                                  \n",
      " masking (Masking)              (None, None)         0           ['Title[0][0]']                  \n",
      "                                                                                                  \n",
      " masking_1 (Masking)            (None, None)         0           ['FullDescription[0][0]']        \n",
      "                                                                                                  \n",
      " embedding (Embedding)          (None, None, 300)    10247400    ['masking[0][0]',                \n",
      "                                                                  'masking_1[0][0]']              \n",
      "                                                                                                  \n",
      " dense (Dense)                  (None, None, 120)    36120       ['embedding[0][0]']              \n",
      "                                                                                                  \n",
      " dense_4 (Dense)                (None, None, 160)    48160       ['embedding[1][0]']              \n",
      "                                                                                                  \n",
      " dropout (Dropout)              (None, None, 120)    0           ['dense[0][0]']                  \n",
      "                                                                                                  \n",
      " dropout_1 (Dropout)            (None, None, 160)    0           ['dense_4[0][0]']                \n",
      "                                                                                                  \n",
      " dense_1 (Dense)                (None, None, 20)     2420        ['dropout[0][0]']                \n",
      "                                                                                                  \n",
      " dense_2 (Dense)                (None, None, 20)     2420        ['dropout[0][0]']                \n",
      "                                                                                                  \n",
      " dense_5 (Dense)                (None, None, 30)     4830        ['dropout_1[0][0]']              \n",
      "                                                                                                  \n",
      " dense_6 (Dense)                (None, None, 30)     4830        ['dropout_1[0][0]']              \n",
      "                                                                                                  \n",
      " Categorical (InputLayer)       [(None, 3768)]       0           []                               \n",
      "                                                                                                  \n",
      " dense_3 (Dense)                (None, None, 20)     2420        ['dropout[0][0]']                \n",
      "                                                                                                  \n",
      " dense_7 (Dense)                (None, None, 30)     4830        ['dropout_1[0][0]']              \n",
      "                                                                                                  \n",
      " Attention_T (MultiHeadAttentio  (None, None, 20)    5000        ['dense_1[0][0]',                \n",
      " n)                                                               'dense_2[0][0]']                \n",
      "                                                                                                  \n",
      " Attention_D (MultiHeadAttentio  (None, None, 30)    11100       ['dense_5[0][0]',                \n",
      " n)                                                               'dense_6[0][0]']                \n",
      "                                                                                                  \n",
      " c_dense1 (Dense)               (None, 40)           150760      ['Categorical[0][0]']            \n",
      "                                                                                                  \n",
      " Attention_12 (MultiHeadAttenti  (None, None, 20)    9290        ['dense_3[0][0]',                \n",
      " on)                                                              'dense_7[0][0]']                \n",
      "                                                                                                  \n",
      " maxpool_T (GlobalMaxPooling1D)  (None, 20)          0           ['Attention_T[0][0]']            \n",
      "                                                                                                  \n",
      " avgpool_T (GlobalAveragePoolin  (None, 20)          0           ['Attention_T[0][0]']            \n",
      " g1D)                                                                                             \n",
      "                                                                                                  \n",
      " maxpool_D (GlobalMaxPooling1D)  (None, 30)          0           ['Attention_D[0][0]']            \n",
      "                                                                                                  \n",
      " avgpool_D (GlobalAveragePoolin  (None, 30)          0           ['Attention_D[0][0]']            \n",
      " g1D)                                                                                             \n",
      "                                                                                                  \n",
      " c_dense2 (Dense)               (None, 40)           1640        ['c_dense1[0][0]']               \n",
      "                                                                                                  \n",
      " maxpool_12 (GlobalMaxPooling1D  (None, 20)          0           ['Attention_12[0][0]']           \n",
      " )                                                                                                \n",
      "                                                                                                  \n",
      " avgpool_12 (GlobalAveragePooli  (None, 20)          0           ['Attention_12[0][0]']           \n",
      " ng1D)                                                                                            \n",
      "                                                                                                  \n",
      " concatenate (Concatenate)      (None, 40)           0           ['maxpool_T[0][0]',              \n",
      "                                                                  'avgpool_T[0][0]']              \n",
      "                                                                                                  \n",
      " concatenate_1 (Concatenate)    (None, 60)           0           ['maxpool_D[0][0]',              \n",
      "                                                                  'avgpool_D[0][0]']              \n",
      "                                                                                                  \n",
      " c_dense3 (Dense)               (None, 10)           410         ['c_dense2[0][0]']               \n",
      "                                                                                                  \n",
      " concatenate_2 (Concatenate)    (None, 40)           0           ['maxpool_12[0][0]',             \n",
      "                                                                  'avgpool_12[0][0]']             \n",
      "                                                                                                  \n",
      " flatten (Flatten)              (None, 40)           0           ['concatenate[0][0]']            \n",
      "                                                                                                  \n",
      " flatten_1 (Flatten)            (None, 60)           0           ['concatenate_1[0][0]']          \n",
      "                                                                                                  \n",
      " flatten_2 (Flatten)            (None, 10)           0           ['c_dense3[0][0]']               \n",
      "                                                                                                  \n",
      " flatten_3 (Flatten)            (None, 40)           0           ['concatenate_2[0][0]']          \n"
     ]
    },
    {
     "name": "stdout",
     "output_type": "stream",
     "text": [
      "                                                                                                  \n",
      " concatenate_3 (Concatenate)    (None, 150)          0           ['flatten[0][0]',                \n",
      "                                                                  'flatten_1[0][0]',              \n",
      "                                                                  'flatten_2[0][0]',              \n",
      "                                                                  'flatten_3[0][0]']              \n",
      "                                                                                                  \n",
      " batch_normalization (BatchNorm  (None, 150)         600         ['concatenate_3[0][0]']          \n",
      " alization)                                                                                       \n",
      "                                                                                                  \n",
      " dense_8 (Dense)                (None, 100)          15100       ['batch_normalization[0][0]']    \n",
      "                                                                                                  \n",
      " dropout_2 (Dropout)            (None, 100)          0           ['dense_8[0][0]']                \n",
      "                                                                                                  \n",
      " dense_9 (Dense)                (None, 50)           5050        ['dropout_2[0][0]']              \n",
      "                                                                                                  \n",
      " Log1pSalary (Dense)            (None, 1)            51          ['dense_9[0][0]']                \n",
      "                                                                                                  \n",
      "==================================================================================================\n",
      "Total params: 10,552,431\n",
      "Trainable params: 10,552,131\n",
      "Non-trainable params: 300\n",
      "__________________________________________________________________________________________________\n",
      "Title (100, 10)\n",
      "FullDescription (100, 10)\n",
      "Categorical (100, 3768)\n",
      "Log1pSalary (100,)\n",
      "here\n"
     ]
    },
    {
     "name": "stderr",
     "output_type": "stream",
     "text": [
      "C:\\Users\\movse\\anaconda3\\envs\\UpToDateEnv\\lib\\site-packages\\keras\\engine\\functional.py:637: UserWarning: Input dict contained keys ['Log1pSalary'] which did not match any model input. They will be ignored by the model.\n",
      "  inputs = self._flatten_to_reference_inputs(inputs)\n"
     ]
    },
    {
     "name": "stdout",
     "output_type": "stream",
     "text": [
      "4/4 [==============================] - 0s 2ms/step\n",
      "[[ 8.4659946e-04]\n",
      " [-4.3956656e-04]\n",
      " [-8.1775896e-04]\n",
      " [-1.5917271e-03]\n",
      " [-2.7550114e-03]\n",
      " [-7.9281982e-03]\n",
      " [ 3.0062022e-04]\n",
      " [ 1.8767987e-03]\n",
      " [-5.1954761e-05]\n",
      " [ 4.2716595e-03]\n",
      " [-4.8773251e-03]\n",
      " [ 3.2805735e-03]\n",
      " [ 2.3732767e-03]\n",
      " [-1.2779777e-03]\n",
      " [-3.0152434e-03]\n",
      " [ 1.1140518e-03]\n",
      " [-6.1706845e-03]\n",
      " [ 5.8254926e-05]\n",
      " [-5.8865547e-04]\n",
      " [-3.5285829e-03]\n",
      " [ 4.0452536e-03]\n",
      " [-1.7560693e-04]\n",
      " [ 3.2946081e-03]\n",
      " [ 1.9158283e-04]\n",
      " [ 3.1676609e-03]\n",
      " [-9.5217489e-05]\n",
      " [-6.0244976e-04]\n",
      " [-8.7870075e-04]\n",
      " [-1.3940237e-03]\n",
      " [-2.0903070e-05]\n",
      " [-8.4531000e-03]\n",
      " [-5.0830916e-03]\n",
      " [ 4.0455447e-03]\n",
      " [-4.6606795e-03]\n",
      " [-2.6217788e-03]\n",
      " [ 1.3630588e-03]\n",
      " [-3.0072760e-03]\n",
      " [-6.7033898e-04]\n",
      " [ 1.3364151e-03]\n",
      " [ 4.4437824e-04]\n",
      " [-2.5494974e-03]\n",
      " [-1.0568989e-03]\n",
      " [-6.0603325e-03]\n",
      " [ 5.4782345e-03]\n",
      " [-4.2669073e-04]\n",
      " [-4.2638946e-03]\n",
      " [-4.9112537e-03]\n",
      " [ 4.3934938e-03]\n",
      " [ 1.1135248e-03]\n",
      " [ 1.0761688e-03]\n",
      " [-2.2528362e-03]\n",
      " [-4.2816880e-03]\n",
      " [ 4.3298258e-03]\n",
      " [ 4.5387661e-03]\n",
      " [-6.7924098e-03]\n",
      " [ 5.4391259e-03]\n",
      " [-2.8519095e-03]\n",
      " [-3.4645959e-03]\n",
      " [ 5.1252614e-04]\n",
      " [ 3.2482678e-03]\n",
      " [-4.3029664e-03]\n",
      " [-1.0241165e-03]\n",
      " [-2.1744594e-03]\n",
      " [ 1.9611437e-03]\n",
      " [ 1.8760625e-03]\n",
      " [-2.5030503e-03]\n",
      " [ 3.3589937e-03]\n",
      " [-4.3307091e-03]\n",
      " [ 3.3862165e-03]\n",
      " [-3.5260702e-03]\n",
      " [-2.9144925e-03]\n",
      " [-3.1281635e-04]\n",
      " [-1.2525152e-03]\n",
      " [ 7.5076474e-05]\n",
      " [-5.4839188e-03]\n",
      " [ 2.1990496e-03]\n",
      " [-3.2443148e-03]\n",
      " [ 4.0108282e-03]\n",
      " [-2.0041903e-03]\n",
      " [ 3.0156551e-03]\n",
      " [ 4.3827575e-03]\n",
      " [ 2.8819283e-03]\n",
      " [-2.0550955e-03]\n",
      " [ 1.5339332e-03]\n",
      " [ 1.6384099e-03]\n",
      " [ 3.0514682e-03]\n",
      " [ 2.0698062e-03]\n",
      " [-1.1394259e-03]\n",
      " [ 2.3868247e-03]\n",
      " [ 3.5193409e-03]\n",
      " [ 1.4509354e-04]\n",
      " [ 2.3657470e-03]\n",
      " [ 3.0003395e-04]\n",
      " [-2.3529052e-03]\n",
      " [ 4.3842085e-03]\n",
      " [-1.0641012e-04]\n",
      " [ 4.9232855e-03]\n",
      " [-3.7797575e-03]\n",
      " [-1.0950854e-03]\n",
      " [-4.7790864e-03]]\n",
      "here2\n"
     ]
    }
   ],
   "source": [
    "model = build_model()\n",
    "model.summary()\n",
    "\n",
    "dummy_batch = make_batch(data_train[:100], 10)\n",
    "for k,v in dummy_batch.items():\n",
    "    print(k, np.array(v).shape)\n",
    "\n",
    "print('here')\n",
    "dummy_pred = model.predict(dummy_batch)\n",
    "print(dummy_pred)\n",
    "print('here2')\n",
    "dummy_loss = model.train_on_batch(dummy_batch, dummy_batch['Log1pSalary'][:100])[0]\n",
    "assert dummy_pred.shape == (100, 1)\n",
    "assert len(np.unique(dummy_pred)) > 20, \"model returns suspiciously few unique outputs. Check your initialization\"\n",
    "assert np.ndim(dummy_loss) == 0 and 0. <= dummy_loss <= 250., \"make sure you minimize MSE\""
   ]
  },
  {
   "cell_type": "code",
   "execution_count": 29,
   "metadata": {},
   "outputs": [
    {
     "data": {
      "text/plain": [
       "(100, 10)"
      ]
     },
     "execution_count": 29,
     "metadata": {},
     "output_type": "execute_result"
    }
   ],
   "source": [
    "dummy_batch['FullDescription'].shape"
   ]
  },
  {
   "cell_type": "markdown",
   "metadata": {},
   "source": [
    "#### Training and evaluation\n",
    "\n",
    "As usual, we gonna feed our model with random minibatches of data. \n",
    "\n",
    "As we train, we want to monitor not only loss function, which is computed in log-space, but also the actual error measured in dollars."
   ]
  },
  {
   "cell_type": "code",
   "execution_count": 29,
   "metadata": {},
   "outputs": [],
   "source": [
    "def iterate_minibatches(data, batch_size=256, shuffle=True, cycle=False, **kwargs):\n",
    "    \"\"\" iterates minibatches of data in random order \"\"\"\n",
    "    while True:\n",
    "        indices = np.arange(len(data))\n",
    "        if shuffle:\n",
    "            indices = np.random.permutation(indices)\n",
    "\n",
    "        for start in range(0, len(indices), batch_size):\n",
    "            batch = make_batch(data.iloc[indices[start : start + batch_size]], **kwargs)\n",
    "            target = batch.pop(target_column)\n",
    "            yield batch, target\n",
    "        \n",
    "        if not cycle: break"
   ]
  },
  {
   "cell_type": "markdown",
   "metadata": {},
   "source": [
    "### Model training\n",
    "\n",
    "We can now fit our model the usual minibatch way. The interesting part is that we train on an infinite stream of minibatches, produced by `iterate_minibatches` function."
   ]
  },
  {
   "cell_type": "code",
   "execution_count": 30,
   "metadata": {},
   "outputs": [
    {
     "name": "stdout",
     "output_type": "stream",
     "text": [
      "Epoch 1/100\n",
      "200/200 [==============================] - 207s 1s/step - loss: 22.4629 - mean_absolute_error: 2.4371 - val_loss: 14.1788 - val_mean_absolute_error: 1.8472\n",
      "Epoch 2/100\n",
      "200/200 [==============================] - 205s 1s/step - loss: 9.2736 - mean_absolute_error: 0.9148 - val_loss: 7.9357 - val_mean_absolute_error: 0.7542\n",
      "Epoch 3/100\n",
      "200/200 [==============================] - 207s 1s/step - loss: 6.6519 - mean_absolute_error: 0.7118 - val_loss: 10.3253 - val_mean_absolute_error: 2.1839\n",
      "Epoch 4/100\n",
      "200/200 [==============================] - 211s 1s/step - loss: 4.7929 - mean_absolute_error: 0.5968 - val_loss: 5.9364 - val_mean_absolute_error: 1.4599\n",
      "Epoch 5/100\n",
      "200/200 [==============================] - 207s 1s/step - loss: 3.5063 - mean_absolute_error: 0.5480 - val_loss: 3.0090 - val_mean_absolute_error: 0.5602\n",
      "Epoch 6/100\n",
      "200/200 [==============================] - 212s 1s/step - loss: 2.5942 - mean_absolute_error: 0.5210 - val_loss: 1.9765 - val_mean_absolute_error: 0.3175\n",
      "Epoch 7/100\n",
      "200/200 [==============================] - 199s 997ms/step - loss: 1.9197 - mean_absolute_error: 0.4914 - val_loss: 2.0313 - val_mean_absolute_error: 0.7813\n",
      "Epoch 8/100\n",
      "200/200 [==============================] - 204s 1s/step - loss: 1.4767 - mean_absolute_error: 0.4915 - val_loss: 1.2058 - val_mean_absolute_error: 0.4894\n",
      "Epoch 9/100\n",
      "200/200 [==============================] - 205s 1s/step - loss: 1.0785 - mean_absolute_error: 0.4460 - val_loss: 0.8013 - val_mean_absolute_error: 0.3697\n",
      "Epoch 10/100\n",
      "200/200 [==============================] - 205s 1s/step - loss: 0.8412 - mean_absolute_error: 0.4422 - val_loss: 0.5960 - val_mean_absolute_error: 0.2999\n",
      "Epoch 11/100\n",
      "200/200 [==============================] - 201s 1s/step - loss: 0.6743 - mean_absolute_error: 0.4222 - val_loss: 0.5064 - val_mean_absolute_error: 0.3711\n",
      "Epoch 12/100\n",
      "200/200 [==============================] - 200s 1s/step - loss: 0.5130 - mean_absolute_error: 0.4106 - val_loss: 0.4485 - val_mean_absolute_error: 0.4279\n",
      "Epoch 13/100\n",
      "200/200 [==============================] - 207s 1s/step - loss: 0.3402 - mean_absolute_error: 0.3598 - val_loss: 0.2090 - val_mean_absolute_error: 0.2574\n",
      "Epoch 14/100\n",
      "200/200 [==============================] - 200s 1s/step - loss: 0.2819 - mean_absolute_error: 0.3515 - val_loss: 0.1543 - val_mean_absolute_error: 0.2286\n",
      "Epoch 15/100\n",
      "200/200 [==============================] - 205s 1s/step - loss: 0.2610 - mean_absolute_error: 0.3518 - val_loss: 0.1302 - val_mean_absolute_error: 0.2093\n",
      "Epoch 16/100\n",
      "200/200 [==============================] - 203s 1s/step - loss: 0.2318 - mean_absolute_error: 0.3376 - val_loss: 0.1488 - val_mean_absolute_error: 0.2603\n",
      "Epoch 17/100\n",
      "200/200 [==============================] - 202s 1s/step - loss: 0.2267 - mean_absolute_error: 0.3346 - val_loss: 0.2275 - val_mean_absolute_error: 0.3630\n",
      "Epoch 18/100\n",
      "200/200 [==============================] - 206s 1s/step - loss: 0.2120 - mean_absolute_error: 0.3254 - val_loss: 0.1314 - val_mean_absolute_error: 0.2173\n",
      "Epoch 19/100\n",
      "200/200 [==============================] - 205s 1s/step - loss: 0.2133 - mean_absolute_error: 0.3258 - val_loss: 0.2513 - val_mean_absolute_error: 0.3919\n",
      "Epoch 20/100\n",
      "200/200 [==============================] - 200s 1s/step - loss: 0.2138 - mean_absolute_error: 0.3255 - val_loss: 0.1778 - val_mean_absolute_error: 0.2968\n",
      "Epoch 21/100\n",
      "200/200 [==============================] - 202s 1s/step - loss: 0.1796 - mean_absolute_error: 0.2979 - val_loss: 0.1246 - val_mean_absolute_error: 0.2204\n",
      "Epoch 22/100\n",
      "200/200 [==============================] - 200s 1s/step - loss: 0.1834 - mean_absolute_error: 0.2974 - val_loss: 0.1850 - val_mean_absolute_error: 0.3154\n",
      "Epoch 23/100\n",
      "200/200 [==============================] - 200s 1s/step - loss: 0.1747 - mean_absolute_error: 0.2890 - val_loss: 0.2158 - val_mean_absolute_error: 0.3567\n",
      "Epoch 24/100\n",
      "200/200 [==============================] - 202s 1s/step - loss: 0.1782 - mean_absolute_error: 0.2886 - val_loss: 0.1077 - val_mean_absolute_error: 0.2041\n",
      "Epoch 25/100\n",
      "200/200 [==============================] - 201s 1s/step - loss: 0.1799 - mean_absolute_error: 0.2913 - val_loss: 0.1350 - val_mean_absolute_error: 0.2467\n",
      "Epoch 26/100\n",
      "200/200 [==============================] - 200s 1s/step - loss: 0.1654 - mean_absolute_error: 0.2776 - val_loss: 0.1033 - val_mean_absolute_error: 0.2032\n",
      "Epoch 27/100\n",
      "200/200 [==============================] - 204s 1s/step - loss: 0.1660 - mean_absolute_error: 0.2780 - val_loss: 0.1015 - val_mean_absolute_error: 0.1916\n",
      "Epoch 28/100\n",
      "200/200 [==============================] - 206s 1s/step - loss: 0.1629 - mean_absolute_error: 0.2725 - val_loss: 0.1046 - val_mean_absolute_error: 0.1954\n",
      "Epoch 29/100\n",
      "200/200 [==============================] - 200s 1s/step - loss: 0.1644 - mean_absolute_error: 0.2779 - val_loss: 0.2688 - val_mean_absolute_error: 0.4137\n",
      "Epoch 30/100\n",
      "200/200 [==============================] - 201s 1s/step - loss: 0.1553 - mean_absolute_error: 0.2663 - val_loss: 0.1382 - val_mean_absolute_error: 0.2463\n",
      "Epoch 31/100\n",
      "200/200 [==============================] - 204s 1s/step - loss: 0.1556 - mean_absolute_error: 0.2637 - val_loss: 0.1028 - val_mean_absolute_error: 0.2028\n",
      "Epoch 32/100\n",
      "200/200 [==============================] - 203s 1s/step - loss: 0.1441 - mean_absolute_error: 0.2548 - val_loss: 0.0979 - val_mean_absolute_error: 0.1857\n",
      "Epoch 33/100\n",
      "200/200 [==============================] - 203s 1s/step - loss: 0.1445 - mean_absolute_error: 0.2551 - val_loss: 0.1013 - val_mean_absolute_error: 0.1928\n",
      "Epoch 34/100\n",
      "200/200 [==============================] - 206s 1s/step - loss: 0.1440 - mean_absolute_error: 0.2531 - val_loss: 0.1289 - val_mean_absolute_error: 0.2288\n",
      "Epoch 35/100\n",
      "200/200 [==============================] - 199s 999ms/step - loss: 0.1425 - mean_absolute_error: 0.2470 - val_loss: 0.1225 - val_mean_absolute_error: 0.2293\n",
      "Epoch 36/100\n",
      "200/200 [==============================] - 201s 1s/step - loss: 0.1376 - mean_absolute_error: 0.2442 - val_loss: 0.2124 - val_mean_absolute_error: 0.3556\n",
      "Epoch 37/100\n",
      "200/200 [==============================] - 204s 1s/step - loss: 0.1318 - mean_absolute_error: 0.2388 - val_loss: 0.0987 - val_mean_absolute_error: 0.1849\n",
      "Epoch 38/100\n",
      "200/200 [==============================] - 202s 1s/step - loss: 0.1297 - mean_absolute_error: 0.2352 - val_loss: 0.4930 - val_mean_absolute_error: 0.6257\n",
      "Epoch 39/100\n",
      "200/200 [==============================] - 202s 1s/step - loss: 0.1337 - mean_absolute_error: 0.2379 - val_loss: 0.1369 - val_mean_absolute_error: 0.2459\n"
     ]
    }
   ],
   "source": [
    "batch_size = 32\n",
    "epochs = 100\n",
    "steps_per_epoch = 200  #(len(data_train) - 1) // batch_size + 1\n",
    "\n",
    "early_stopping = tf.keras.callbacks.EarlyStopping(patience=7, restore_best_weights=True)\n",
    "\n",
    "model = build_model()\n",
    "\n",
    "history4 = model.fit(iterate_minibatches(data_train, batch_size, cycle=True, word_dropout=0.05),\n",
    "                     epochs=epochs, steps_per_epoch=steps_per_epoch,\n",
    "                     \n",
    "                     validation_data=iterate_minibatches(data_val, batch_size, cycle=True),\n",
    "                     validation_steps=data_val.shape[0] // batch_size,\n",
    "                     callbacks=[early_stopping]\n",
    "                    )"
   ]
  },
  {
   "cell_type": "code",
   "execution_count": 34,
   "metadata": {},
   "outputs": [],
   "source": [
    "model.save('Attention_2.h5')"
   ]
  },
  {
   "cell_type": "code",
   "execution_count": 62,
   "metadata": {},
   "outputs": [],
   "source": [
    "#model1 =  tf.keras.models.load_model('LSTM_v1.h5')\n",
    "#model1.summary()"
   ]
  },
  {
   "cell_type": "markdown",
   "metadata": {},
   "source": [
    "batch_size = 32 everywhere\n",
    "\n",
    "steps_per epoch = 1000 everywhere except model4 (200 in model4)\n",
    "\n",
    "***________________________________________________________________________________________________________________________***\n",
    "\n",
    "#### model1:\n",
    "\n",
    "***Fasttext embeddings*** - <font color='red'>Not trainable</font>\n",
    "\n",
    "***Bidirectional LSTM*** for Title and Description\n",
    "\n",
    "***Avg_pool*** + ***max_pool*** from Title and Description after LSTM\n",
    "\n",
    "***Dropout*** and ***batch normalization*** at the end\n",
    "\n",
    "***________________________________________________________________________________________________________________________***\n",
    "\n",
    "#### model2:\n",
    "\n",
    "***Fasttext embeddings*** - <font color='green'>Trainable</font>\n",
    "\n",
    "Added ***dropout***  to ***LSTM***\n",
    "\n",
    "Added masking layer so the model doesnt pay attention to paddings\n",
    "\n",
    "    pros: avg_pool should benefit from this, is faster\n",
    "    \n",
    "    cons: creates more graphs\n",
    "    \n",
    "Rest is the same\n",
    "\n",
    "***________________________________________________________________________________________________________________________***\n",
    "\n",
    "#### model3:\n",
    "\n",
    "Replaced ***LSTM*** with ***Attention***\n",
    "\n",
    "    pros: much faster, better scores, more stable training\n",
    "    \n",
    "    cons: requires slightly more memory\n",
    "    \n",
    "Rest is the same\n",
    "\n",
    "\n",
    "***________________________________________________________________________________________________________________________***\n",
    "\n",
    "\n",
    "### model4:\n",
    "\n",
    "#### Attention -> MultiHeadAttention\n",
    "\n",
    "***____ pros: better performance, faster convergence epoch-wise***.\n",
    "\n",
    "***____ cons: works much slower, needs more memory***.\n",
    "\n",
    "#### Added 4-th branch that uses Title as query and Description as key/value so that the attention can pick up words based on Title's context\n",
    "\n",
    "#### Added L1 regularization after the concatenation layer to avoid multicollinearity\n",
    "    \n",
    "#### Rest is the same\n",
    "\n",
    "***________________________________________________________________________________________________________________________***\n",
    "\n",
    "Other potential improvements:\n",
    "\n",
    "Adding positional (sin/cos) embeddings."
   ]
  },
  {
   "cell_type": "code",
   "execution_count": 53,
   "metadata": {},
   "outputs": [],
   "source": [
    "print('hi')"
   ]
  },
  {
   "cell_type": "code",
   "execution_count": 32,
   "metadata": {},
   "outputs": [],
   "source": [
    "def plt_history(h):\n",
    "    plt.plot(h.history['mean_absolute_error'], label='mae')\n",
    "    plt.plot(h.history['loss'], label='mse')\n",
    "    plt.plot(h.history['val_mean_absolute_error'], label='val_mae')\n",
    "    plt.plot(h.history['val_loss'], label='val_mse')\n",
    "    plt.legend()\n",
    "    plt.show()\n",
    "    \n",
    "    arg_min1 = np.argmin(h.history['val_loss'])\n",
    "    print('mae =', h.history['mean_absolute_error'][arg_min1])\n",
    "    print('mse =', h.history['loss'][arg_min1])\n",
    "    print('val_mae =', h.history['val_mean_absolute_error'][arg_min1])\n",
    "    print('val_mse =', h.history['val_loss'][arg_min1])"
   ]
  },
  {
   "cell_type": "code",
   "execution_count": 33,
   "metadata": {},
   "outputs": [
    {
     "data": {
      "image/png": "[encoded data removed]",
      "text/plain": [
       "<Figure size 640x480 with 1 Axes>"
      ]
     },
     "metadata": {},
     "output_type": "display_data"
    },
    {
     "name": "stdout",
     "output_type": "stream",
     "text": [
      "mae = 0.254819393157959\n",
      "mse = 0.14414776861667633\n",
      "val_mae = 0.18570296466350555\n",
      "val_mse = 0.09789654612541199\n"
     ]
    }
   ],
   "source": [
    "# each epoch is 5 times smaller than in other models\n",
    "plt_history(history4)"
   ]
  },
  {
   "cell_type": "code",
   "execution_count": 33,
   "metadata": {},
   "outputs": [
    {
     "data": {
      "image/png": "[encoded data removed]",
      "text/plain": [
       "<Figure size 640x480 with 1 Axes>"
      ]
     },
     "metadata": {},
     "output_type": "display_data"
    },
    {
     "name": "stdout",
     "output_type": "stream",
     "text": [
      "mae = 0.3450976610183716\n",
      "mse = 0.19489867985248566\n",
      "val_mae = 0.23055356740951538\n",
      "val_mse = 0.09350360184907913\n"
     ]
    }
   ],
   "source": [
    "plt_history(history3)"
   ]
  },
  {
   "cell_type": "code",
   "execution_count": 37,
   "metadata": {},
   "outputs": [
    {
     "data": {
      "image/png": "[encoded data removed]",
      "text/plain": [
       "<Figure size 640x480 with 1 Axes>"
      ]
     },
     "metadata": {},
     "output_type": "display_data"
    },
    {
     "name": "stdout",
     "output_type": "stream",
     "text": [
      "mae = 0.6806453466415405\n",
      "mse = 0.7377350330352783\n",
      "val_mae = 0.2520613670349121\n",
      "val_mse = 0.10699072480201721\n"
     ]
    }
   ],
   "source": [
    "plt_history(history2)"
   ]
  },
  {
   "cell_type": "code",
   "execution_count": 54,
   "metadata": {},
   "outputs": [
    {
     "data": {
      "image/png": "[encoded data removed]",
      "text/plain": [
       "<Figure size 640x480 with 1 Axes>"
      ]
     },
     "metadata": {},
     "output_type": "display_data"
    },
    {
     "name": "stdout",
     "output_type": "stream",
     "text": [
      "mae = 0.6095054149627686\n",
      "mse = 0.6021668314933777\n",
      "val_mae = 0.3570358157157898\n",
      "val_mse = 0.1918124109506607\n"
     ]
    }
   ],
   "source": [
    "plt_history(history1)"
   ]
  },
  {
   "cell_type": "code",
   "execution_count": 36,
   "metadata": {},
   "outputs": [
    {
     "name": "stdout",
     "output_type": "stream",
     "text": [
      "\n"
     ]
    }
   ],
   "source": [
    "# this cell creates too many graphs\n",
    "\"\"\"\n",
    "def print_metrics(model, data, batch_size=batch_size, name=\"\", **kw):\n",
    "    squared_error = abs_error = num_samples = 0.0\n",
    "    for batch_x, batch_y in iterate_minibatches(data, batch_size=batch_size, shuffle=False, **kw):\n",
    "        batch_pred = model.predict(batch_x)[:, 0]\n",
    "        squared_error += np.sum(np.square(batch_pred - batch_y))\n",
    "        abs_error += np.sum(np.abs(batch_pred - batch_y))\n",
    "        num_samples += len(batch_y)\n",
    "    print(\"%s results:\" % (name or \"\"))\n",
    "    print(\"Mean square error: %.5f\" % (squared_error / num_samples))\n",
    "    print(\"Mean absolute error: %.5f\" % (abs_error / num_samples))\n",
    "    return squared_error, abs_error\n",
    "    \n",
    "print_metrics(model, data_train[:200], 64, name='Train')\n",
    "print_metrics(model, data_val[:200], 64, name='Val');\n",
    "\"\"\""
   ]
  },
  {
   "cell_type": "markdown",
   "metadata": {},
   "source": [
    "### Bonus part: explaining model predictions\n",
    "\n",
    "It's usually a good idea to understand how your model works before you let it make actual decisions. It's simple for linear models: just see which words learned positive or negative weights. However, its much harder for neural networks that learn complex nonlinear dependencies.\n",
    "\n",
    "There are, however, some ways to look inside the black box:\n",
    "* Seeing how model responds to input perturbations\n",
    "* Finding inputs that maximize/minimize activation of some chosen neurons (_read more [on distill.pub](https://distill.pub/2018/building-blocks/)_)\n",
    "* Building local linear approximations to your neural network: [article](https://arxiv.org/abs/1602.04938), [eli5 library](https://github.com/TeamHG-Memex/eli5/tree/master/eli5/formatters)\n",
    "\n",
    "Today we gonna try the first method just because it's the simplest one."
   ]
  },
  {
   "cell_type": "code",
   "execution_count": 37,
   "metadata": {},
   "outputs": [],
   "source": [
    "def explain(model, sample, col_name='Title'):\n",
    "    \"\"\" Computes the effect each word had on model predictions \"\"\"\n",
    "    sample = dict(sample)\n",
    "    sample_col_tokens = [tokens[token_to_id.get(tok, 0)] for tok in sample[col_name].split()]\n",
    "    data_drop_one_token = pd.DataFrame([sample] * (len(sample_col_tokens) + 1))\n",
    "\n",
    "    for drop_i in range(len(sample_col_tokens)):\n",
    "        data_drop_one_token.loc[drop_i, col_name] = ' '.join(UNK if i == drop_i else tok\n",
    "                                                   for i, tok in enumerate(sample_col_tokens)) \n",
    "\n",
    "    *predictions_drop_one_token, baseline_pred = model.predict(make_batch(data_drop_one_token))[:, 0]\n",
    "    diffs = baseline_pred - predictions_drop_one_token\n",
    "    return list(zip(sample_col_tokens, diffs))"
   ]
  },
  {
   "cell_type": "code",
   "execution_count": 38,
   "metadata": {},
   "outputs": [],
   "source": [
    "from IPython.display import HTML, display_html\n",
    "\n",
    "def draw_html(tokens_and_weights, cmap=plt.get_cmap(\"bwr\"), display=True,\n",
    "              token_template=\"\"\"<span style=\"background-color: {color_hex}\">{token}</span>\"\"\",\n",
    "              font_style=\"font-size:14px;\"\n",
    "             ):\n",
    "    \n",
    "    def get_color_hex(weight):\n",
    "        rgba = cmap(1. / (1 + np.exp(weight)), bytes=True)\n",
    "        return '#%02X%02X%02X' % rgba[:3]\n",
    "    \n",
    "    tokens_html = [\n",
    "        token_template.format(token=token, color_hex=get_color_hex(weight))\n",
    "        for token, weight in tokens_and_weights\n",
    "    ]\n",
    "    \n",
    "    \n",
    "    raw_html = \"\"\"<p style=\"{}\">{}</p>\"\"\".format(font_style, ' '.join(tokens_html))\n",
    "    if display:\n",
    "        display_html(HTML(raw_html))\n",
    "        \n",
    "    return raw_html\n",
    "    "
   ]
  },
  {
   "cell_type": "code",
   "execution_count": 40,
   "metadata": {},
   "outputs": [
    {
     "name": "stdout",
     "output_type": "stream",
     "text": [
      "1/1 [==============================] - 0s 24ms/step\n"
     ]
    },
    {
     "data": {
      "text/html": [
       "<p style=\"font-size:20px;\"><span style=\"background-color: #E2E2FF\">sales</span> <span style=\"background-color: #BEBEFF\">specialist</span> <span style=\"background-color: #DEDEFF\">iv</span> <span style=\"background-color: #E8E8FF\">access</span> <span style=\"background-color: #E8E8FF\">and</span> <span style=\"background-color: #E0E0FF\">infusion</span></p>"
      ]
     },
     "metadata": {},
     "output_type": "display_data"
    },
    {
     "name": "stdout",
     "output_type": "stream",
     "text": [
      "11/11 [==============================] - 0s 44ms/step\n"
     ]
    },
    {
     "data": {
      "text/html": [
       "<p style=\"font-size:14px;\"><span style=\"background-color: #FFFEFE\">sales</span> <span style=\"background-color: #FFFAFA\">representative</span> <span style=\"background-color: #F2F2FF\">medical</span> <span style=\"background-color: #FFFEFE\">sales</span> <span style=\"background-color: #F2F2FF\">iv</span> <span style=\"background-color: #FEFEFF\">access</span> <span style=\"background-color: #FEFEFF\">and</span> <span style=\"background-color: #FEFEFF\">infusion</span> <span style=\"background-color: #FEFEFF\">an</span> <span style=\"background-color: #FEFEFF\">opportunity</span> <span style=\"background-color: #FFFEFE\">to</span> <span style=\"background-color: #FEFEFF\">work</span> <span style=\"background-color: #FEFEFF\">for</span> <span style=\"background-color: #FEFEFF\">the</span> <span style=\"background-color: #FEFEFF\">industry</span> <span style=\"background-color: #F8F8FF\">leading</span> <span style=\"background-color: #FFFCFC\">manufacturer</span> <span style=\"background-color: #FEFEFF\">of</span> <span style=\"background-color: #F2F2FF\">iv</span> <span style=\"background-color: #FEFEFF\">access</span> <span style=\"background-color: #FEFEFF\">and</span> <span style=\"background-color: #FEFEFF\">infusion</span> <span style=\"background-color: #F8F8FF\">solutions</span> <span style=\"background-color: #FEFEFF\">.</span> <span style=\"background-color: #FFFEFE\">formally</span> <span style=\"background-color: #FAFAFF\">recognised</span> <span style=\"background-color: #FEFEFF\">as</span> <span style=\"background-color: #FEFEFF\">the</span> <span style=\"background-color: #FFFEFE\">number</span> <span style=\"background-color: #FFFEFE\">****</span> <span style=\"background-color: #FFFAFA\">company</span> <span style=\"background-color: #FFFEFE\">in</span> <span style=\"background-color: #FEFEFF\">this</span> <span style=\"background-color: #FAFAFF\">market</span> <span style=\"background-color: #FAFAFF\">space</span> <span style=\"background-color: #FEFEFF\">,</span> <span style=\"background-color: #FFFAFA\">our</span> <span style=\"background-color: #FFFEFE\">client</span> <span style=\"background-color: #FEFEFF\">are</span> <span style=\"background-color: #FEFEFF\">an</span> <span style=\"background-color: #EEEEFF\">ethical</span> <span style=\"background-color: #FEFEFF\">and</span> <span style=\"background-color: #F6F6FF\">dynamic</span> <span style=\"background-color: #FCFCFF\">organisation</span> <span style=\"background-color: #FAFAFF\">absolutely</span> <span style=\"background-color: #FFFEFE\">committed</span> <span style=\"background-color: #FFFEFE\">to</span> <span style=\"background-color: #FEFEFF\">the</span> <span style=\"background-color: #FFF8F8\">advancement</span> <span style=\"background-color: #FEFEFF\">of</span> <span style=\"background-color: #FCFCFF\">innovative</span> <span style=\"background-color: #FEFEFF\">technologies</span> <span style=\"background-color: #FEFEFF\">.</span> <span style=\"background-color: #FFFEFE\">job</span> <span style=\"background-color: #FFF2F2\">title</span> <span style=\"background-color: #FFFEFE\">:</span> <span style=\"background-color: #FFFEFE\">sales</span> <span style=\"background-color: #FEFEFF\">specialist</span> <span style=\"background-color: #F2F2FF\">iv</span> <span style=\"background-color: #FEFEFF\">access</span> <span style=\"background-color: #FEFEFF\">and</span> <span style=\"background-color: #FEFEFF\">infusion</span> <span style=\"background-color: #FEFEFF\">selling</span> <span style=\"background-color: #FFFEFE\">:</span> <span style=\"background-color: #FFF8F8\">medication</span> <span style=\"background-color: #FAFAFF\">delivery</span> <span style=\"background-color: #F8F8FF\">solutions</span> <span style=\"background-color: #FEFEFF\">selling</span> <span style=\"background-color: #FFFEFE\">to</span> <span style=\"background-color: #FFFEFE\">:</span> <span style=\"background-color: #F2F2FF\">iv</span> <span style=\"background-color: #ECECFF\">teams</span> <span style=\"background-color: #FEFEFF\">,</span> <span style=\"background-color: #FFF2F2\">infection</span> <span style=\"background-color: #FEFEFF\">control</span> <span style=\"background-color: #FEFEFF\">,</span> <span style=\"background-color: #F3F3FF\">lead</span> <span style=\"background-color: #F2F2FF\">intensive</span> <span style=\"background-color: #FFF8F8\">care</span> <span style=\"background-color: #FFFAFA\">nurse</span> <span style=\"background-color: #F6F6FF\">specialists</span> <span style=\"background-color: #FEFEFF\">,</span> <span style=\"background-color: #FFFAFA\">ward</span> <span style=\"background-color: #FFFEFE\">managers</span> <span style=\"background-color: #FFFEFE\">territory</span> <span style=\"background-color: #FFFEFE\">:</span> <span style=\"background-color: #FFFCFC\">east</span> <span style=\"background-color: #FCFCFF\">midlands</span> <span style=\"background-color: #FEFEFF\">location</span> <span style=\"background-color: #FFFEFE\">:</span> <span style=\"background-color: #FFFCFC\">east</span> <span style=\"background-color: #FCFCFF\">midlands</span> <span style=\"background-color: #F6F6FF\">package</span> <span style=\"background-color: #FFFEFE\">:</span> <span style=\"background-color: #FFF4F4\">basic</span> <span style=\"background-color: #FFFEFE\">:</span> <span style=\"background-color: #FFFEFE\">****</span> <span style=\"background-color: #FEFEFF\">k</span> <span style=\"background-color: #FFFEFE\">****</span> <span style=\"background-color: #FEFEFF\">k</span> <span style=\"background-color: #FEFEFF\">,</span> <span style=\"background-color: #FFFCFC\">uncapped</span> <span style=\"background-color: #F8F8FF\">bonus</span> <span style=\"background-color: #FFFEFE\">in</span> <span style=\"background-color: #FEFEFF\">addition</span> <span style=\"background-color: #FEFEFF\">,</span> <span style=\"background-color: #FFFEFE\">full</span> <span style=\"background-color: #FAFAFF\">corporate</span> <span style=\"background-color: #FAFAFF\">benefits</span> <span style=\"background-color: #FFFAFA\">company</span> <span style=\"background-color: #FFFEFE\">information</span> <span style=\"background-color: #F3F3FF\">hugely</span> <span style=\"background-color: #EEEEFF\">ethical</span> <span style=\"background-color: #FEFEFF\">and</span> <span style=\"background-color: #FAFAFF\">professional</span> <span style=\"background-color: #ECECFF\">global</span> <span style=\"background-color: #FCFCFF\">organisation</span> <span style=\"background-color: #FEFEFF\">extremely</span> <span style=\"background-color: #FEFEFF\">well</span> <span style=\"background-color: #FFFCFC\">established</span> <span style=\"background-color: #FFFEFE\">in</span> <span style=\"background-color: #FEFEFF\">the</span> <span style=\"background-color: #FAFAFF\">uk</span> <span style=\"background-color: #FEFEFF\">the</span> <span style=\"background-color: #FAFAFF\">market</span> <span style=\"background-color: #FEFEFF\">leader</span> <span style=\"background-color: #FAFAFF\">across</span> <span style=\"background-color: #FEFEFF\">all</span> <span style=\"background-color: #FEFEFF\">of</span> <span style=\"background-color: #FFFEFE\">their</span> <span style=\"background-color: #FFFCFC\">core</span> <span style=\"background-color: #FAFAFF\">business</span> <span style=\"background-color: #FFFEFE\">areas</span> <span style=\"background-color: #FCFCFF\">focus</span> <span style=\"background-color: #FEFEFF\">on</span> <span style=\"background-color: #FFF8F8\">providing</span> <span style=\"background-color: #FFFCFC\">cutting</span> <span style=\"background-color: #FCFCFF\">edge</span> <span style=\"background-color: #F8F8FF\">solutions</span> <span style=\"background-color: #FEFEFF\">along</span> <span style=\"background-color: #FEFEFF\">with</span> <span style=\"background-color: #FCFCFF\">outstanding</span> <span style=\"background-color: #FFFAFA\">service</span> <span style=\"background-color: #FEFEFF\">and</span> <span style=\"background-color: #FFF8F8\">support</span> <span style=\"background-color: #FEFEFF\">a</span> <span style=\"background-color: #FAFAFF\">business</span> <span style=\"background-color: #FEFEFF\">that</span> <span style=\"background-color: #FEFEFF\">retain</span> <span style=\"background-color: #FCFCFF\">talented</span> <span style=\"background-color: #FFFAFA\">personnel</span> <span style=\"background-color: #FFFEFE\">by</span> <span style=\"background-color: #FEFEFF\">offering</span> <span style=\"background-color: #FEFEFF\">a</span> <span style=\"background-color: #F8F8FF\">strong</span> <span style=\"background-color: #F2F2FF\">platform</span> <span style=\"background-color: #FEFEFF\">for</span> <span style=\"background-color: #FFF6F6\">career</span> <span style=\"background-color: #FFFEFE\">development</span> <span style=\"background-color: #FFFEFE\">sales</span> <span style=\"background-color: #FEFEFF\">specialist</span> <span style=\"background-color: #F2F2FF\">iv</span> <span style=\"background-color: #FEFEFF\">access</span> <span style=\"background-color: #FEFEFF\">and</span> <span style=\"background-color: #FEFEFF\">infusion</span> <span style=\"background-color: #FEFEFF\">you</span> <span style=\"background-color: #FEFEFF\">must</span> <span style=\"background-color: #FEFEFF\">have</span> <span style=\"background-color: #FFFEFE\">/</span> <span style=\"background-color: #FEFEFF\">be</span> <span style=\"background-color: #FEFEFF\">the</span> <span style=\"background-color: #FFFEFE\">following</span> <span style=\"background-color: #FEFEFF\">at</span> <span style=\"background-color: #FEFEFF\">least</span> <span style=\"background-color: #FFF4F4\">2</span> <span style=\"background-color: #F6F6FF\">years</span> <span style=\"background-color: #F2F2FF\">medical</span> <span style=\"background-color: #FEFEFF\">device</span> <span style=\"background-color: #FFFEFE\">sales</span> <span style=\"background-color: #FCFCFF\">experience</span> <span style=\"background-color: #FEFEFF\">.</span> <span style=\"background-color: #FFFEFE\">candidates</span> <span style=\"background-color: #FEFEFF\">who</span> <span style=\"background-color: #FEFEFF\">have</span> <span style=\"background-color: #FAFAFF\">sold</span> <span style=\"background-color: #FFFCFC\">disposables</span> <span style=\"background-color: #FFFEFE\">/</span> <span style=\"background-color: #FFECEC\">consumables</span> <span style=\"background-color: #FEFEFF\">or</span> <span style=\"background-color: #FEFEFF\">similar</span> <span style=\"background-color: #FFFEFE\">into</span> <span style=\"background-color: #F6F6FF\">hospitals</span> <span style=\"background-color: #FEFEFF\">would</span> <span style=\"background-color: #FEFEFF\">be</span> <span style=\"background-color: #FEFEFF\">of</span> <span style=\"background-color: #F6F6FF\">particular</span> <span style=\"background-color: #FFFEFE\">interest</span> <span style=\"background-color: #FEFEFF\">.</span> <span style=\"background-color: #FFFEFE\">candidates</span> <span style=\"background-color: #FEFEFF\">must</span> <span style=\"background-color: #FEFEFF\">have</span> <span style=\"background-color: #FAFAFF\">sold</span> <span style=\"background-color: #FFFEFE\">into</span> <span style=\"background-color: #F6F6FF\">hospitals</span> <span style=\"background-color: #F0F0FF\">demonstrable</span> <span style=\"background-color: #FEFEFF\">performance</span> <span style=\"background-color: #FEFEFF\">and</span> <span style=\"background-color: #FFFCFC\">achievements</span> <span style=\"background-color: #FEFEFF\">so</span> <span style=\"background-color: #F3F3FF\">far</span> <span style=\"background-color: #EEEEFF\">personable</span> <span style=\"background-color: #FEFEFF\">,</span> <span style=\"background-color: #FFF4F4\">adaptable</span> <span style=\"background-color: #FEFEFF\">and</span> <span style=\"background-color: #FEFEFF\">willing</span> <span style=\"background-color: #FFFEFE\">to</span> <span style=\"background-color: #FFF6F6\">learn</span> <span style=\"background-color: #FFFEFE\">keen</span> <span style=\"background-color: #FEFEFF\">and</span> <span style=\"background-color: #FFF4F4\">eager</span> <span style=\"background-color: #FFFEFE\">to</span> <span style=\"background-color: #FEFEFF\">be</span> <span style=\"background-color: #FEFEFF\">a</span> <span style=\"background-color: #FEFEFF\">success</span> <span style=\"background-color: #FFFEFE\">candidates</span> <span style=\"background-color: #FEFEFF\">must</span> <span style=\"background-color: #FEFEFF\">have</span> <span style=\"background-color: #FEFEFF\">a</span> <span style=\"background-color: #FCFCFF\">degree</span> <span style=\"background-color: #FEFEFF\">or</span> <span style=\"background-color: #FEFEFF\">at</span> <span style=\"background-color: #FEFEFF\">least</span> <span style=\"background-color: #FEFEFF\">be</span> <span style=\"background-color: #FEFEFF\">able</span> <span style=\"background-color: #FFFEFE\">to</span> <span style=\"background-color: #FFFEFE\">show</span> <span style=\"background-color: #FEFEFF\">a</span> <span style=\"background-color: #F8F8FF\">strong</span> <span style=\"background-color: #FEFEFF\">ability</span> <span style=\"background-color: #FFFEFE\">to</span> <span style=\"background-color: #FFF6F6\">learn</span> <span style=\"background-color: #FFFEFE\">role</span> <span style=\"background-color: #FFFEFE\">information</span> <span style=\"background-color: #F8F8FF\">managing</span> <span style=\"background-color: #FEFEFF\">the</span> <span style=\"background-color: #FFFCFC\">east</span> <span style=\"background-color: #FCFCFF\">midlands</span> <span style=\"background-color: #FAFAFF\">region</span> <span style=\"background-color: #FEFEFF\">selling</span> <span style=\"background-color: #FAFAFF\">across</span> <span style=\"background-color: #FEFEFF\">the</span> <span style=\"background-color: #FFFAFA\">company</span> <span style=\"background-color: #FFFEFE\">'</span> <span style=\"background-color: #FEFEFF\">s</span> <span style=\"background-color: #FFFEFE\">range</span> <span style=\"background-color: #FEFEFF\">of</span> <span style=\"background-color: #F2F2FF\">iv</span> <span style=\"background-color: #FEFEFF\">and</span> <span style=\"background-color: #FEFEFF\">infusion</span> <span style=\"background-color: #F8F8FF\">solutions</span> <span style=\"background-color: #FFFEFE\">portfolio</span> <span style=\"background-color: #FEFEFF\">selling</span> <span style=\"background-color: #FFFEFE\">into</span> <span style=\"background-color: #F3F3FF\">lead</span> <span style=\"background-color: #F2F2FF\">intensive</span> <span style=\"background-color: #FFF8F8\">care</span> <span style=\"background-color: #FFFAFA\">nurse</span> <span style=\"background-color: #F6F6FF\">specialists</span> <span style=\"background-color: #FEFEFF\">,</span> <span style=\"background-color: #FFFAFA\">ward</span> <span style=\"background-color: #FFFEFE\">managers</span> <span style=\"background-color: #FEFEFF\">,</span> <span style=\"background-color: #F2F2FF\">iv</span> <span style=\"background-color: #ECECFF\">teams</span> <span style=\"background-color: #FEFEFF\">,</span> <span style=\"background-color: #FFF2F2\">infection</span> <span style=\"background-color: #FEFEFF\">control</span> <span style=\"background-color: #ECECFF\">teams</span> <span style=\"background-color: #FEFEFF\">,</span> <span style=\"background-color: #FFFAFA\">procurement</span> <span style=\"background-color: #FFFEFE\">sales</span> <span style=\"background-color: #FEFEFF\">specialist</span> <span style=\"background-color: #F2F2FF\">iv</span> <span style=\"background-color: #FEFEFF\">access</span> <span style=\"background-color: #FEFEFF\">and</span> <span style=\"background-color: #FEFEFF\">infusion</span> <span style=\"background-color: #FFFEFE\">candidates</span> <span style=\"background-color: #FEFEFF\">must</span> <span style=\"background-color: #FEFEFF\">be</span> <span style=\"background-color: #FCFCFF\">eligible</span> <span style=\"background-color: #FFFEFE\">to</span> <span style=\"background-color: #FEFEFF\">work</span> <span style=\"background-color: #FEFEFF\">and</span> <span style=\"background-color: #FFFEFE\">live</span> <span style=\"background-color: #FFFEFE\">in</span> <span style=\"background-color: #FEFEFF\">the</span> <span style=\"background-color: #FAFAFF\">uk</span> <span style=\"background-color: #FEFEFF\">.</span> <span style=\"background-color: #FEFEFF\">please</span> <span style=\"background-color: #FEFEFF\">contact</span> <span style=\"background-color: #FFF6F6\">allan</span> <span style=\"background-color: #FFFAFA\">waller</span> <span style=\"background-color: #FEFEFF\">on</span> <span style=\"background-color: #FFFEFE\">****</span> <span style=\"background-color: #FFFEFE\">****</span> <span style=\"background-color: #FFFEFE\">****</span> <span style=\"background-color: #FEFEFF\">or</span> <span style=\"background-color: #FEFEFF\">please</span> <span style=\"background-color: #F8F8FF\">hit</span> <span style=\"background-color: #FEFEFF\">the</span> <span style=\"background-color: #FFFAFA\">apply</span> <span style=\"background-color: #FEFEFF\">button</span> <span style=\"background-color: #FEFEFF\">.</span> <span style=\"background-color: #FEFEFF\">this</span> <span style=\"background-color: #FFFEFE\">job</span> <span style=\"background-color: #FEFEFF\">was</span> <span style=\"background-color: #FEFEFF\">originally</span> <span style=\"background-color: #FEFEFF\">posted</span> <span style=\"background-color: #FEFEFF\">as</span> <span style=\"background-color: #FEFEFF\">www</span> <span style=\"background-color: #FEFEFF\">.</span> <span style=\"background-color: #FEFEFF\">salestarget</span> <span style=\"background-color: #FEFEFF\">.</span> <span style=\"background-color: #FFFEFE\">co</span> <span style=\"background-color: #FEFEFF\">.</span> <span style=\"background-color: #FAFAFF\">uk</span> <span style=\"background-color: #FFFEFE\">/</span> <span style=\"background-color: #FEFEFF\">jobseeking</span> <span style=\"background-color: #FFFEFE\">/</span> <span style=\"background-color: #FFFEFE\">UNK</span> <span style=\"background-color: #FFFEFE\">****</span></p>"
      ]
     },
     "metadata": {},
     "output_type": "display_data"
    },
    {
     "name": "stdout",
     "output_type": "stream",
     "text": [
      "1/1 [==============================] - 0s 14ms/step\n",
      "salary pred. - 10.745989\n",
      "ground truth - 10.434145\n"
     ]
    }
   ],
   "source": [
    "i = 36605\n",
    "tokens_and_weights = explain(model, data.loc[i], \"Title\")\n",
    "draw_html([(tok, weight * 5) for tok, weight in tokens_and_weights], font_style='font-size:20px;');\n",
    "\n",
    "tokens_and_weights = explain(model, data.loc[i], \"FullDescription\")\n",
    "draw_html([(tok, weight * 10) for tok, weight in tokens_and_weights]);\n",
    "\n",
    "test_batch1 = make_batch(data.iloc[i:i+1])\n",
    "preds = model.predict(test_batch1)\n",
    "print('salary pred. -', preds[0, 0])\n",
    "print('ground truth -', data.loc[i, 'Log1pSalary'])"
   ]
  },
  {
   "cell_type": "code",
   "execution_count": 41,
   "metadata": {},
   "outputs": [
    {
     "name": "stderr",
     "output_type": "stream",
     "text": [
      "C:\\Users\\movse\\anaconda3\\envs\\UpToDateEnv\\lib\\site-packages\\keras\\engine\\functional.py:637: UserWarning: Input dict contained keys ['Log1pSalary'] which did not match any model input. They will be ignored by the model.\n",
      "  inputs = self._flatten_to_reference_inputs(inputs)\n"
     ]
    },
    {
     "name": "stdout",
     "output_type": "stream",
     "text": [
      "1/1 [==============================] - 0s 282ms/step\n"
     ]
    },
    {
     "data": {
      "text/html": [
       "<p style=\"font-size:20px;\"><span style=\"background-color: #FF9696\">cleaning</span> <span style=\"background-color: #FF5858\">operative</span></p>"
      ]
     },
     "metadata": {},
     "output_type": "display_data"
    },
    {
     "name": "stdout",
     "output_type": "stream",
     "text": [
      "3/3 [==============================] - 0s 4ms/step\n"
     ]
    },
    {
     "data": {
      "text/html": [
       "<p style=\"font-size:14px;\"><span style=\"background-color: #FFF8F8\">12</span> <span style=\"background-color: #FFFEFE\">.</span> <span style=\"background-color: #FEFEFF\">5</span> <span style=\"background-color: #FFF6F6\">hours</span> <span style=\"background-color: #FEFEFF\">per</span> <span style=\"background-color: #FFFEFE\">week</span> <span style=\"background-color: #FFECEC\">monday</span> <span style=\"background-color: #FFF0F0\">friday</span> <span style=\"background-color: #FFFAFA\">9am</span> <span style=\"background-color: #FFF6F6\">11</span> <span style=\"background-color: #FFFEFE\">.</span> <span style=\"background-color: #FAFAFF\">30am</span> <span style=\"background-color: #FFF4F4\">duties</span> <span style=\"background-color: #FFFCFC\">to</span> <span style=\"background-color: #FEFEFF\">include</span> <span style=\"background-color: #F3F3FF\">sweeping</span> <span style=\"background-color: #FEFEFF\">,</span> <span style=\"background-color: #FAFAFF\">mopping</span> <span style=\"background-color: #FEFEFF\">,</span> <span style=\"background-color: #F6F6FF\">vacuuming</span> <span style=\"background-color: #FEFEFF\">,</span> <span style=\"background-color: #FEFEFF\">buffing</span> <span style=\"background-color: #FEFEFF\">,</span> <span style=\"background-color: #FFF4F4\">cleaning</span> <span style=\"background-color: #FFFCFC\">staff</span> <span style=\"background-color: #FAFAFF\">toilets</span> <span style=\"background-color: #FCFCFF\">and</span> <span style=\"background-color: #F8F8FF\">rest</span> <span style=\"background-color: #FFFAFA\">room</span> <span style=\"background-color: #FFFEFE\">.</span> <span style=\"background-color: #FEFEFF\">must</span> <span style=\"background-color: #FEFEFF\">be</span> <span style=\"background-color: #FFFEFE\">able</span> <span style=\"background-color: #FFFCFC\">to</span> <span style=\"background-color: #FFFAFA\">read</span> <span style=\"background-color: #FEFEFF\">as</span> <span style=\"background-color: #FEFEFF\">they</span> <span style=\"background-color: #FEFEFF\">will</span> <span style=\"background-color: #FEFEFF\">be</span> <span style=\"background-color: #FFFAFA\">using</span> <span style=\"background-color: #FFFEFE\">UNK</span> <span style=\"background-color: #FCFCFF\">which</span> <span style=\"background-color: #FAFAFF\">need</span> <span style=\"background-color: #FFFEFE\">UNK</span> <span style=\"background-color: #FEFEFF\">as</span> <span style=\"background-color: #FEFEFF\">per</span> <span style=\"background-color: #FFF4F4\">instructions</span> <span style=\"background-color: #FCFCFF\">on</span> <span style=\"background-color: #FEFEFF\">the</span> <span style=\"background-color: #F3F3FF\">containers</span> <span style=\"background-color: #FFFEFE\">.</span> <span style=\"background-color: #FCFCFF\">sucessfull</span> <span style=\"background-color: #FEFEFF\">applicants</span> <span style=\"background-color: #FEFEFF\">will</span> <span style=\"background-color: #FEFEFF\">be</span> <span style=\"background-color: #FFFEFE\">trained</span> <span style=\"background-color: #FCFCFF\">on</span> <span style=\"background-color: #FFFEFE\">all</span> <span style=\"background-color: #FAFAFF\">electrical</span> <span style=\"background-color: #F2F2FF\">appliances</span> <span style=\"background-color: #FCFCFF\">and</span> <span style=\"background-color: #FFFEFE\">UNK</span> <span style=\"background-color: #FEFEFF\">of</span> <span style=\"background-color: #FFF4F4\">cleaning</span> <span style=\"background-color: #FFFEFE\">materials</span> <span style=\"background-color: #FFFEFE\">.</span></p>"
      ]
     },
     "metadata": {},
     "output_type": "display_data"
    },
    {
     "name": "stdout",
     "output_type": "stream",
     "text": [
      "1/1 [==============================] - 0s 13ms/step\n",
      "salary pred. - 8.999432\n",
      "ground truth - 9.383033\n"
     ]
    }
   ],
   "source": [
    "i = 12077\n",
    "tokens_and_weights = explain(model, data.loc[i], \"Title\")\n",
    "draw_html([(tok, weight * 5) for tok, weight in tokens_and_weights], font_style='font-size:20px;');\n",
    "\n",
    "tokens_and_weights = explain(model, data.loc[i], \"FullDescription\")\n",
    "draw_html([(tok, weight * 10) for tok, weight in tokens_and_weights]);\n",
    "\n",
    "test_batch1 = make_batch(data.iloc[i:i+1])\n",
    "preds = model.predict(test_batch1)\n",
    "print('salary pred. -', preds[0, 0])\n",
    "print('ground truth -', data.loc[i, 'Log1pSalary'])"
   ]
  },
  {
   "cell_type": "code",
   "execution_count": 262,
   "metadata": {},
   "outputs": [
    {
     "data": {
      "text/html": [
       "<p style=\"font-size:20px;\"><span style=\"background-color: #FFD3D3\">cleaning</span> <span style=\"background-color: #FFBABA\">operative</span></p>"
      ]
     },
     "metadata": {},
     "output_type": "display_data"
    },
    {
     "data": {
      "text/html": [
       "<p style=\"font-size:14px;\"><span style=\"background-color: #FFFAFA\">12</span> <span style=\"background-color: #FFF8F8\">.</span> <span style=\"background-color: #FEFEFF\">5</span> <span style=\"background-color: #FFC2C2\">hours</span> <span style=\"background-color: #FFE6E6\">per</span> <span style=\"background-color: #FFFCFC\">week</span> <span style=\"background-color: #E3E3FF\">monday</span> <span style=\"background-color: #FEFEFF\">friday</span> <span style=\"background-color: #FCFCFF\">9am</span> <span style=\"background-color: #FFECEC\">11</span> <span style=\"background-color: #FAFAFF\">.</span> <span style=\"background-color: #FCFCFF\">30am</span> <span style=\"background-color: #FFFEFE\">duties</span> <span style=\"background-color: #FCFCFF\">to</span> <span style=\"background-color: #FFFCFC\">include</span> <span style=\"background-color: #FFF2F2\">sweeping</span> <span style=\"background-color: #FFE8E8\">,</span> <span style=\"background-color: #F3F3FF\">mopping</span> <span style=\"background-color: #FFF4F4\">,</span> <span style=\"background-color: #ECECFF\">vacuuming</span> <span style=\"background-color: #FFF8F8\">,</span> <span style=\"background-color: #FFF4F4\">buffing</span> <span style=\"background-color: #FFFEFE\">,</span> <span style=\"background-color: #FFFCFC\">cleaning</span> <span style=\"background-color: #FFF0F0\">staff</span> <span style=\"background-color: #FFFAFA\">toilets</span> <span style=\"background-color: #FFFAFA\">and</span> <span style=\"background-color: #FFFAFA\">rest</span> <span style=\"background-color: #F3F3FF\">room</span> <span style=\"background-color: #EEEEFF\">.</span> <span style=\"background-color: #DCDCFF\">must</span> <span style=\"background-color: #F8F8FF\">be</span> <span style=\"background-color: #FFF8F8\">able</span> <span style=\"background-color: #FFFEFE\">to</span> <span style=\"background-color: #F2F2FF\">read</span> <span style=\"background-color: #FFF0F0\">as</span> <span style=\"background-color: #FFFAFA\">they</span> <span style=\"background-color: #FFFEFE\">will</span> <span style=\"background-color: #FFEAEA\">be</span> <span style=\"background-color: #FFF0F0\">using</span> <span style=\"background-color: #FFFEFE\">UNK</span> <span style=\"background-color: #FCFCFF\">which</span> <span style=\"background-color: #F0F0FF\">need</span> <span style=\"background-color: #FFFEFE\">UNK</span> <span style=\"background-color: #FFF0F0\">as</span> <span style=\"background-color: #ECECFF\">per</span> <span style=\"background-color: #FFEAEA\">instructions</span> <span style=\"background-color: #FFEEEE\">on</span> <span style=\"background-color: #FFF6F6\">the</span> <span style=\"background-color: #FFF6F6\">containers</span> <span style=\"background-color: #FEFEFF\">.</span> <span style=\"background-color: #FFF8F8\">sucessfull</span> <span style=\"background-color: #FEFEFF\">applicants</span> <span style=\"background-color: #F0F0FF\">will</span> <span style=\"background-color: #FFEEEE\">be</span> <span style=\"background-color: #FFFAFA\">trained</span> <span style=\"background-color: #F6F6FF\">on</span> <span style=\"background-color: #FFEAEA\">all</span> <span style=\"background-color: #F0F0FF\">electrical</span> <span style=\"background-color: #FFF2F2\">appliances</span> <span style=\"background-color: #FFFAFA\">and</span> <span style=\"background-color: #FFFEFE\">UNK</span> <span style=\"background-color: #FEFEFF\">of</span> <span style=\"background-color: #FFC8C8\">cleaning</span> <span style=\"background-color: #FFFAFA\">materials</span> <span style=\"background-color: #FFFEFE\">.</span></p>"
      ]
     },
     "metadata": {},
     "output_type": "display_data"
    }
   ],
   "source": [
    "## don't run this cell it contains the example."
   ]
  },
  {
   "cell_type": "code",
   "execution_count": 42,
   "metadata": {},
   "outputs": [
    {
     "name": "stdout",
     "output_type": "stream",
     "text": [
      "Index: 217334\n",
      "1/1 [==============================] - 0s 15ms/step\n",
      "Salary (gbp): 31074.57\n",
      "1/1 [==============================] - 0s 17ms/step\n"
     ]
    },
    {
     "data": {
      "text/html": [
       "<p style=\"font-size:20px;\"><span style=\"background-color: #ECECFF\">buyer</span> <span style=\"background-color: #CCCCFF\">branded</span> <span style=\"background-color: #C8C8FF\">cosmetics</span></p>"
      ]
     },
     "metadata": {},
     "output_type": "display_data"
    },
    {
     "name": "stdout",
     "output_type": "stream",
     "text": [
      "7/7 [==============================] - 0s 25ms/step\n"
     ]
    },
    {
     "data": {
      "text/html": [
       "<p style=\"font-size:14px;\"><span style=\"background-color: #FEFEFF\">the</span> <span style=\"background-color: #F0F0FF\">uk</span> <span style=\"background-color: #FFFEFE\">'</span> <span style=\"background-color: #FEFEFF\">s</span> <span style=\"background-color: #EAEAFF\">leading</span> <span style=\"background-color: #FFF0F0\">beauty</span> <span style=\"background-color: #E6E6FF\">retailer</span> <span style=\"background-color: #FEFEFF\">currently</span> <span style=\"background-color: #FEFEFF\">has</span> <span style=\"background-color: #FEFEFF\">an</span> <span style=\"background-color: #FEFEFF\">exciting</span> <span style=\"background-color: #FCFCFF\">opportunity</span> <span style=\"background-color: #FFFEFE\">within</span> <span style=\"background-color: #FFFEFE\">their</span> <span style=\"background-color: #FFFAFA\">expanding</span> <span style=\"background-color: #FEFEFF\">team</span> <span style=\"background-color: #FEFEFF\">for</span> <span style=\"background-color: #FEFEFF\">a</span> <span style=\"background-color: #FFFEFE\">UNK</span> <span style=\"background-color: #FEFEFF\">buyer</span> <span style=\"background-color: #FEFEFF\">.</span> <span style=\"background-color: #FCFCFF\">this</span> <span style=\"background-color: #E6E6FF\">retailer</span> <span style=\"background-color: #FEFEFF\">has</span> <span style=\"background-color: #FEFEFF\">a</span> <span style=\"background-color: #F8F8FF\">national</span> <span style=\"background-color: #FFF6F6\">presence</span> <span style=\"background-color: #FEFEFF\">and</span> <span style=\"background-color: #FEFEFF\">is</span> <span style=\"background-color: #FEFEFF\">a</span> <span style=\"background-color: #FAFAFF\">staple</span> <span style=\"background-color: #FEFEFF\">of</span> <span style=\"background-color: #FFF6F6\">every</span> <span style=\"background-color: #F0F0FF\">uk</span> <span style=\"background-color: #F0F0FF\">high</span> <span style=\"background-color: #FFFAFA\">street</span> <span style=\"background-color: #FEFEFF\">.</span> <span style=\"background-color: #FFFEFE\">their</span> <span style=\"background-color: #FFF2F2\">customer</span> <span style=\"background-color: #FFF8F8\">service</span> <span style=\"background-color: #FFF2F2\">approach</span> <span style=\"background-color: #FEFEFF\">is</span> <span style=\"background-color: #F8F8FF\">outstanding</span> <span style=\"background-color: #FEFEFF\">and</span> <span style=\"background-color: #FFFEFE\">their</span> <span style=\"background-color: #FFFAFA\">company</span> <span style=\"background-color: #EEEEFF\">culture</span> <span style=\"background-color: #FCFCFF\">respects</span> <span style=\"background-color: #FEFEFF\">work</span> <span style=\"background-color: #F2F2FF\">life</span> <span style=\"background-color: #E6E6FF\">balance</span> <span style=\"background-color: #FEFEFF\">.</span> <span style=\"background-color: #FEFEFF\">the</span> <span style=\"background-color: #FEFEFF\">ideal</span> <span style=\"background-color: #FFF8F8\">candidate</span> <span style=\"background-color: #FEFEFF\">will</span> <span style=\"background-color: #FEFEFF\">be</span> <span style=\"background-color: #FEFEFF\">at</span> <span style=\"background-color: #FEFEFF\">buyer</span> <span style=\"background-color: #FAFAFF\">or</span> <span style=\"background-color: #FFE4E4\">junior</span> <span style=\"background-color: #FEFEFF\">buyer</span> <span style=\"background-color: #F8F8FF\">level</span> <span style=\"background-color: #FEFEFF\">.</span> <span style=\"background-color: #FEFEFF\">they</span> <span style=\"background-color: #FFFEFE\">do</span> <span style=\"background-color: #FFFCFC\">not</span> <span style=\"background-color: #FFFEFE\">necessarily</span> <span style=\"background-color: #FAFAFF\">need</span> <span style=\"background-color: #FFFCFC\">to</span> <span style=\"background-color: #FEFEFF\">have</span> <span style=\"background-color: #FFF8F8\">brought</span> <span style=\"background-color: #FFFCFC\">cosmetics</span> <span style=\"background-color: #FFFEFE\">in</span> <span style=\"background-color: #FEFEFF\">the</span> <span style=\"background-color: #FFF4F4\">past</span> <span style=\"background-color: #FFFEFE\">but</span> <span style=\"background-color: #FEFEFF\">will</span> <span style=\"background-color: #FFFEFE\">show</span> <span style=\"background-color: #FFF0F0\">passion</span> <span style=\"background-color: #FEFEFF\">for</span> <span style=\"background-color: #FFF8F8\">fragrance</span> <span style=\"background-color: #FEFEFF\">and</span> <span style=\"background-color: #FFF0F0\">beauty</span> <span style=\"background-color: #FEFEFF\">.</span> <span style=\"background-color: #FEFEFF\">a</span> <span style=\"background-color: #DADAFF\">large</span> <span style=\"background-color: #FFF2F2\">part</span> <span style=\"background-color: #FEFEFF\">of</span> <span style=\"background-color: #FEFEFF\">your</span> <span style=\"background-color: #FFFCFC\">role</span> <span style=\"background-color: #FEFEFF\">will</span> <span style=\"background-color: #FEFEFF\">be</span> <span style=\"background-color: #FFFCFC\">to</span> <span style=\"background-color: #F6F6FF\">establish</span> <span style=\"background-color: #EEEEFF\">strong</span> <span style=\"background-color: #FCFCFF\">relationships</span> <span style=\"background-color: #FEFEFF\">with</span> <span style=\"background-color: #FEFEFF\">suppliers</span> <span style=\"background-color: #FEFEFF\">and</span> <span style=\"background-color: #FEFEFF\">so</span> <span style=\"background-color: #FEFEFF\">a</span> <span style=\"background-color: #FAFAFF\">proven</span> <span style=\"background-color: #DADAFF\">track</span> <span style=\"background-color: #ECECFF\">record</span> <span style=\"background-color: #FEFEFF\">of</span> <span style=\"background-color: #FCFCFF\">this</span> <span style=\"background-color: #FEFEFF\">is</span> <span style=\"background-color: #FEFEFF\">essential</span> <span style=\"background-color: #FEFEFF\">.</span> <span style=\"background-color: #FEFEFF\">you</span> <span style=\"background-color: #FEFEFF\">must</span> <span style=\"background-color: #FEFEFF\">have</span> <span style=\"background-color: #FFFAFA\">bags</span> <span style=\"background-color: #FEFEFF\">of</span> <span style=\"background-color: #FFFEFE\">personality</span> <span style=\"background-color: #FEFEFF\">and</span> <span style=\"background-color: #FEFEFF\">be</span> <span style=\"background-color: #FEFEFF\">able</span> <span style=\"background-color: #FFFCFC\">to</span> <span style=\"background-color: #FEFEFF\">drive</span> <span style=\"background-color: #FEFEFF\">the</span> <span style=\"background-color: #F0F0FF\">business</span> <span style=\"background-color: #F8F8FF\">forward</span> <span style=\"background-color: #FEFEFF\">.</span> <span style=\"background-color: #FCFCFF\">this</span> <span style=\"background-color: #FEFEFF\">is</span> <span style=\"background-color: #FEFEFF\">an</span> <span style=\"background-color: #EEEEFF\">exceptional</span> <span style=\"background-color: #FCFCFF\">opportunity</span> <span style=\"background-color: #FEFEFF\">for</span> <span style=\"background-color: #FEFEFF\">the</span> <span style=\"background-color: #FFFEFE\">right</span> <span style=\"background-color: #FFFAFA\">person</span> <span style=\"background-color: #FEFEFF\">who</span> <span style=\"background-color: #FEFEFF\">is</span> <span style=\"background-color: #FFFAFA\">looking</span> <span style=\"background-color: #FEFEFF\">for</span> <span style=\"background-color: #FEFEFF\">the</span> <span style=\"background-color: #FEFEFF\">next</span> <span style=\"background-color: #FFFEFE\">step</span> <span style=\"background-color: #FFFEFE\">within</span> <span style=\"background-color: #FFFEFE\">their</span> <span style=\"background-color: #D8D8FF\">buying</span> <span style=\"background-color: #FFF0F0\">career</span> <span style=\"background-color: #FEFEFF\">.</span> <span style=\"background-color: #FFFAFA\">we</span> <span style=\"background-color: #FCFCFF\">regret</span> <span style=\"background-color: #FCFCFF\">that</span> <span style=\"background-color: #FEFEFF\">due</span> <span style=\"background-color: #FFFCFC\">to</span> <span style=\"background-color: #FFFEFE\">volume</span> <span style=\"background-color: #FEFEFF\">,</span> <span style=\"background-color: #FFFEFE\">only</span> <span style=\"background-color: #FEFEFF\">shortlisted</span> <span style=\"background-color: #FFFCFC\">applicants</span> <span style=\"background-color: #FEFEFF\">will</span> <span style=\"background-color: #FEFEFF\">be</span> <span style=\"background-color: #FCFCFF\">contacted</span> <span style=\"background-color: #FEFEFF\">,</span> <span style=\"background-color: #FEFEFF\">therefore</span> <span style=\"background-color: #FCFCFF\">if</span> <span style=\"background-color: #FEFEFF\">you</span> <span style=\"background-color: #FFFEFE\">do</span> <span style=\"background-color: #FFFCFC\">not</span> <span style=\"background-color: #F8F8FF\">hear</span> <span style=\"background-color: #FFFEFE\">from</span> <span style=\"background-color: #FFFEFE\">one</span> <span style=\"background-color: #FEFEFF\">of</span> <span style=\"background-color: #FFF6F6\">our</span> <span style=\"background-color: #FEFEFF\">consultants</span> <span style=\"background-color: #FFFEFE\">within</span> <span style=\"background-color: #FFFEFE\">****</span> <span style=\"background-color: #FFF8F8\">working</span> <span style=\"background-color: #FFFEFE\">days</span> <span style=\"background-color: #FEFEFF\">,</span> <span style=\"background-color: #FEFEFF\">please</span> <span style=\"background-color: #FFF2F2\">assume</span> <span style=\"background-color: #FCFCFF\">that</span> <span style=\"background-color: #FEFEFF\">you</span> <span style=\"background-color: #FFFEFE\">'</span> <span style=\"background-color: #FFFEFE\">ve</span> <span style=\"background-color: #FFFCFC\">not</span> <span style=\"background-color: #FEFEFF\">been</span> <span style=\"background-color: #FFFCFC\">successful</span> <span style=\"background-color: #FCFCFF\">on</span> <span style=\"background-color: #FCFCFF\">this</span> <span style=\"background-color: #FFFCFC\">occasion</span> <span style=\"background-color: #FEFEFF\">.</span> <span style=\"background-color: #FFFEFE\">fashion</span> <span style=\"background-color: #FEFEFF\">and</span> <span style=\"background-color: #FFF8F8\">retail</span> <span style=\"background-color: #FFF8F8\">personnel</span> <span style=\"background-color: #FEFEFF\">is</span> <span style=\"background-color: #FEFEFF\">acting</span> <span style=\"background-color: #FEFEFF\">as</span> <span style=\"background-color: #FEFEFF\">an</span> <span style=\"background-color: #FEFEFF\">employment</span> <span style=\"background-color: #FEFEFF\">agency</span> <span style=\"background-color: #FFFEFE\">in</span> <span style=\"background-color: #EAEAFF\">relation</span> <span style=\"background-color: #FFFCFC\">to</span> <span style=\"background-color: #FCFCFF\">this</span> <span style=\"background-color: #FFFAFA\">vacancy</span> <span style=\"background-color: #FEFEFF\">.</span> <span style=\"background-color: #FCFCFF\">this</span> <span style=\"background-color: #FFFEFE\">job</span> <span style=\"background-color: #FEFEFF\">was</span> <span style=\"background-color: #FEFEFF\">originally</span> <span style=\"background-color: #FEFEFF\">posted</span> <span style=\"background-color: #FEFEFF\">as</span> <span style=\"background-color: #FEFEFF\">www</span> <span style=\"background-color: #FEFEFF\">.</span> <span style=\"background-color: #F0F0FF\">retailchoice</span> <span style=\"background-color: #FEFEFF\">.</span> <span style=\"background-color: #FCFCFF\">com</span> <span style=\"background-color: #FEFEFF\">/</span> <span style=\"background-color: #FEFEFF\">jobseeking</span> <span style=\"background-color: #FEFEFF\">/</span> <span style=\"background-color: #FFFEFE\">UNK</span> <span style=\"background-color: #FFFEFE\">****</span></p>"
      ]
     },
     "metadata": {},
     "output_type": "display_data"
    },
    {
     "name": "stdout",
     "output_type": "stream",
     "text": [
      "1/1 [==============================] - 0s 14ms/step\n",
      "salary pred. - 10.344177\n",
      "ground truth - 10.389026\n"
     ]
    }
   ],
   "source": [
    "i = np.random.randint(len(data))\n",
    "print(\"Index:\", i)\n",
    "print(\"Salary (gbp):\", np.expm1(model.predict(make_batch(data.iloc[i: i+1]))[0, 0]))\n",
    "\n",
    "tokens_and_weights = explain(model, data.loc[i], \"Title\")\n",
    "draw_html([(tok, weight * 5) for tok, weight in tokens_and_weights], font_style='font-size:20px;');\n",
    "\n",
    "tokens_and_weights = explain(model, data.loc[i], \"FullDescription\")\n",
    "draw_html([(tok, weight * 10) for tok, weight in tokens_and_weights]);\n",
    "\n",
    "test_batch1 = make_batch(data.iloc[i:i+1])\n",
    "preds = model.predict(test_batch1)\n",
    "print('salary pred. -', preds[0, 0])\n",
    "print('ground truth -', data.loc[i, 'Log1pSalary'])"
   ]
  },
  {
   "cell_type": "markdown",
   "metadata": {},
   "source": [
    "__Terrible start-up idea #1962:__ make a tool that automaticaly rephrases your job description (or CV) to meet salary expectations :)"
   ]
  },
  {
   "cell_type": "code",
   "execution_count": null,
   "metadata": {},
   "outputs": [],
   "source": []
  }
 ],
 "metadata": {
  "kernelspec": {
   "display_name": "Python 3 (ipykernel)",
   "language": "python",
   "name": "python3"
  },
  "language_info": {
   "codemirror_mode": {
    "name": "ipython",
    "version": 3
   },
   "file_extension": ".py",
   "mimetype": "text/x-python",
   "name": "python",
   "nbconvert_exporter": "python",
   "pygments_lexer": "ipython3",
   "version": "3.10.11"
  }
 },
 "nbformat": 4,
 "nbformat_minor": 4
}

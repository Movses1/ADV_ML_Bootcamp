{
 "cells": [
  {
   "cell_type": "code",
   "execution_count": 3,
   "id": "7a44185e",
   "metadata": {},
   "outputs": [],
   "source": [
    "from bs4 import BeautifulSoup\n",
    "\n",
    "import tensorflow as tf\n",
    "from tensorflow.keras.models import load_model\n",
    "from tensorflow.keras.layers import GlobalAveragePooling2D as GAP2D\n",
    "from tensorflow.keras.layers import Dropout, Dense, Conv2D\n",
    "from tensorflow.keras.optimizers import Adam\n",
    "\n",
    "import numpy as np\n",
    "\n",
    "import os\n",
    "from PIL import Image\n",
    "from IPython.display import clear_output\\\n",
    "\n",
    "from matplotlib import pyplot as plt"
   ]
  },
  {
   "cell_type": "code",
   "execution_count": 4,
   "id": "f8d0684a",
   "metadata": {},
   "outputs": [],
   "source": [
    "bbox_cords = ['xmin', 'ymin', 'xmax', 'ymax']\n",
    "classnames={'cucumber':0, 'eggplant':1, 'mushroom':2}\n",
    "imgs = []\n",
    "y = []\n",
    "bbox = []\n",
    "\n",
    "for ind, files in enumerate(os.listdir('dataset/')):\n",
    "    if files.find('.xml')!=-1:\n",
    "        with open(f'dataset/{files}', 'r') as f:\n",
    "            data = f.read()\n",
    "        Bs_data = BeautifulSoup(data, \"xml\")\n",
    "        img_name = Bs_data.find('filename').string\n",
    "        q = Image.open('dataset/' + img_name)\n",
    "        \n",
    "        imgs.append(np.array(q))\n",
    "        y.append(classnames[img_name[:img_name.find('_')]])\n",
    "        \n",
    "        bbox.append(np.array([int(Bs_data.find(i).string) for i in bbox_cords]))\n",
    "\n",
    "imgs=np.array(imgs, dtype='float64')\n",
    "y=tf.one_hot(np.array(y), 3)\n",
    "bbox=np.array(bbox, dtype='float64')\n",
    "\n",
    "imgs/=127.5\n",
    "imgs-=1\n",
    "bbox/=113.5\n",
    "bbox-=1"
   ]
  },
  {
   "cell_type": "code",
   "execution_count": 5,
   "id": "6f29ddd3",
   "metadata": {},
   "outputs": [
    {
     "data": {
      "text/plain": [
       "((186, 227, 227, 3), TensorShape([186, 3]), (186, 4))"
      ]
     },
     "execution_count": 5,
     "metadata": {},
     "output_type": "execute_result"
    }
   ],
   "source": [
    "imgs.shape, y.shape, bbox.shape"
   ]
  },
  {
   "cell_type": "code",
   "execution_count": 8,
   "id": "994177b4",
   "metadata": {},
   "outputs": [],
   "source": [
    "def build_model():\n",
    "    inp = tf.keras.Input(shape=(227, 227, 3))\n",
    "    x = Conv2D(50,\n",
    "               kernel_size=3,\n",
    "               strides=1,\n",
    "               activation='relu',\n",
    "               name='conv1')(inp)\n",
    "    x = Conv2D(50,\n",
    "               kernel_size=3,\n",
    "               strides=1,\n",
    "               activation='relu',\n",
    "               name='conv2')(x)\n",
    "    x = GAP2D(name='GAP2D')(x)\n",
    "    \n",
    "    c = Dense(100, activation='relu', name='dense_c')(x)\n",
    "    c = Dense(3, activation='sigmoid', name='classifier')(c) # classification layer\n",
    "    \n",
    "    b = Dense(100, activation='relu', name='dense_b')(x) # bbox layer\n",
    "    b = Dense(4, name='detector')(b)\n",
    "    \n",
    "    model1 = tf.keras.Model(inp, (c, b))\n",
    "    model1.compile(optimizer=Adam(),\n",
    "                  loss={'classifier':'categorical_crossentropy', 'detector':'mse'},\n",
    "                  metrics={'classifier':'accuracy', 'detector':'mse'})\n",
    "    return model1"
   ]
  },
  {
   "cell_type": "code",
   "execution_count": 9,
   "id": "404160fb",
   "metadata": {},
   "outputs": [
    {
     "name": "stdout",
     "output_type": "stream",
     "text": [
      "Model: \"model_1\"\n",
      "__________________________________________________________________________________________________\n",
      " Layer (type)                   Output Shape         Param #     Connected to                     \n",
      "==================================================================================================\n",
      " input_2 (InputLayer)           [(None, 227, 227, 3  0           []                               \n",
      "                                )]                                                                \n",
      "                                                                                                  \n",
      " conv1 (Conv2D)                 (None, 225, 225, 50  1400        ['input_2[0][0]']                \n",
      "                                )                                                                 \n",
      "                                                                                                  \n",
      " conv2 (Conv2D)                 (None, 223, 223, 50  22550       ['conv1[0][0]']                  \n",
      "                                )                                                                 \n",
      "                                                                                                  \n",
      " GAP2D (GlobalAveragePooling2D)  (None, 50)          0           ['conv2[0][0]']                  \n",
      "                                                                                                  \n",
      " dense_c (Dense)                (None, 100)          5100        ['GAP2D[0][0]']                  \n",
      "                                                                                                  \n",
      " dense_b (Dense)                (None, 100)          5100        ['GAP2D[0][0]']                  \n",
      "                                                                                                  \n",
      " classifier (Dense)             (None, 3)            303         ['dense_c[0][0]']                \n",
      "                                                                                                  \n",
      " detector (Dense)               (None, 4)            404         ['dense_b[0][0]']                \n",
      "                                                                                                  \n",
      "==================================================================================================\n",
      "Total params: 34,857\n",
      "Trainable params: 34,857\n",
      "Non-trainable params: 0\n",
      "__________________________________________________________________________________________________\n"
     ]
    }
   ],
   "source": [
    "model = build_model()\n",
    "model.summary()"
   ]
  },
  {
   "cell_type": "code",
   "execution_count": 10,
   "id": "bdefeb91",
   "metadata": {},
   "outputs": [
    {
     "name": "stdout",
     "output_type": "stream",
     "text": [
      "Epoch 1/20\n",
      "6/6 [==============================] - 6s 916ms/step - loss: 1.4606 - classifier_loss: 1.1005 - detector_loss: 0.3600 - classifier_accuracy: 0.2957 - detector_mse: 0.3600\n",
      "Epoch 2/20\n",
      "6/6 [==============================] - 6s 947ms/step - loss: 1.2036 - classifier_loss: 1.0925 - detector_loss: 0.1111 - classifier_accuracy: 0.3602 - detector_mse: 0.1111\n",
      "Epoch 3/20\n",
      "6/6 [==============================] - 6s 911ms/step - loss: 1.1402 - classifier_loss: 1.0637 - detector_loss: 0.0764 - classifier_accuracy: 0.4839 - detector_mse: 0.0764\n",
      "Epoch 4/20\n",
      "6/6 [==============================] - 5s 917ms/step - loss: 1.0942 - classifier_loss: 1.0361 - detector_loss: 0.0581 - classifier_accuracy: 0.5054 - detector_mse: 0.0581\n",
      "Epoch 5/20\n",
      "6/6 [==============================] - 6s 933ms/step - loss: 1.0650 - classifier_loss: 1.0084 - detector_loss: 0.0565 - classifier_accuracy: 0.5645 - detector_mse: 0.0565\n",
      "Epoch 6/20\n",
      "6/6 [==============================] - 6s 921ms/step - loss: 1.0245 - classifier_loss: 0.9706 - detector_loss: 0.0539 - classifier_accuracy: 0.6667 - detector_mse: 0.0539\n",
      "Epoch 7/20\n",
      "6/6 [==============================] - 5s 902ms/step - loss: 0.9825 - classifier_loss: 0.9313 - detector_loss: 0.0512 - classifier_accuracy: 0.6882 - detector_mse: 0.0512\n",
      "Epoch 8/20\n",
      "6/6 [==============================] - 5s 912ms/step - loss: 0.9336 - classifier_loss: 0.8845 - detector_loss: 0.0490 - classifier_accuracy: 0.6935 - detector_mse: 0.0490\n",
      "Epoch 9/20\n",
      "6/6 [==============================] - 5s 911ms/step - loss: 0.8711 - classifier_loss: 0.8234 - detector_loss: 0.0477 - classifier_accuracy: 0.6989 - detector_mse: 0.0477\n",
      "Epoch 10/20\n",
      "6/6 [==============================] - 5s 906ms/step - loss: 0.8085 - classifier_loss: 0.7602 - detector_loss: 0.0483 - classifier_accuracy: 0.7043 - detector_mse: 0.0483\n",
      "Epoch 11/20\n",
      "6/6 [==============================] - 6s 924ms/step - loss: 0.7338 - classifier_loss: 0.6849 - detector_loss: 0.0489 - classifier_accuracy: 0.7366 - detector_mse: 0.0489\n",
      "Epoch 12/20\n",
      "6/6 [==============================] - 5s 900ms/step - loss: 0.6634 - classifier_loss: 0.6157 - detector_loss: 0.0478 - classifier_accuracy: 0.7581 - detector_mse: 0.0478\n",
      "Epoch 13/20\n",
      "6/6 [==============================] - 6s 924ms/step - loss: 0.5875 - classifier_loss: 0.5420 - detector_loss: 0.0455 - classifier_accuracy: 0.8387 - detector_mse: 0.0455\n",
      "Epoch 14/20\n",
      "6/6 [==============================] - 6s 913ms/step - loss: 0.5299 - classifier_loss: 0.4836 - detector_loss: 0.0464 - classifier_accuracy: 0.8978 - detector_mse: 0.0464\n",
      "Epoch 15/20\n",
      "6/6 [==============================] - 6s 914ms/step - loss: 0.4816 - classifier_loss: 0.4355 - detector_loss: 0.0461 - classifier_accuracy: 0.8817 - detector_mse: 0.0461\n",
      "Epoch 16/20\n",
      "6/6 [==============================] - 5s 911ms/step - loss: 0.4058 - classifier_loss: 0.3604 - detector_loss: 0.0454 - classifier_accuracy: 0.9301 - detector_mse: 0.0454\n",
      "Epoch 17/20\n",
      "6/6 [==============================] - 6s 921ms/step - loss: 0.3903 - classifier_loss: 0.3446 - detector_loss: 0.0457 - classifier_accuracy: 0.9086 - detector_mse: 0.0457\n",
      "Epoch 18/20\n",
      "6/6 [==============================] - 5s 905ms/step - loss: 0.3768 - classifier_loss: 0.3322 - detector_loss: 0.0446 - classifier_accuracy: 0.8871 - detector_mse: 0.0446\n",
      "Epoch 19/20\n",
      "6/6 [==============================] - 6s 921ms/step - loss: 0.3350 - classifier_loss: 0.2895 - detector_loss: 0.0455 - classifier_accuracy: 0.8978 - detector_mse: 0.0455\n",
      "Epoch 20/20\n",
      "6/6 [==============================] - 6s 906ms/step - loss: 0.3377 - classifier_loss: 0.2887 - detector_loss: 0.0490 - classifier_accuracy: 0.9247 - detector_mse: 0.0490\n"
     ]
    },
    {
     "data": {
      "text/plain": [
       "<keras.callbacks.History at 0x1c94967bb50>"
      ]
     },
     "execution_count": 10,
     "metadata": {},
     "output_type": "execute_result"
    }
   ],
   "source": [
    "model.fit(imgs, [y, bbox],\n",
    "          epochs=20,\n",
    "          batch_size=32,\n",
    "          shuffle=True,\n",
    "          verbose=1)"
   ]
  },
  {
   "cell_type": "code",
   "execution_count": null,
   "id": "5190d060",
   "metadata": {},
   "outputs": [],
   "source": []
  }
 ],
 "metadata": {
  "kernelspec": {
   "display_name": "Python 3 (ipykernel)",
   "language": "python",
   "name": "python3"
  },
  "language_info": {
   "codemirror_mode": {
    "name": "ipython",
    "version": 3
   },
   "file_extension": ".py",
   "mimetype": "text/x-python",
   "name": "python",
   "nbconvert_exporter": "python",
   "pygments_lexer": "ipython3",
   "version": "3.10.11"
  }
 },
 "nbformat": 4,
 "nbformat_minor": 5
}
